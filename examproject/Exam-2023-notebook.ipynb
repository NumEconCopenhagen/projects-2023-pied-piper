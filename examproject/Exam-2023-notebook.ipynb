{
 "cells": [
  {
   "attachments": {},
   "cell_type": "markdown",
   "metadata": {},
   "source": [
    "**Table of contents**<a id='toc0_'></a>    \n",
    "- 1. [Problem 1: Optimal taxation with government consumption](#toc1_)    \n",
    "- 2. [Problem 2: Labor adjustment costs](#toc2_)    \n",
    "- 3. [Problem 3: Global optimizer with refined multi-start](#toc3_)    \n",
    "\n",
    "<!-- vscode-jupyter-toc-config\n",
    "\tnumbering=true\n",
    "\tanchor=true\n",
    "\tflat=false\n",
    "\tminLevel=2\n",
    "\tmaxLevel=6\n",
    "\t/vscode-jupyter-toc-config -->\n",
    "<!-- THIS CELL WILL BE REPLACED ON TOC UPDATE. DO NOT WRITE YOUR TEXT IN THIS CELL -->"
   ]
  },
  {
   "attachments": {},
   "cell_type": "markdown",
   "metadata": {},
   "source": [
    "# Imports"
   ]
  },
  {
   "cell_type": "code",
   "execution_count": null,
   "metadata": {},
   "outputs": [],
   "source": [
    "from itertools import product\n",
    "import numpy as np\n",
    "from scipy import optimize\n",
    "from scipy import interpolate\n",
    "import sympy as sm\n",
    "import matplotlib.pyplot as plt\n",
    "import pandas as pd \n",
    "from scipy import linalg\n",
    "from scipy.optimize import minimize_scalar\n",
    "from scipy.optimize import minimize_scalar, root_scalar\n",
    "import Exam as ex\n",
    "import time\n",
    "from mpl_toolkits.mplot3d import Axes3D\n",
    "from Exam import problem2\n",
    "\n",
    "%matplotlib inline\n",
    "\n",
    "%load_ext autoreload\n",
    "%autoreload 2"
   ]
  },
  {
   "attachments": {},
   "cell_type": "markdown",
   "metadata": {},
   "source": [
    "## 1. <a id='toc1_'></a>[Problem 1: Optimal taxation with government consumption](#toc0_)"
   ]
  },
  {
   "attachments": {},
   "cell_type": "markdown",
   "metadata": {},
   "source": [
    "\n",
    "Consider a worker choosing hours of labor, $L\\in[0,24]$, to maximize utility: \n",
    "\n",
    "$$\n",
    "\\begin{align*}\n",
    "V(w,\\tau,G)&=\\max_{L\\in[0,24]}\\ln\\left(C^{\\alpha}G^{1-\\alpha}\\right)-\\nu\\frac{L^{2}}{2}\\\\&\\text{s.t.}\\\\&C=\\kappa+(1-\\tau)wL\n",
    "\\end{align*}\n",
    "$$\n",
    "\n",
    "where \n",
    "\n",
    "* $C$ is *private* consumption with weight $\\alpha\\in(0,1)$.\n",
    "* $\\kappa > 0$ is the *free private* consumption component.\n",
    "* $(1-\\tau)wL$ is the *costly private* consumption component.\n",
    "* $w > 0 $ is the real wage.\n",
    "* $\\tau \\in (0,1)$ is the labor-income tax rate.\n",
    "* $G > 0 $ is *government* consumption with weight $1-\\alpha$.\n",
    "* $\\nu > 0$ is the disutility of labor scaling factor"
   ]
  },
  {
   "attachments": {},
   "cell_type": "markdown",
   "metadata": {},
   "source": [
    "\n",
    "The baseline parameters are:\n",
    "\n",
    "$$\n",
    "\\begin{align*}\n",
    "\\alpha &= 0.5\\\\\n",
    "\\kappa &= 1.0\\\\\n",
    "\\nu &= \\frac{1}{2\\cdot16^2} \\\\\n",
    "w &= 1.0 \\\\ \n",
    "\\tau &= 0.30 \\\\\n",
    "\\end{align*}\n",
    "$$"
   ]
  },
  {
   "attachments": {},
   "cell_type": "markdown",
   "metadata": {},
   "source": [
    "**Question 1:** Verify that the optimal labor supply choice is $L^{\\star}(\\tilde{w}) =\\frac{-\\kappa+\\sqrt{\\kappa^{2}+4\\frac{\\alpha}{\\nu}\\tilde{w}^2}}{2\\tilde{w}}$, where $\\tilde{w} = (1-\\tau)w$, for $G\\in\\left\\{1.0 , 2.0\\right\\}$."
   ]
  },
  {
   "attachments": {},
   "cell_type": "markdown",
   "metadata": {},
   "source": [
    "# Defining the parameters "
   ]
  },
  {
   "cell_type": "code",
   "execution_count": 21,
   "metadata": {},
   "outputs": [],
   "source": [
    "# Define the symbols\n",
    "\n",
    "L = sm.symbols(\"L\")\n",
    "C = sm.symbols(\"C\")\n",
    "w = sm.symbols(\"w\")\n",
    "alpha = sm.symbols(\"alpha\")\n",
    "kappa = sm.symbols(\"kappa\")\n",
    "G = sm.symbols(\"G\")\n",
    "nu = sm.symbols(\"nu\")\n",
    "w_tilde = sm.symbols(\"w_tilde\")\n",
    "tau = sm.symbols(\"tau\")\n",
    "rho = sm.symbols(\"rho\")\n",
    "w_tilde = sm.symbols(\"w_tilde\")\n",
    "sigma = sm.symbols(\"sigma\")\n",
    "epsilon = sm.symbols(\"epsilon\")"
   ]
  },
  {
   "cell_type": "code",
   "execution_count": 26,
   "metadata": {},
   "outputs": [
    {
     "data": {
      "text/latex": [
       "$\\displaystyle \\frac{- \\kappa \\nu - \\sqrt{\\nu \\left(4 \\alpha w_{tilde}^{2} + \\kappa^{2} \\nu\\right)}}{2 \\nu w_{tilde}}$"
      ],
      "text/plain": [
       "(-kappa*nu - sqrt(nu*(4*alpha*w_tilde**2 + kappa**2*nu)))/(2*nu*w_tilde)"
      ]
     },
     "execution_count": 26,
     "metadata": {},
     "output_type": "execute_result"
    }
   ],
   "source": [
    "# 1. Define the utility function\n",
    "utility = sm.log(C**alpha * G**(1-alpha)) - nu * L**2 / 2\n",
    "\n",
    "# 2. Define the constraint equation\n",
    "constraint = sm.Eq(C, kappa + (1 - tau) * w * L)\n",
    "\n",
    "# 3. Substitute the value of w_tilde in the constraint equation\n",
    "constraint_subs = constraint.subs(w, w_tilde / (1 - tau))\n",
    "\n",
    "# 4. Isolate L from the budget constraint\n",
    "C_from_con = sm.solve(constraint_subs, C)[0]\n",
    "\n",
    "# 5. Substitute the expression for C in the utility function\n",
    "utility_subs = utility.subs(C, C_from_con)\n",
    "\n",
    "# 6. Find the first-order condition by differentiating the utility function with respect to L\n",
    "foc = sm.diff(utility_subs, L)\n",
    "\n",
    "# 7. Solve the first-order condition equation for L\n",
    "sol = sm.solve(sm.Eq(foc, 0), L)\n",
    "sol[0]"
   ]
  },
  {
   "attachments": {},
   "cell_type": "markdown",
   "metadata": {},
   "source": [
    "This solution is the same as the solution as we are asked to verify in the question "
   ]
  },
  {
   "attachments": {},
   "cell_type": "markdown",
   "metadata": {},
   "source": [
    "**Question 2:** Illustrate how $L^{\\star}(\\tilde{w})$ depends on $w$."
   ]
  },
  {
   "cell_type": "code",
   "execution_count": null,
   "metadata": {},
   "outputs": [],
   "source": [
    "# 1. Setting the baseline parameters\n",
    "alpha = 0.5\n",
    "kappa = 1.0\n",
    "nu = 1 / (2 * 16**2)\n",
    "tau = 0.30\n",
    "\n",
    "# 2. Defining the range of w values\n",
    "w_values = np.linspace(0.1, 10, 100)\n",
    "\n",
    "# 3. Computing the optimal labor supply\n",
    "optimal_labor = ex.optimal_labor_supply(w_values, alpha, kappa, nu, tau)\n",
    "\n",
    "# 4 Plotting the results\n",
    "plt.plot(w_values, optimal_labor)\n",
    "plt.xlabel('Wage, w')\n",
    "plt.ylabel('Optimal Labor Supply')\n",
    "plt.title('Optimal Labor Supply as a Function of w')\n",
    "plt.show()"
   ]
  },
  {
   "attachments": {},
   "cell_type": "markdown",
   "metadata": {},
   "source": [
    "Here we can see that for a real wage between 0 and 2 the the labor supply increases substantially. From about a real wage of 2 and onwards there is marginal diminishing returns in labor supply and the optimal labor supply is about 15.8"
   ]
  },
  {
   "attachments": {},
   "cell_type": "markdown",
   "metadata": {},
   "source": [
    "\n",
    "We now consider a government, who chooses $\\tau$ and spend all of the taxes on government consumption so:\n",
    "\n",
    "$$\n",
    "G = \\tau w L^{\\star}((1-\\tau)w)\n",
    "$$\n",
    "\n",
    "**Question 3:** Plot the implied $L$, $G$ and worker utility for a grid of $\\tau$-values.\n"
   ]
  },
  {
   "cell_type": "code",
   "execution_count": null,
   "metadata": {},
   "outputs": [],
   "source": [
    "# 1. Setting the baseline parameters\n",
    "alpha = 0.5\n",
    "kappa = 1.0\n",
    "nu = 1 / (2 * 16**2)\n",
    "w = 1.0\n",
    "\n",
    "# 2. Defining the grid of tau values\n",
    "tau_values = np.linspace(0.1, 0.9, 100)\n",
    "\n",
    "# 3. Computing the implied values for L, G, and utility for each tau value\n",
    "L_values = []\n",
    "G_values = []\n",
    "utility_values = []\n",
    "\n",
    "# 4. Computing the implied values for L, G, and utility for each tau value using loop\n",
    "for tau in tau_values:\n",
    "    # a. Computing the optimal labor supply, government consumption, and utility\n",
    "    w_tilde = (1 - tau) * w\n",
    "    L_opt = ex.optimal_labor_supply_w_tilde(w_tilde, alpha, kappa, nu)\n",
    "    G = ex.government_consumption(tau, w, alpha, kappa, nu)\n",
    "    utility = ex.worker_utility(tau, w, alpha, kappa, G, nu)\n",
    "    \n",
    "    # b. Appending the results to the lists\n",
    "    L_values.append(L_opt)\n",
    "    G_values.append(G)\n",
    "    utility_values.append(utility)\n",
    "\n",
    "# 5. Plotting the results\n",
    "plt.figure(figsize=(12, 4))\n",
    "\n",
    "# 6. Creating 3 subplots\n",
    "plt.subplot(1, 3, 1)\n",
    "plt.plot(tau_values, L_values)\n",
    "plt.xlabel('Tau')\n",
    "plt.ylabel('Labor Supply (L)')\n",
    "plt.title('Labor Supply as a Function of Tau')\n",
    "\n",
    "plt.subplot(1, 3, 2)\n",
    "plt.plot(tau_values, G_values)\n",
    "plt.xlabel('Tau')\n",
    "plt.ylabel('Government Consumption (G)')\n",
    "plt.title('Government Consumption as a Function of Tau')\n",
    "\n",
    "plt.subplot(1, 3, 3)\n",
    "plt.plot(tau_values, utility_values)\n",
    "plt.xlabel('Tau')\n",
    "plt.ylabel('Worker Utility')\n",
    "plt.title('Worker Utility as a Function of Tau')\n",
    "\n",
    "plt.tight_layout()\n",
    "plt.show()"
   ]
  },
  {
   "attachments": {},
   "cell_type": "markdown",
   "metadata": {},
   "source": [
    "In the first plot we can see that the higher the tax-rate the lower the labor supply. \n",
    "\n",
    "In the second plot the Goverment consumption function is plottet for tau. Here we can see that the higher the tax the higher the consumption until it reaches \n",
    "the limit where there is no labor supply to pay taxes tau.\n",
    "\n",
    "In the third plot the worker utility function of tau is plottet. It looks like a laffer curve where we can see that the optimal taxrate is approximately 50% \n"
   ]
  },
  {
   "attachments": {},
   "cell_type": "markdown",
   "metadata": {},
   "source": [
    "**Question 4:** Find the socially optimal tax rate $\\tau^{\\star}\\in(0,1)$ maximizing worker utility. Illustrate your result."
   ]
  },
  {
   "cell_type": "code",
   "execution_count": null,
   "metadata": {},
   "outputs": [],
   "source": [
    "# 1. Finding the index of the maximum utility value\n",
    "max_utility_index = np.argmax(utility_values)\n",
    "\n",
    "# 2. Getting the optimal tau and maximum worker utility\n",
    "tau_optimal = tau_values[max_utility_index]\n",
    "worker_utility_max = utility_values[max_utility_index]\n",
    "\n",
    "# 3. Creating plot\n",
    "plt.figure(figsize=(8, 4))\n",
    "plt.subplot(1, 1, 1)\n",
    "\n",
    "# 4. Plotting the results\n",
    "plt.plot(tau_values, utility_values)\n",
    "plt.axvline(x=tau_optimal, color='r', linestyle='--', label='Optimal Tau')\n",
    "\n",
    "# 5. Adding labels and title\n",
    "plt.xlabel('Tau')\n",
    "plt.ylabel('Worker Utility')\n",
    "plt.title('Worker Utility as a Function of Tau')\n",
    "plt.legend()\n",
    "plt.ylim(bottom=1.25)  \n",
    "plt.show()\n",
    "\n",
    "# 6. Printing the results\n",
    "print(f'Optimal tau: {tau_optimal:.3f}')\n",
    "print(f'Maximum worker utility: {worker_utility_max:.3f}')"
   ]
  },
  {
   "attachments": {},
   "cell_type": "markdown",
   "metadata": {},
   "source": [
    "As mentioned in the last question the optimal tax-rate looked like it was close to 50% and we can hereby confirm that the optimal taxrate that optimizes worker utility is 51,212 %"
   ]
  },
  {
   "attachments": {},
   "cell_type": "markdown",
   "metadata": {},
   "source": [
    "A more general preference formulation for the worker is:\n",
    "\n",
    "$$\n",
    "\\begin{align*}\n",
    "\\mathcal{V}(w,\\tau,G)&=\\max_{L\\in[0,24]}\\frac{\\left[ \\left( \\alpha C^{\\frac{\\sigma-1}{\\sigma}}+(1-\\alpha) G^{\\frac{\\sigma-1}{\\sigma}} \\right)^{\\frac{\\sigma}{\\sigma-1} }\\right]^{1-\\rho}-1}{1-\\rho}- \\nu\\frac{L^{1+\\varepsilon}}{1+\\varepsilon},\\,\\,\\,\\varepsilon,\\rho,\\sigma>0,\\,\\,\\,\\rho,\\sigma\\neq1\\\\&\\text{s.t.}\\\\&C=\\kappa+(1-\\tau)wL\n",
    "\\end{align*}    \n",
    "$$\n",
    "\n",
    "Optimal labor supply is now $L^{\\star}(\\tilde{w},G)$."
   ]
  },
  {
   "attachments": {},
   "cell_type": "markdown",
   "metadata": {},
   "source": [
    "Questions 5 and 6 must be answered with the general formulation, and for 2 different set of parameters:\n",
    "\n",
    "- Set 1:  $\\sigma = 1.001$, $\\rho = 1.001$ and $\\varepsilon = 1.0$.\n",
    "- Set 2:  $\\sigma = 1.5$, $\\rho = 1.5$ and $\\varepsilon = 1.0 $."
   ]
  },
  {
   "attachments": {},
   "cell_type": "markdown",
   "metadata": {},
   "source": [
    "**Question 5:** Find the $G$ that solves $G = \\tau w L^{\\star}((1-\\tau)w,G)$ using the $\\tau$ found in question 4.\n",
    "\n",
    "*Hint: First write code that solves the worker problem for given values of $G$ and $\\tau$. Then find the correct G based on this.*"
   ]
  },
  {
   "cell_type": "code",
   "execution_count": null,
   "metadata": {},
   "outputs": [],
   "source": [
    "# 4. Set_1 parameters\n",
    "sigma1 = 1.001\n",
    "rho1 = 1.001\n",
    "epsilon = 1.0\n",
    "tau1 = tau_optimal # Using the tau we found in question 4 \n",
    "\n",
    "# 5. Set_2 parameters\n",
    "sigma2 = 1.5\n",
    "rho2 = 1.5\n",
    "tau2 = tau_optimal # Using the tau we found in question 4 \n",
    "\n",
    "# 6. Finding G for Set 1\n",
    "G_set1 = ex.find_G(w, tau1, alpha, kappa, sigma1, rho1, epsilon, nu)\n",
    "\n",
    "# 7. Finding G for Set 2\n",
    "G_set2 = ex.find_G(w, tau2, alpha, kappa, sigma2, rho2, epsilon, nu)\n",
    "\n",
    "# 8. Printing the results: \n",
    "print(\"G for Set 1: {:.4f}\".format(G_set1))\n",
    "print(\"G for Set 2: {:.4f}\".format(G_set2))"
   ]
  },
  {
   "attachments": {},
   "cell_type": "markdown",
   "metadata": {},
   "source": [
    "We can hereby conclude that from the optimal labour the optimal consumption of G is: \n",
    "\n",
    "for Set 1: 7.6765\n",
    "\n",
    "for Set 2: 4.2077"
   ]
  },
  {
   "attachments": {},
   "cell_type": "markdown",
   "metadata": {},
   "source": [
    "**Question 6:** Find the socially optimal tax rate, $\\tau^{\\star}$, maximizing worker utility, while keeping $G = \\tau w L^{\\star}((1-\\tau)w,G)$."
   ]
  },
  {
   "cell_type": "code",
   "execution_count": null,
   "metadata": {},
   "outputs": [],
   "source": [
    "# 1. Find the socially optimal tax rate for Set 1\n",
    "result_set1 = optimize.minimize_scalar(ex.objective_set1, bounds=(0, 1), method='bounded')\n",
    "\n",
    "# 3. Using if statement as debugger to print solution if found\n",
    "if result_set1.success:\n",
    "    tau_star_set1 = result_set1.x\n",
    "    print(\"Socially optimal tax rate for Set 1 is tau =\", round(tau_star_set1, 4))\n",
    "else:\n",
    "    raise ValueError(\"Optimization failed for Set 1.\")\n",
    "\n",
    "# 3. Finding the socially optimal tax rate for Set 2\n",
    "result_set2 = optimize.minimize_scalar(ex.objective_set2, bounds=(0, 1), method='bounded')\n",
    "\n",
    "# 4. Using if statement as debugger to print solution if found\n",
    "if result_set2.success:\n",
    "    tau_star_set2 = result_set2.x\n",
    "    print(\"Socially optimal tax rate for Set 2 is tau =\", round(tau_star_set2, 4))\n",
    "else:\n",
    "    raise ValueError(\"Optimization failed for Set 2.\")"
   ]
  },
  {
   "attachments": {},
   "cell_type": "markdown",
   "metadata": {},
   "source": [
    "Penalty term explanation: \n",
    "\n",
    "So in the code we use: \"np.maximum(0, -constraint_val)\" this calculates the maximum value between 0 and the negative value of our \"constraint_val.\" \n",
    "\n",
    "The purpose of this is to ensure that if our \"constraint_val\" is negative (i.e., the constraint is violated), the penalty term will be positive, and if our \"constraint_val\" is non-negative (i.e., the constraint is satisfied), the penalty term will be zero.\n",
    "\n",
    "Here we then insert 1e8 which is a constant scaling factor used to amplify the penalty. It multiplies the result of np.maximum(0, -constraint_val) to make the penalty term relatively large in comparison to other components of the utility funciton.\n",
    "\n",
    "Hereby when we multiply the penalty term with a large value, the utility function is penalized heavily when the constraint is violated, effectively discouraging solutions that do not satisfy the constraint. This encourages the optimization algorithm to prioritize solutions that satisfy the constraint.\n",
    "\n",
    "The penalty term is then used in the utilityfunctions objective_set1 and objective_set2 to adjust the utility value. The higher the penalty, the more the utility is reduced when the constraint is violated, leading to a lower overall utility value for such solutions and therefore we can find the optimal solution that does satisfy the constraint. \n",
    "\n",
    "From this method we came to the conclusion that the Socially optimal tax rate for Set_1 and Set_2 are the above floats. "
   ]
  },
  {
   "attachments": {},
   "cell_type": "markdown",
   "metadata": {},
   "source": [
    "## 2. <a id='toc2_'></a>[Problem 2: Labor adjustment costs](#toc0_)"
   ]
  },
  {
   "attachments": {},
   "cell_type": "markdown",
   "metadata": {},
   "source": [
    "You own a hair salon. You employ hairdressers, $\\ell_t$, to produce haircuts, $y_t = \\ell_t$.\n",
    "\n",
    "The wage for each haridresser is $w$.\n",
    "\n",
    "The demand for haircuts implies that the price of haircuts you can charge is $p_t = \\kappa_t y_t^{-\\eta}$, where $\\kappa_t$ is a demand-shock and $\\eta \\in (0,1)$ measures the elasticity of demand.\n",
    "\n",
    "Profits are:\n",
    "\n",
    "$$\n",
    "\\Pi_t = p_t y_t - w \\ell_t = \\kappa_t \\ell_t^{1-\\eta} - w \\ell_t\n",
    "$$"
   ]
  },
  {
   "attachments": {},
   "cell_type": "markdown",
   "metadata": {},
   "source": [
    "Baseline parameters are:\n",
    "- $\\eta = 0.5$\n",
    "- $w = 1.0$"
   ]
  },
  {
   "attachments": {},
   "cell_type": "markdown",
   "metadata": {},
   "source": [
    "**Question 1:** Verify numerically that $\\ell_{t}=\\left(\\frac{(1-\\eta)\\kappa_{t}}{w}\\right)^{\\frac{1}{\\eta}}$ maximises profits, for $\\kappa\\in\\left\\{1.0 , 2.0\\right\\}$."
   ]
  },
  {
   "attachments": {},
   "cell_type": "markdown",
   "metadata": {},
   "source": [
    "To verify nummerically $\\ell_{t}=\\left(\\frac{(1-\\eta)\\kappa_{t}}{w}\\right)^{\\frac{1}{\\eta}}$ maximises profits, for $\\kappa\\in\\left\\{1.0 , 2.0\\right\\}$. We calculate different values of profit for generated values of kappa and l where each are compared with our current highest max profit.\n",
    "\n",
    "We then plot our optimal solution in a 3D plot."
   ]
  },
  {
   "cell_type": "code",
   "execution_count": null,
   "metadata": {},
   "outputs": [],
   "source": [
    "# 1. Calling class\n",
    "p2 = problem2()\n",
    "\n",
    "# 2. Calling function\n",
    "p2.profit_max1()\n",
    "\n",
    "#3. Printing results\n",
    "print(\"Maximum profit:\", p2.sol.max_profit)\n",
    "print(\"Optimal l:\", p2.sol.opt_l)\n",
    "print(\"Optimal kappa:\", p2.sol.opt_kappa)\n",
    "\n",
    "# 3. Creating 3D plot\n",
    "fig = plt.figure(figsize=(10, 10))\n",
    "ax = fig.add_subplot(111, projection='3d')\n",
    "ax.plot_surface(p2.sol.l_grid, p2.sol.kappa_grid, p2.sol.profit_grid, cmap='plasma', alpha=0.8)\n",
    "\n",
    "# 4. Add the optimal point to the plot\n",
    "ax.scatter([p2.sol.opt_kappa], [p2.sol.opt_l], [p2.sol.max_profit], color='red', s=100, edgecolors='black', marker='o')\n",
    "ax.text(p2.sol.opt_kappa, p2.sol.opt_l, p2.sol.max_profit, f\"Optimal Point: ({p2.sol.opt_kappa:.2f}, {p2.sol.opt_l:.2f}, {p2.sol.max_profit:.2f})\", color='black', fontsize=12)\n",
    "\n",
    "# 5. Set labels and titles\n",
    "ax.set_xlabel('l value')\n",
    "ax.set_ylabel('kappa value')\n",
    "ax.set_zlabel('Profit')\n",
    "ax.set_title('Profit as a function of kappa and l')\n",
    "\n",
    "plt.show()"
   ]
  },
  {
   "attachments": {},
   "cell_type": "markdown",
   "metadata": {},
   "source": [
    "The value for $\\kappa\\in\\left\\{1.0 , 2.0\\right\\}$ that maximises our profit is $\\kappa=2.0$. This is the highest value in our chosen interval $\\kappa$ symbolizes a demand shock a positive $\\kappa$-value is a positive demand shock and implies we employ more hairdressers. Therefore it makes sense that the $\\kappa$-value that maximizes profit is the highest possible."
   ]
  },
  {
   "attachments": {},
   "cell_type": "markdown",
   "metadata": {},
   "source": [
    "We now consider a *dynamic* version of the model.\n",
    "\n",
    "* The demand-shock is a so-called AR(1) in logs, \n",
    "\n",
    "$$\n",
    "\\log \\kappa_{t} = \\rho \\log \\kappa_{t-1} + \\epsilon_{t},\\,\\,\\, \\epsilon_{t+1} \\sim \\mathcal{N}(-0.5\\sigma_{\\epsilon}^2,\\sigma_{\\epsilon})\n",
    "$$\n",
    "\n",
    "* Any hiring or firing implies a fixed adjustment cost, $\\iota > 0 $.\n",
    "* Future profits are discounted with a monthly factor of $R \\in (0,1)$.\n",
    "\n",
    "The initial demand shock is $\\kappa_{-1} = 1$ and the planning horizon is 10 years, i.e. 120 months so $t \\in \\{0,1,2,\\dots,119\\}$. Initially you don't have any employees, $\\ell_{-1}=0$"
   ]
  },
  {
   "attachments": {},
   "cell_type": "markdown",
   "metadata": {},
   "source": [
    "\n",
    "The *ex post* value of the salon is *conditional* on the shock series is:\n",
    "\n",
    "$$\n",
    "h(\\epsilon_0,\\epsilon_1,\\dots,\\epsilon_{119}) = \\left[\\sum_{t=0}^{119}R^{-t}\\left[\\kappa_{t}\\ell_{t}^{1-\\eta}-w\\ell_{t}-\\boldsymbol{1}_{\\ell_{t}\\neq\\ell_{t-1}}\\iota\\right]\\right]\n",
    "$$\n",
    "\n",
    "The *ex ante* expected value of the salon can be approximated by\n",
    "\n",
    "$$\n",
    "H = \\mathbb{E}[h(\\epsilon_0,\\epsilon_1,\\dots,\\epsilon_{119})] \\approx \\frac{1}{K}\\sum_{k=0}^{K} h(\\epsilon_0^k,\\epsilon_1^k,\\dots,\\epsilon_{119}^k)\n",
    "$$\n",
    "\n",
    "where each $k\\in\\{0,1,\\dots,K-1\\}$ is a random shock series. Maximizing profitability means maximizing $H$.\n"
   ]
  },
  {
   "attachments": {},
   "cell_type": "markdown",
   "metadata": {},
   "source": [
    "Baseline parameters are: \n",
    "\n",
    "- $\\rho = 0.90$\n",
    "- $\\iota = 0.01$\n",
    "- $\\sigma_{\\epsilon} = 0.10$\n",
    "- $R = \\left(1+0.01\\right)^{1/12}$"
   ]
  },
  {
   "attachments": {},
   "cell_type": "markdown",
   "metadata": {},
   "source": [
    "**Question 2:** Calculate $H$ if the policy  $\\ell_{t}=\\left(\\frac{(1-\\eta)\\kappa_{t}}{w}\\right)^{\\frac{1}{\\eta}}$ from question 1 is followed. Choose $K$ so the approximation is good enough to not affect your results substantially."
   ]
  },
  {
   "cell_type": "code",
   "execution_count": null,
   "metadata": {},
   "outputs": [],
   "source": [
    "# 1. Calling class\n",
    "p2 = problem2()\n",
    "\n",
    "# 2. Calling function\n",
    "p2.profit_max2()"
   ]
  },
  {
   "attachments": {},
   "cell_type": "markdown",
   "metadata": {},
   "source": [
    "We have choosen a value of $K=100000$ as this almost gives the same value of H each time the simulation is run."
   ]
  },
  {
   "attachments": {},
   "cell_type": "markdown",
   "metadata": {},
   "source": [
    "Next, we consider policies on the form:\n",
    "\n",
    "$$\n",
    "\n",
    "\\ell_{t}=\\begin{cases}\n",
    "\\ell_t^{\\ast}  & \\text{if }\\left|\\ell_{t-1}-\\ell_t^{\\ast} \\right|>\\Delta\\\\\n",
    "\\ell_{t-1} & \\text{else }\n",
    "\\end{cases}\n",
    "\\\\\n",
    "\\text{where}\\,\\,\\ell_t^{\\ast} = \\left(\\frac{(1-\\eta)\\kappa_{t}}{w}\\right)^{\\frac{1}{\\eta}} \\\\\n",
    "\n",
    "$$\n",
    "With $\\Delta \\geq 0$ and $\\Delta = 0$ being the previous policy.\n"
   ]
  },
  {
   "attachments": {},
   "cell_type": "markdown",
   "metadata": {},
   "source": [
    "\n",
    "**Question 3:** Calculate $H$ if the policy above was followed with $\\Delta = 0.05$. Does it improve profitability?"
   ]
  },
  {
   "cell_type": "code",
   "execution_count": null,
   "metadata": {},
   "outputs": [],
   "source": [
    "# 1. Calling class\n",
    "p2 = problem2()\n",
    "\n",
    "# 2. Calling function\n",
    "p2.profit_max3()"
   ]
  },
  {
   "attachments": {},
   "cell_type": "markdown",
   "metadata": {},
   "source": [
    "We see that if we follow the new policy where the value of $\\Delta$ determines the amount of employees our profit is marginally higher."
   ]
  },
  {
   "attachments": {},
   "cell_type": "markdown",
   "metadata": {},
   "source": [
    "**Question 4:** Find the optimal $\\Delta$ maximizing $H$. Illustrate your result."
   ]
  },
  {
   "cell_type": "code",
   "execution_count": null,
   "metadata": {},
   "outputs": [],
   "source": [
    "# 1. Calling class\n",
    "p2 = problem2()\n",
    "\n",
    "# 2. Calling function\n",
    "p2.opt_delta()\n",
    "\n",
    "# Notice: This might take a while to run"
   ]
  },
  {
   "attachments": {},
   "cell_type": "markdown",
   "metadata": {},
   "source": [
    "The optimal value of Delta is: $\\Delta\\approx0.076$ this varies a small amount with each simulation. \n",
    "\n",
    "The optimal value is higher than what we choose in question 3, this new value of $\\Delta$ also gives a slightly higher profit. A higher value of $\\Delta$ implies that we choose  $\\ell_{t-1}$ more often and thereby stick to our previous number of employees lowering the cost associated with hiring and firing employees. This in turn results in a higher profit, H. "
   ]
  },
  {
   "attachments": {},
   "cell_type": "markdown",
   "metadata": {},
   "source": [
    "\n",
    "**Question 5:** Suggest an alternative policy you believe might improve profitability. Implement and test your policy.\n",
    "\n"
   ]
  },
  {
   "attachments": {},
   "cell_type": "markdown",
   "metadata": {},
   "source": [
    "As an alternative policy we have choosen to calculate an expected value of $\\kappa$. By taking the average of the 5 previously estimated $\\kappa$-values. $\\kappa_{expected}$ is then inserted into our policy funtion:\n",
    "\n",
    "$\\ell_{t(new)}=\\left(\\frac{(1-\\eta)(\\alpha*\\kappa_{t}+(1-\\alpha)*\\kappa_{t}^{expected})}{w}\\right)^{\\frac{1}{\\eta}}$\n",
    "\n",
    "Hereby our actor makes a decision on how many to employ based on the previous demand shocks."
   ]
  },
  {
   "cell_type": "code",
   "execution_count": null,
   "metadata": {},
   "outputs": [],
   "source": [
    "# 1. Calling class\n",
    "p2 = problem2()\n",
    "\n",
    "# 2. Calling function\n",
    "p2.profit_max5()"
   ]
  },
  {
   "attachments": {},
   "cell_type": "markdown",
   "metadata": {},
   "source": [
    "We see that our profit is marginally lower than the one generated in question 3, implying that our policy change did not increase the profit. "
   ]
  },
  {
   "attachments": {},
   "cell_type": "markdown",
   "metadata": {},
   "source": [
    "## 3. <a id='toc3_'></a>[Problem 3: Global optimizer with refined multi-start](#toc0_)"
   ]
  },
  {
   "attachments": {},
   "cell_type": "markdown",
   "metadata": {},
   "source": [
    "We consider the Griewank function:\n",
    "\n",
    "$$ f(\\boldsymbol{x}) = \\sum^n_{i=1} \\frac{x^2_i}{4000}-\\prod^n_{i=1}\\cos\\left(\\frac{x_i}{\\sqrt{i}}\\right)+1$$\n",
    "\n",
    "The **global minimum** of this function is $f(0,0) = 0$ (remember: $\\cos(0)=1$).<br>\n",
    "But the function also have a lot of **local minima**."
   ]
  },
  {
   "attachments": {},
   "cell_type": "markdown",
   "metadata": {},
   "source": [
    "A **refined global optimizer with multi-start** is:\n",
    "\n",
    "1. Choose *bounds* for $\\mathbf{x}$ and *tolerance* $\\tau > 0$.\n",
    "2. Choose number of *warm-up iterations*, $\\underline{K} > 0$ and *maximum number of iterations*, $K > \\underline{K}$.\n",
    "3. In each iteration for $k \\in \\{0,1,\\dots,K-1\\}$:\n",
    "\n",
    "    A. Draw random $\\mathbf{x}^k$ uniformly within chosen bounds.\n",
    "\n",
    "    B. If $k < \\underline{K}$ go to step E.\n",
    "\n",
    "    C. Calculate $\\chi^k = 0.50\\cdot\\frac{2}{1+\\exp((k-\\underline{K})/100)}$  \n",
    "\n",
    "    D. Set $\\mathbf{x}^{k0} = \\chi^k \\mathbf{x}^k + (1-\\chi^k)\\mathbf{x}^{\\ast} $\n",
    "\n",
    "    E. Run optimizer with $\\mathbf{x}^{k0}$ as initial guess and $\\mathbf{x}^{k\\ast}$ as result.\n",
    "\n",
    "    F. Set $\\mathbf{x}^{\\ast} = \\mathbf{x}^{k\\ast}$ if $k = 0$ or $f(\\mathbf{x}^{k\\ast}) < f(\\mathbf{x}^{\\ast})$\n",
    "\n",
    "    G. If $f(\\mathbf{x}^{\\ast}) < \\tau$ go to step 4.\n",
    "\n",
    "4. Return the result $\\mathbf{x}^{\\ast}$."
   ]
  },
  {
   "attachments": {},
   "cell_type": "markdown",
   "metadata": {},
   "source": [
    "As settings we choose:\n",
    "\n",
    "* $x_1,x_2 \\in  [-600,600]$\n",
    "* $\\tau = 10^{-8}$\n",
    "* $\\underline{K}=10$\n",
    "* $K=1000$\n",
    "\n",
    "The optimizer in Step 3.E is `BFGS` with a tolerance of $\\tau$."
   ]
  },
  {
   "attachments": {},
   "cell_type": "markdown",
   "metadata": {},
   "source": [
    "**Question 1:** Implement the refined global optimizer with multi-start. Illustrate how the effective initial guesses $\\mathbf{x}^{k0}$ vary with the iteration counter $k$."
   ]
  },
  {
   "attachments": {},
   "cell_type": "markdown",
   "metadata": {},
   "source": [
    "We start by defining the Griewank function, which is known for having many regularly distributed local minima. We have generated a Griewank plot below to show its destinctive shape.\n",
    "\n",
    "It is firstly being defined as a wrapper function \"griewank\", which wraps around our \"griewank_\" function. \n",
    "We need the wrapper function when using our optimization algorithm (BFGS), as our wrapper function allows the Griewank fucntion to take a single argument, an array, instead of multiple arguments. "
   ]
  },
  {
   "cell_type": "code",
   "execution_count": null,
   "metadata": {},
   "outputs": [],
   "source": [
    "# 1. Defing wrapper function\n",
    "def griewank(x):\n",
    " return griewank_(x[0],x[1])\n",
    "\n",
    "# 2. Actual Griewank function\n",
    "def griewank_(x):\n",
    "    A = x[0]**2/4000 + x[1]**2/4000\n",
    "    B = np.cos(x[0]) * np.cos(x[1]/np.sqrt(2))\n",
    "    return A - B + 1"
   ]
  },
  {
   "cell_type": "code",
   "execution_count": null,
   "metadata": {},
   "outputs": [],
   "source": [
    "# 1. Generating my x and y values\n",
    "x = np.linspace(-10, 10, 500)\n",
    "y = np.linspace(-10, 10, 500)\n",
    "\n",
    "# 2. Creating a meshgrid of our x and y values\n",
    "X, Y = np.meshgrid(x, y)\n",
    "\n",
    "# 3. Use a list comprehension to evaluate the function at each point\n",
    "Z = np.array([griewank_(np.array([x,y])) for x,y in zip(np.ravel(X), np.ravel(Y))])\n",
    "Z = Z.reshape(X.shape)\n",
    "\n",
    "# 4. Create a 3D plot\n",
    "fig = plt.figure(figsize=(10, 7))\n",
    "ax = fig.add_subplot(111, projection='3d')\n",
    "ax.plot_surface(X, Y, Z, cmap='magma')\n",
    "\n",
    "# 5. Set labels and title\n",
    "ax.set_title('Griewank function')\n",
    "ax.set_xlabel('X')\n",
    "ax.set_ylabel('Y')\n",
    "ax.set_zlabel('Z')\n",
    "\n",
    "plt.show()"
   ]
  },
  {
   "attachments": {},
   "cell_type": "markdown",
   "metadata": {},
   "source": [
    "Because we are using the BFGS optimizer we have to set warm up iterations where we use randomly generated initial guess for x.\n",
    "After the warmup period our optimizer focus on a specific chosen point and minimizes this. \n",
    "\n",
    "We also set a tolerance which says that if the function value of a current solution comes close enough to the optimal solution, our algorithm stops eventhough it might not have found the true minimum."
   ]
  },
  {
   "cell_type": "code",
   "execution_count": null,
   "metadata": {},
   "outputs": [],
   "source": [
    "# 1. Setting parameters for BFGS optimizer\n",
    "lower_bound = np.array([-600, -600]) \n",
    "upper_bound = np.array([600, 600])\n",
    "K_warm = 10 # warmup iterations\n",
    "K_max = 1000 # max iterations\n",
    "tau = 1e-8 # tolerance\n",
    "repeat = 10 # number of times to repeat the optimizer"
   ]
  },
  {
   "cell_type": "code",
   "execution_count": null,
   "metadata": {},
   "outputs": [],
   "source": [
    "# 1. Run the repeated optimizer\n",
    "x_opt, y_opt, x_initial_guesses, overall_iterations = ex.repeated_global_optimize(griewank_, lower_bound, upper_bound, K_warm, K_max, tau, repeat)\n",
    "\n",
    "# 2. Print result\n",
    "print(\"Optimal solution: \", x_opt)\n",
    "print(\"Minimum function value: \", y_opt)\n",
    "print(\"Total iterations: \", overall_iterations)\n",
    "\n",
    "# 3. Plotting initial guesses\n",
    "plt.figure(figsize=(10, 6))\n",
    "x_initial_guesses = np.array(x_initial_guesses)\n",
    "plt.scatter(range(len(x_initial_guesses)), x_initial_guesses[:, 0], label=\"x1\", alpha=0.7)\n",
    "plt.scatter(range(len(x_initial_guesses)), x_initial_guesses[:, 1], label=\"x2\", alpha=0.7)\n",
    "\n",
    "# 4. Setting label and legend\n",
    "plt.xlabel(\"Iteration\")\n",
    "plt.ylabel(\"Initial guess value\")\n",
    "plt.title(\"Initial guesses for each iteration\")\n",
    "plt.legend()\n",
    "\n",
    "plt.show()"
   ]
  },
  {
   "attachments": {},
   "cell_type": "markdown",
   "metadata": {},
   "source": [
    "**Question 2:** Is it a better idea to set $\\underline{K} = 100$? Is the convergence faster?"
   ]
  },
  {
   "attachments": {},
   "cell_type": "markdown",
   "metadata": {},
   "source": [
    "During the warmup iterations our initial number is set at a randomly generated point and the optimization is performed independently from previous iterations. By increasing our number of iterations from 10 to 100 we achieve a more \"rough\" understanding of the dataset, we spend more time exploring the dataset. This reduces the time spend on optimizing for a single points. Therefore it is a trade-off. We are measuring the computation time for each of the two scenarios and the iterations used to find the optimal solution. \n",
    "\n",
    "The convergence rate might be faster with a higher number of warmup iterations, if one of the randomly generated points happen to be close to a minima, but we can not be sure of this. It might as well converge slower. \n",
    "\n",
    "Because we are working with a Griewank function which is known for having multiple local minima, it might be an idea to increase the number of warmup iterations in order to have a higher chance of exploring a global minimum.\n",
    "\n",
    "In our solution above we ran the optimizer 10 times in order to increase our chances of exploring a global minimum. If the optimization code is only run once the chance of hitting a local minima that is not a global minimum was quite high. In the code below we will only be running the optimizer once with both 10 and 100 warmup iterations. "
   ]
  },
  {
   "cell_type": "code",
   "execution_count": null,
   "metadata": {},
   "outputs": [],
   "source": [
    "# 1. Choosing our two warmup counts\n",
    "warmup_counts = [10, 100]\n",
    "\n",
    "# 2. Creating loop to iterate over warmup counts and optimizing\n",
    "for warmup_count in warmup_counts:\n",
    "\n",
    "    # a. Start time measurement\n",
    "    start_time = time.time()\n",
    "\n",
    "    # b. Run the optimizer\n",
    "    x_star, y_star, x_initial_guesses, iterations = ex.global_optimize(\n",
    "        griewank_, lower_bound, upper_bound, warmup_count, K_max, tau)\n",
    "\n",
    "    # c. End time measurement\n",
    "    end_time = time.time()\n",
    "\n",
    "    # d. Print the results\n",
    "    print(f\"Warmup count: {warmup_count}\")\n",
    "    print(f\"Optimal solution: {x_star}\")\n",
    "    print(f\"Minimum function value: {y_star}\")\n",
    "    print(f\"Execution time: {end_time - start_time:.3f} seconds\")\n",
    "    print(f\"Number of iterations: {iterations}\")\n",
    "    \n",
    "    # e. Creating plot\n",
    "    plt.figure(figsize=(10, 6))\n",
    "\n",
    "    # f. Plotting values\n",
    "    x_initial_guesses = np.array(x_initial_guesses)\n",
    "    plt.scatter(range(len(x_initial_guesses)), x_initial_guesses[:, 0], label=\"x1\", alpha=0.7)\n",
    "    plt.scatter(range(len(x_initial_guesses)), x_initial_guesses[:, 1], label=\"x2\", alpha=0.7)\n",
    "\n",
    "    # g. Adding vertical line at warmup count\n",
    "    plt.axvline(x=warmup_count, color='green', linestyle='--', label=f\"Warmup iterations={warmup_count}\")  # add vertical line at x=10\n",
    "    \n",
    "    # h. Setting labels and legend\n",
    "    plt.xlabel(\"Iteration\")\n",
    "    plt.ylabel(\"Initial guess value\")\n",
    "    plt.title(f\"Initial guesses for each iteration (Warmup count: {warmup_count})\")\n",
    "    plt.legend()\n",
    "    \n",
    "    plt.show()"
   ]
  },
  {
   "attachments": {},
   "cell_type": "markdown",
   "metadata": {},
   "source": [
    "The first plot is for 10 warmup iterations and the other for 100. We see a clear visible difference in our two plots, as we would expect the first 100 iterations are a lot less centered when 100 warmup iterations are chosen, as these are randomly uniform distributed. The end of the warmup is shown by the green vertical line.\n",
    "\n",
    "We have measuered the computation time it has to find the minimum function value for both warmup choices, the execution time is always smaller when running the code with 10 warmups rather than 100. Although the time difference is quite small. \n",
    "\n",
    "As well as this we have measured the number of iterations it takes to find the optimal value for the different warmup choices. Whenever we run the code we see that the number of iterations is always lower for 10 warmups, often being around half the number of iterations it takes the one with 100 warmups. This is because when using 10 warmups it quickly finds a possible global minimum and \"explores\" this in-depth. \n",
    "\n",
    "An upside to choosing 100 iterations is that because the optimizer explores the dataset more, it always find the global minimum. Whereas our optimizer with 10 warmups sometimes find a local minima within our tolerance and stops there. "
   ]
  }
 ],
 "metadata": {
  "kernelspec": {
   "display_name": "base",
   "language": "python",
   "name": "python3"
  },
  "language_info": {
   "codemirror_mode": {
    "name": "ipython",
    "version": 3
   },
   "file_extension": ".py",
   "mimetype": "text/x-python",
   "name": "python",
   "nbconvert_exporter": "python",
   "pygments_lexer": "ipython3",
   "version": "3.9.16"
  },
  "orig_nbformat": 4
 },
 "nbformat": 4,
 "nbformat_minor": 2
}
