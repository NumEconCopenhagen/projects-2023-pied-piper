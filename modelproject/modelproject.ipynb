{
 "cells": [
  {
   "attachments": {},
   "cell_type": "markdown",
   "metadata": {},
   "source": [
    "# MODEL PROJECT "
   ]
  },
  {
   "attachments": {},
   "cell_type": "markdown",
   "metadata": {},
   "source": [
    "Imports and set magics:"
   ]
  },
  {
   "cell_type": "code",
   "execution_count": 1,
   "metadata": {},
   "outputs": [],
   "source": [
    "# We start out by importing packages\n",
    "import numpy as np\n",
    "from scipy import optimize\n",
    "import sympy as sm\n",
    "import matplotlib.pyplot as plt\n",
    "from sympy import Symbol\n",
    "import ipywidgets as widgets\n",
    "from sympy.solvers import solve\n",
    "sm.init_printing(use_unicode=True)\n",
    "from IPython.display import display\n",
    "from modelproject import SolowModel\n",
    "\n",
    "# autoreload modules when code is run\n",
    "%load_ext autoreload\n",
    "%autoreload 2"
   ]
  },
  {
   "attachments": {},
   "cell_type": "markdown",
   "metadata": {},
   "source": [
    "# Description of Broydens method \n",
    "\n",
    "Boyden’s method is a numerical algorithm used for solving systems of nonlinear equations. It is an iterative method that finds the roots of a set of n nonlinear equations in n variables, where n can be any positive integer. \n",
    "\n",
    "It uses the secant method, which uses a finite difference approximation to estimate the Jacobian matrix. Here it uses the current approximation of the Jacobian matrix and the changes in the values of the variables, to compute a new estimate of the Jacobian matrix at the next iteration."
   ]
  },
  {
   "attachments": {},
   "cell_type": "markdown",
   "metadata": {},
   "source": [
    "# Model description\n",
    "\n",
    "The Solow-model with human capital can be described by the following equations: \n",
    "\n",
    "$K_t =$ Physical capital   \n",
    "\n",
    "$H_t=$ Human capital \n",
    "\n",
    "$L_t =$ Labour\n",
    "\n",
    "$A_t =$ Teknological level\n",
    "\n",
    "The overall production function is: \n",
    "\n",
    "$Y_t = K_t^{\\alpha}H_t^{\\varphi}(A_tL_t)^{1-\\alpha-\\varphi}, \\quad 0<\\alpha<1, 0<\\varphi<1, \\alpha+\\varphi<1$\n",
    "\n",
    "The household decides how much to save of physical capital and of human capital.\n",
    "The savings rate is hereby: \n",
    "\n",
    "$S_t = (s_K + s_H)Y_t$\n",
    "Here $s_H$ denotes the savings of human kapital and $s_K$ denotes the savings of physical capital. \n",
    "\n",
    "Accumulation of Human capital: \n",
    "$ H_{t+1}=s_HY_t+(1-\\delta)H_t, $\n",
    "\n",
    "Accumulation of capital: \n",
    "$K_{t+1}=s_KY_t+(1-\\delta)K_t  $ \n",
    "\n",
    "Accumulation of Technology: \n",
    "$  A_{t+1} = (1+g)A_t $\n",
    "\n",
    "Accumulation of Labour:\n",
    "$L_{t+1} = (1+n)L_t $\n",
    "\n",
    "g denotes the growth rate in technology, n denotes the growthrate in the population and $\\delta$ denotes the depreciation in capital\n",
    "\n",
    "To construct the transition equations we need to define the \"tilde\" variables: \n",
    "\n",
    "$\\tilde{k}_{t}= \\frac{K_t}{A_tL_t}$\n",
    "\n",
    "$\\tilde{h}_{t}= \\frac{H_t}{A_tL_t}$\n",
    "\n",
    "From here we can construct the two transition eqations used to construct the nullclines: \n",
    "\n",
    "For physical capital: \n",
    "$\\tilde{k}_{t+1} = \\frac{1}{(1+n)(1+g)}(s_K\\tilde{k}_{t}^{\\alpha}\\tilde{h}_{t}^{\\varphi}+(1+{\\delta})\\tilde{k}_{t})$\n",
    "\n",
    "For human capital: \n",
    "$\\tilde{h}_{t+1} = \\frac{1}{(1+n)(1+g)}(s_H\\tilde{k}_{t}^{\\alpha}\\tilde{h}_{t}^{\\varphi}+(1+{\\delta})\\tilde{h}_{t})$\n",
    "\n",
    "The two hull-clines are defined as: \n",
    "\n",
    "$\\tilde{k}_{t+1}-\\tilde{k}_{t} = \\frac{1}{(1+n)(1+g)}(s_K\\tilde{k}_{t}^{\\alpha}\\tilde{h}_{t}^{\\varphi}-(n+g+{\\delta}+ng)\\tilde{k}_{t})$\n",
    "\n",
    "$\\tilde{h}_{t+1}-\\tilde{h}_{t} = \\frac{1}{(1+n)(1+g)}(s_H\\tilde{k}_{t}^{\\alpha}\\tilde{h}_{t}^{\\varphi}-(n+g+{\\delta}+ng)\\tilde{h}_{t})$"
   ]
  },
  {
   "attachments": {},
   "cell_type": "markdown",
   "metadata": {},
   "source": [
    "# Analytical solution"
   ]
  },
  {
   "cell_type": "code",
   "execution_count": 2,
   "metadata": {},
   "outputs": [],
   "source": [
    "# First we define our symbols:\n",
    "k_tilde = sm.symbols(\"ktilde_t\")\n",
    "h_tilde = sm.symbols(\"htilde_t\")\n",
    "alpha = sm.symbols(\"alpha\")\n",
    "phi = sm.symbols(\"phi\")\n",
    "delta = sm.symbols(\"delta\")\n",
    "g = sm.symbols(\"g\")\n",
    "n = sm.symbols(\"n\")\n",
    "sK = sm.symbols(\"s_K\")\n",
    "sH = sm.symbols(\"s_H\")"
   ]
  },
  {
   "cell_type": "code",
   "execution_count": 3,
   "metadata": {},
   "outputs": [
    {
     "data": {
      "image/png": "[encoded data removed]",
      "text/latex": [
       "$\\displaystyle \\left\\{ \\tilde{h}_{t} : \\frac{\\tilde{h}_{t}^{\\phi} \\tilde{k}_{t}^{\\alpha} s_{H}}{\\delta + g n + g + n}, \\  \\tilde{k}_{t} : \\frac{\\tilde{h}_{t}^{\\phi} \\tilde{k}_{t}^{\\alpha} s_{K}}{\\delta + g n + g + n}\\right\\}$"
      ],
      "text/plain": [
       "⎧        φ   α                φ   α      ⎫\n",
       "⎪     h̃ₜ ⋅k̃ₜ ⋅s_H        h̃ₜ ⋅k̃ₜ ⋅s_K ⎪\n",
       "⎨h̃ₜ: ───────────────, k̃ₜ: ───────────────⎬\n",
       "⎪    δ + g⋅n + g + n      δ + g⋅n + g + n⎪\n",
       "⎩                                        ⎭"
      ]
     },
     "metadata": {},
     "output_type": "display_data"
    }
   ],
   "source": [
    "# First we define the transition equations:\n",
    "k_trans = sm.Eq(k_tilde, 1/((1+n)*(1+g)) * (sK * k_tilde**alpha * h_tilde**phi + (1-delta) * k_tilde))\n",
    "h_trans = sm.Eq(h_tilde, 1/((1+n)*(1+g)) * (sH * k_tilde**alpha * h_tilde**phi + (1-delta) * h_tilde))\n",
    "\n",
    "# Solving the transition equations\n",
    "sm.nonlinsolve([k_trans, h_trans], [k_tilde, h_tilde])\n",
    "ss = sm.solve((k_trans, h_trans),(k_tilde,h_tilde), implicit=True, manual=True)\n",
    "display(ss)"
   ]
  },
  {
   "attachments": {},
   "cell_type": "markdown",
   "metadata": {},
   "source": [
    "# Numerical solution"
   ]
  },
  {
   "attachments": {},
   "cell_type": "markdown",
   "metadata": {},
   "source": [
    "We use the broyden algorithm described above in a numerical optimizer to find the numerical solution for our model"
   ]
  },
  {
   "cell_type": "code",
   "execution_count": 4,
   "metadata": {},
   "outputs": [
    {
     "name": "stdout",
     "output_type": "stream",
     "text": [
      "From our optimizer we get the numerical solution: k* = 58.02, h* = 58.02\n"
     ]
    },
    {
     "name": "stderr",
     "output_type": "stream",
     "text": [
      "c:\\Users\\Asger Thimmer\\projects-2023-pied-piper-7\\modelproject\\modelproject.py:104: RuntimeWarning: invalid value encountered in double_scalars\n",
      "  return (h_tilde**par.phi_v * k_tilde**par.alpha_v *par.sK_v +k_tilde*(1-par.delta_v))/((par.g_v+1) * (par.n_v+1)) -k_tilde\n",
      "c:\\Users\\Asger Thimmer\\projects-2023-pied-piper-7\\modelproject\\modelproject.py:109: RuntimeWarning: invalid value encountered in double_scalars\n",
      "  return (h_tilde**par.phi_v * k_tilde**par.alpha_v *par.sH_v +h_tilde*(1-par.delta_v))/((par.g_v+1) * (par.n_v+1)) -h_tilde\n",
      "c:\\ProgramData\\anaconda3\\lib\\site-packages\\scipy\\optimize\\_nonlin.py:912: RuntimeWarning: invalid value encountered in divide\n",
      "  d = v / vdot(df, v)\n"
     ]
    }
   ],
   "source": [
    "mp = SolowModel()\n",
    "\n",
    "mp.Num_SS()"
   ]
  },
  {
   "attachments": {},
   "cell_type": "markdown",
   "metadata": {},
   "source": [
    "# Visual solution"
   ]
  },
  {
   "attachments": {},
   "cell_type": "markdown",
   "metadata": {},
   "source": [
    "To make the visual solution we derive the nullclines from our transition equations and plot them in a phasediagram. The SS for $\\tilde{k}_{t}$ & $\\tilde{h}_{t}$ is where to the lines cross each other."
   ]
  },
  {
   "cell_type": "code",
   "execution_count": 5,
   "metadata": {},
   "outputs": [
    {
     "data": {
      "application/vnd.jupyter.widget-view+json": {
       "model_id": "bb6df0270cf2404e8987f3d5d481efca",
       "version_major": 2,
       "version_minor": 0
      },
      "text/plain": [
       "Button(description='Reset sliders', style=ButtonStyle())"
      ]
     },
     "metadata": {},
     "output_type": "display_data"
    },
    {
     "data": {
      "application/vnd.jupyter.widget-view+json": {
       "model_id": "45c1f66b41904b6ba8c8a9fbcf06f93d",
       "version_major": 2,
       "version_minor": 0
      },
      "text/plain": [
       "interactive(children=(FloatSlider(value=0.33, description='Alpha:', max=1.0, min=0.1, step=0.01), FloatSlider(…"
      ]
     },
     "metadata": {},
     "output_type": "display_data"
    }
   ],
   "source": [
    "mp = SolowModel()\n",
    "# Isolating h_tilde in the transition equation and setting it equal to 0  \n",
    "k_solve = sm.solve(k_trans,h_tilde)[0]\n",
    "h_solve = sm.solve(h_trans,h_tilde)[0]\n",
    "\n",
    "# We convert our nullclines into python functions\n",
    "k_null_py = sm.lambdify([k_tilde, alpha, delta, g, n, phi, sK], k_solve)\n",
    "h_null_py = sm.lambdify([k_tilde, alpha, delta, g, n, phi, sH], h_solve)\n",
    "\n",
    "# Making a button to reset the value of our sliders to the initial value\n",
    "reset_button = widgets.Button(description=\"Reset sliders\")\n",
    "\n",
    "# Defining the button\n",
    "def reset_sliders(button):\n",
    "    alpha_slider.value = mp.par.alpha_guess\n",
    "    phi_slider.value = mp.par.phi_guess\n",
    "    sK_slider.value = mp.par.sK_guess\n",
    "    sH_slider.value = mp.par.sH_guess\n",
    "reset_button.on_click(reset_sliders)\n",
    "display(reset_button)\n",
    "\n",
    "# Creating our sliders \n",
    "alpha_slider = widgets.FloatSlider(\n",
    "                min=0.1, max=1, step=0.01, value=mp.par.alpha_guess, description=\"Alpha:\")\n",
    "phi_slider = widgets.FloatSlider(\n",
    "                min=0.1, max=1, step=0.01, value=mp.par.phi_guess, description=\"Phi:\")\n",
    "sK_slider = widgets.FloatSlider(\n",
    "                min=0.1, max=1, step=0.01, value=mp.par.sK_guess, description=\"sK:\")\n",
    "sH_slider = widgets.FloatSlider(\n",
    "                min=0.1, max=1, step=0.01, value=mp.par.sH_guess, description=\"sH:\")\n",
    "\n",
    "\n",
    "# Adding the sliders to our diagram\n",
    "widgets.interact(mp.phasediagram, \n",
    "                alpha_guess=alpha_slider,\n",
    "                phi_guess=phi_slider,\n",
    "                sK_guess=sK_slider,\n",
    "                sH_guess=sH_slider,\n",
    "                k_null_py=widgets.fixed(k_null_py),\n",
    "                h_null_py=widgets.fixed(h_null_py),\n",
    "                )\n",
    "\n",
    "plt.show()    "
   ]
  },
  {
   "attachments": {},
   "cell_type": "markdown",
   "metadata": {},
   "source": [
    "# Simulating model with a changeable shock to sK"
   ]
  },
  {
   "cell_type": "code",
   "execution_count": 6,
   "metadata": {},
   "outputs": [
    {
     "data": {
      "application/vnd.jupyter.widget-view+json": {
       "model_id": "02dd3592329249f196d15628389d51d9",
       "version_major": 2,
       "version_minor": 0
      },
      "text/plain": [
       "interactive(children=(FloatSlider(value=0.2, continuous_update=False, description='sK:', max=1.0, min=0.12, st…"
      ]
     },
     "metadata": {},
     "output_type": "display_data"
    },
    {
     "data": {
      "text/plain": [
       "<function __main__.shock_update(shock)>"
      ]
     },
     "execution_count": 6,
     "metadata": {},
     "output_type": "execute_result"
    }
   ],
   "source": [
    "mp = SolowModel()\n",
    "\n",
    "\n",
    "# Setting the slider parameters\n",
    "shock_slider = widgets.FloatSlider(\n",
    "                min=0.12, max=1, step=0.01, value=0.2, description=\"sK:\",continuous_update=False)\n",
    "\n",
    "# Defining the slider \n",
    "def shock_update(shock):\n",
    "    mp.sK_shock(shock)\n",
    "    # Clearing y_growth list to allow for new values\n",
    "    #y_growth.clear() \n",
    "    plt.show()\n",
    "\n",
    "# Adding the sliders to our diagram\n",
    "widgets.interact(shock_update, shock=shock_slider)"
   ]
  },
  {
   "attachments": {},
   "cell_type": "markdown",
   "metadata": {},
   "source": [
    "# Extension: Simulating solow model with human capital and oil"
   ]
  },
  {
   "cell_type": "code",
   "execution_count": 7,
   "metadata": {},
   "outputs": [
    {
     "name": "stderr",
     "output_type": "stream",
     "text": [
      "c:\\Users\\Asger Thimmer\\projects-2023-pied-piper-7\\modelproject\\modelproject.py:185: RuntimeWarning: divide by zero encountered in log\n",
      "  sol.yG.append(np.log(sol.y[i+1])-np.log(sol.y[i]))\n",
      "c:\\Users\\Asger Thimmer\\projects-2023-pied-piper-7\\modelproject\\modelproject.py:202: RuntimeWarning: divide by zero encountered in log\n",
      "  sol.ext_yG.append(np.log(sol.ext_y[i+1])-np.log(sol.ext_y[i])) # Growth in output appended to list\n",
      "c:\\Users\\Asger Thimmer\\projects-2023-pied-piper-7\\modelproject\\modelproject.py:202: RuntimeWarning: invalid value encountered in double_scalars\n",
      "  sol.ext_yG.append(np.log(sol.ext_y[i+1])-np.log(sol.ext_y[i])) # Growth in output appended to list\n",
      "No artists with labels found to put in legend.  Note that artists whose label start with an underscore are ignored when legend() is called with no argument.\n"
     ]
    },
    {
     "data": {
      "image/png": "[encoded data removed]",
      "text/plain": [
       "<Figure size 1300x500 with 1 Axes>"
      ]
     },
     "metadata": {},
     "output_type": "display_data"
    }
   ],
   "source": [
    "mp = SolowModel()\n",
    "\n",
    "mp.extension()"
   ]
  },
  {
   "attachments": {},
   "cell_type": "markdown",
   "metadata": {},
   "source": [
    "# Conclusion"
   ]
  },
  {
   "attachments": {},
   "cell_type": "markdown",
   "metadata": {},
   "source": [
    "To conclude our model project we have described the solow model with human capital. Made an analytical, numerical and visual solution. Simulated the the model with a changable shock variable and extended the model with oil. \n",
    "\n",
    "We can conclude that an increase in the savingsrate for physical capital increases the initial growth i y. On top of this we can conclude from our visual solution of the model that an increase in either the svaingsrate of human capital $s_H$ or the savingsrate physical capital $s_K$ will increase the steadysate ceteris paribus.\n",
    "\n",
    "Futhermore we can conclude from our analysis that if we add oil to the model as a diminising nature resource the growth in y will be negative approximately after 20 periods compared to a positive growth in y from our baseline model.  "
   ]
  }
 ],
 "metadata": {
  "kernelspec": {
   "display_name": "base",
   "language": "python",
   "name": "python3"
  },
  "language_info": {
   "codemirror_mode": {
    "name": "ipython",
    "version": 3
   },
   "file_extension": ".py",
   "mimetype": "text/x-python",
   "name": "python",
   "nbconvert_exporter": "python",
   "pygments_lexer": "ipython3",
   "version": "3.10.9"
  },
  "toc-autonumbering": true,
  "vscode": {
   "interpreter": {
    "hash": "3c06e3e46abf38078fe4dac36a0085ec2b134ebbd73dd076183d243eeca6918f"
   }
  }
 },
 "nbformat": 4,
 "nbformat_minor": 4
}
