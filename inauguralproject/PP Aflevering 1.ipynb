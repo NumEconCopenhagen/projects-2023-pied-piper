{
 "cells": [
  {
   "cell_type": "markdown",
   "metadata": {},
   "source": [
    "# Inaugural Project"
   ]
  },
  {
   "attachments": {},
   "cell_type": "markdown",
   "metadata": {},
   "source": [
    "> **Note the following:** \n",
    "> 1. This is an example of how to structure your **inaugural project**.\n",
    "> 1. Remember the general advice on structuring and commenting your code\n",
    "> 1. The `inauguralproject.py` file includes a function which can be used multiple times in this notebook."
   ]
  },
  {
   "cell_type": "markdown",
   "metadata": {},
   "source": [
    "Imports and set magics:"
   ]
  },
  {
   "cell_type": "code",
   "execution_count": 2,
   "metadata": {},
   "outputs": [],
   "source": [
    "import numpy as np\n",
    "\n",
    "# autoreload modules when code is run. Otherwise, python will not see recent changes. \n",
    "%load_ext autoreload\n",
    "%autoreload 2\n",
    "\n",
    "# Import your own code\n",
    "from PythonAflevering1 import HouseholdSpecializationModelClass\n",
    "\n",
    "model = HouseholdSpecializationModelClass()"
   ]
  },
  {
   "cell_type": "markdown",
   "metadata": {},
   "source": [
    "# Question 1"
   ]
  },
  {
   "cell_type": "markdown",
   "metadata": {},
   "source": [
    "**Explain how you solve the model**"
   ]
  },
  {
   "cell_type": "code",
   "execution_count": 22,
   "metadata": {},
   "outputs": [
    {
     "name": "stdout",
     "output_type": "stream",
     "text": [
      "alpha = 0.250, sigma = 0.500, forhold = 0.545\n",
      "alpha = 0.250, sigma = 1.000, forhold = 0.308\n",
      "alpha = 0.250, sigma = 1.500, forhold = 0.214\n",
      "alpha = 0.500, sigma = 0.500, forhold = 1.000\n",
      "alpha = 0.500, sigma = 1.000, forhold = 1.000\n",
      "alpha = 0.500, sigma = 1.500, forhold = 1.000\n",
      "alpha = 0.750, sigma = 0.500, forhold = 1.833\n",
      "alpha = 0.750, sigma = 1.000, forhold = 3.250\n",
      "alpha = 0.750, sigma = 1.500, forhold = 4.667\n"
     ]
    }
   ],
   "source": [
    "\n",
    "\n",
    "sol_q1 = []\n",
    "\n",
    "alphas = [0.25, 0.50, 0.75] #alpha værdierne defineres i en liste\n",
    "sigmas = [0.5, 1.0, 1.5] #sigma værdierne defineres i en liste\n",
    "\n",
    "for a in alphas:\n",
    "    for s in sigmas:\n",
    "        model_q1 = HouseholdSpecializationModelClass()\n",
    "        model_q1.par.alpha = a #Vi sætter vores værdi for alpha ind i modellen\n",
    "        model_q1.par.sigma = s #Vi sætter vores værdi for sigma ind i modellen\n",
    "        opt = model_q1.solve_discrete() #Modellen løses\n",
    "        HFHM1 = opt.HF/opt.HM #Forholdet mellem HF og HM genereres\n",
    "        print(f\"alpha = {a:.3f}, sigma = {s:.3f}, forhold = {HFHM1:.3f}\") #Løsningen printes\n",
    "        sol_q1.append(HFHM1)\n",
    "        "
   ]
  },
  {
   "cell_type": "markdown",
   "metadata": {},
   "source": [
    "# Question 2"
   ]
  },
  {
   "cell_type": "markdown",
   "metadata": {},
   "source": [
    "Explain your code and procedure"
   ]
  },
  {
   "cell_type": "code",
   "execution_count": 24,
   "metadata": {},
   "outputs": [
    {
     "name": "stdout",
     "output_type": "stream",
     "text": [
      "[-0.22314355 -0.10536052  0.          0.09531018  0.18232156]\n",
      "[ 0.22314355  0.          0.         -0.11778304 -0.22314355]\n"
     ]
    }
   ],
   "source": [
    "\n",
    "#wF værdier sættes i en liste\n",
    "var_wF_q2 = [0.8,0.9,1.0,1.1,1.2]\n",
    "\n",
    "#Tom liste laves til værdierne\n",
    "sol_wF_q2 = []\n",
    "sol_HFHM_q2 = []\n",
    "\n",
    "\n",
    "for w in var_wF_q2:\n",
    "    model_q2 = HouseholdSpecializationModelClass()\n",
    "    model_q2.par.wF = w # wF sættes ind i modellen\n",
    "    opt_q2 = model_q2.solve_discrete()\n",
    "\n",
    "\n",
    "    HFHM = opt_q2.HF/opt_q2.HM #HFHM forhold defineres\n",
    "    sol_HFHM_q2.append(HFHM)\n",
    "\n",
    "\n",
    "    WFWM = w/model_q2.par.wM # vi finder forholdet mellem wF og wM\n",
    "    sol_wF_q2.append(WFWM) #Forholdet sættes i listen\n",
    "    #print(f\"forhold = {WFWM:.3f}\") # Forholdet printes\n",
    "\n",
    "\n",
    "log_sol_wF_q2 = np.log(sol_wF_q2) # Der tages log til forholdene\n",
    "log_sol_HFHM_q2 = np.log(sol_HFHM_q2) \n",
    "\n",
    "print(log_sol_wF_q2) # De printes for at se resultater\n",
    "print(log_sol_HFHM_q2)"
   ]
  },
  {
   "cell_type": "code",
   "execution_count": 6,
   "metadata": {},
   "outputs": [],
   "source": [
    "%matplotlib inline\n",
    "from mpl_toolkits.mplot3d import Axes3D # Used implictely when doing 3D plots\n",
    "import matplotlib.pyplot as plt # baseline module\n",
    "\n",
    "# Predefine options for all plots\n",
    "plt.rcParams.update({\"axes.grid\":True,\"grid.color\":\"black\",\"grid.alpha\":\"0.25\",\"grid.linestyle\":\"-\"})\n",
    "plt.rcParams.update({'font.size': 14})"
   ]
  },
  {
   "cell_type": "code",
   "execution_count": 25,
   "metadata": {},
   "outputs": [
    {
     "data": {
      "image/png": "[encoded data removed]",
      "text/plain": [
       "<Figure size 640x480 with 1 Axes>"
      ]
     },
     "metadata": {},
     "output_type": "display_data"
    }
   ],
   "source": [
    "# a. create the figure\n",
    "fig = plt.figure()\n",
    "\n",
    "# b. plot\n",
    "ax = fig.add_subplot(1,1,1)\n",
    "\n",
    "ax.plot(log_sol_wF_q2,log_sol_HFHM_q2)\n",
    "\n",
    "ax.set_title('Plot 1')\n",
    "ax.set_xlabel('$log(wF/wM)$')\n",
    "ax.set_ylabel('$log(HF/HM)$');"
   ]
  },
  {
   "cell_type": "markdown",
   "metadata": {},
   "source": [
    "# Question 3"
   ]
  },
  {
   "cell_type": "markdown",
   "metadata": {},
   "source": [
    "Explain your code and procedure"
   ]
  },
  {
   "cell_type": "code",
   "execution_count": 26,
   "metadata": {},
   "outputs": [
    {
     "name": "stdout",
     "output_type": "stream",
     "text": [
      "None\n",
      "[-0.22314355 -0.10536052  0.          0.09531018  0.18232156]\n",
      "[ 2.25199585e-01  9.75472906e-05  2.15435980e-09 -8.68013145e-05\n",
      " -1.86626258e-01]\n"
     ]
    }
   ],
   "source": [
    "from scipy.optimize import minimize\n",
    "model_q3 = HouseholdSpecializationModelClass()\n",
    "result = model_q3.solve_continously()\n",
    "print(result)\n",
    "#res1 = model.solve_wF_vec()\n",
    "#print(res1)\n",
    "\n",
    "var_WF_q3 = [0.8,0.9,1.0,1.1,1.2]\n",
    "\n",
    "list_HFHM_q3 = []\n",
    "list_WFWM_q3 = []\n",
    "\n",
    "for w in var_WF_q3 :\n",
    "    model_q3 = HouseholdSpecializationModelClass()\n",
    "    model_q3.par.wF = w\n",
    "    opt_q3 = model_q3.solve_continously()\n",
    "    \n",
    "    \n",
    "    HFHM = model_q3.sol.HF/model_q3.sol.HM #HFHM forhold defineres\n",
    "    list_HFHM_q3.append(HFHM)\n",
    "    \n",
    "    \n",
    "    WFWM = w/model_q3.par.wM # vi finder forholdet mellem wF og wM\n",
    "    list_WFWM_q3.append(WFWM)\n",
    "\n",
    "log_sol_WFWM_q3 = np.log(list_WFWM_q3) # Der tages log til forholdene\n",
    "log_sol_HFHM_q3 = np.log(list_HFHM_q3)\n",
    "\n",
    "print(log_sol_WFWM_q3) # De printes for at se resultater\n",
    "print(log_sol_HFHM_q3) "
   ]
  },
  {
   "cell_type": "code",
   "execution_count": 27,
   "metadata": {},
   "outputs": [],
   "source": [
    "%matplotlib inline\n",
    "from mpl_toolkits.mplot3d import Axes3D # Used implictely when doing 3D plots\n",
    "import matplotlib.pyplot as plt # baseline module\n",
    "\n",
    "# Predefine options for all plots\n",
    "plt.rcParams.update({\"axes.grid\":True,\"grid.color\":\"black\",\"grid.alpha\":\"0.25\",\"grid.linestyle\":\"-\"})\n",
    "plt.rcParams.update({'font.size': 14})"
   ]
  },
  {
   "cell_type": "code",
   "execution_count": 28,
   "metadata": {},
   "outputs": [
    {
     "data": {
      "image/png": "[encoded data removed]",
      "text/plain": [
       "<Figure size 640x480 with 1 Axes>"
      ]
     },
     "metadata": {},
     "output_type": "display_data"
    }
   ],
   "source": [
    "# a. create the figure\n",
    "fig = plt.figure()\n",
    "\n",
    "# b. plot\n",
    "ax = fig.add_subplot(1,1,1)\n",
    "\n",
    "ax.plot(log_sol_WFWM_q3,log_sol_HFHM_q3)\n",
    "\n",
    "ax.set_title('Plot 1')\n",
    "ax.set_xlabel('$log(wF/wM)$')\n",
    "ax.set_ylabel('$log(HF/HM)$');"
   ]
  },
  {
   "attachments": {},
   "cell_type": "markdown",
   "metadata": {},
   "source": [
    "Opgave 4"
   ]
  },
  {
   "cell_type": "code",
   "execution_count": 18,
   "metadata": {},
   "outputs": [
    {
     "name": "stdout",
     "output_type": "stream",
     "text": [
      "[-0.22314355 -0.10536052  0.          0.09531018  0.18232156]\n",
      "[ 2.25199585e-01  9.75472906e-05  2.15435980e-09 -8.68013145e-05\n",
      " -1.86626258e-01]\n"
     ]
    },
    {
     "ename": "LinAlgError",
     "evalue": "0-dimensional array given. Array must be two-dimensional",
     "output_type": "error",
     "traceback": [
      "\u001b[1;31m---------------------------------------------------------------------------\u001b[0m",
      "\u001b[1;31mLinAlgError\u001b[0m                               Traceback (most recent call last)",
      "\u001b[1;32m~\\AppData\\Local\\Temp\\ipykernel_5044\\1797360071.py\u001b[0m in \u001b[0;36m<module>\u001b[1;34m\u001b[0m\n\u001b[0;32m     10\u001b[0m     \u001b[1;31m#res_cont_q4 = model_q4.solve_continously()\u001b[0m\u001b[1;33m\u001b[0m\u001b[1;33m\u001b[0m\u001b[0m\n\u001b[0;32m     11\u001b[0m     \u001b[0mres_wF_q4\u001b[0m \u001b[1;33m=\u001b[0m \u001b[0mmodel_q4\u001b[0m\u001b[1;33m.\u001b[0m\u001b[0msolve_wF_vec\u001b[0m\u001b[1;33m(\u001b[0m\u001b[1;33m)\u001b[0m\u001b[1;33m\u001b[0m\u001b[1;33m\u001b[0m\u001b[0m\n\u001b[1;32m---> 12\u001b[1;33m     \u001b[0mres_reg_q4\u001b[0m \u001b[1;33m=\u001b[0m \u001b[0mmodel_q4\u001b[0m\u001b[1;33m.\u001b[0m\u001b[0mrun_regression\u001b[0m\u001b[1;33m(\u001b[0m\u001b[1;33m)\u001b[0m\u001b[1;33m\u001b[0m\u001b[1;33m\u001b[0m\u001b[0m\n\u001b[0m\u001b[0;32m     13\u001b[0m \u001b[1;33m\u001b[0m\u001b[0m\n\u001b[0;32m     14\u001b[0m \u001b[1;33m\u001b[0m\u001b[0m\n",
      "\u001b[1;32mc:\\Users\\bjorn\\OneDrive - University of Copenhagen\\4. semester\\projects-2023-pied-piper\\inauguralproject\\PythonAflevering1.py\u001b[0m in \u001b[0;36mrun_regression\u001b[1;34m(self)\u001b[0m\n\u001b[0;32m    206\u001b[0m         \u001b[0my\u001b[0m \u001b[1;33m=\u001b[0m \u001b[0mnp\u001b[0m\u001b[1;33m.\u001b[0m\u001b[0mlog\u001b[0m\u001b[1;33m(\u001b[0m\u001b[0msol\u001b[0m\u001b[1;33m.\u001b[0m\u001b[0mHF\u001b[0m\u001b[1;33m/\u001b[0m\u001b[0msol\u001b[0m\u001b[1;33m.\u001b[0m\u001b[0mHM\u001b[0m\u001b[1;33m)\u001b[0m\u001b[1;33m\u001b[0m\u001b[1;33m\u001b[0m\u001b[0m\n\u001b[0;32m    207\u001b[0m         \u001b[0mA\u001b[0m \u001b[1;33m=\u001b[0m \u001b[0mnp\u001b[0m\u001b[1;33m.\u001b[0m\u001b[0mvstack\u001b[0m\u001b[1;33m(\u001b[0m\u001b[1;33m[\u001b[0m\u001b[0mnp\u001b[0m\u001b[1;33m.\u001b[0m\u001b[0mones\u001b[0m\u001b[1;33m(\u001b[0m\u001b[0mx\u001b[0m\u001b[1;33m.\u001b[0m\u001b[0msize\u001b[0m\u001b[1;33m)\u001b[0m\u001b[1;33m,\u001b[0m\u001b[0mx\u001b[0m\u001b[1;33m]\u001b[0m\u001b[1;33m)\u001b[0m\u001b[1;33m.\u001b[0m\u001b[0mT\u001b[0m\u001b[1;33m\u001b[0m\u001b[1;33m\u001b[0m\u001b[0m\n\u001b[1;32m--> 208\u001b[1;33m         \u001b[0msol\u001b[0m\u001b[1;33m.\u001b[0m\u001b[0mbeta0\u001b[0m\u001b[1;33m,\u001b[0m\u001b[0msol\u001b[0m\u001b[1;33m.\u001b[0m\u001b[0mbeta1\u001b[0m \u001b[1;33m=\u001b[0m \u001b[0mnp\u001b[0m\u001b[1;33m.\u001b[0m\u001b[0mlinalg\u001b[0m\u001b[1;33m.\u001b[0m\u001b[0mlstsq\u001b[0m\u001b[1;33m(\u001b[0m\u001b[0mA\u001b[0m\u001b[1;33m,\u001b[0m\u001b[0my\u001b[0m\u001b[1;33m,\u001b[0m\u001b[0mrcond\u001b[0m\u001b[1;33m=\u001b[0m\u001b[1;32mNone\u001b[0m\u001b[1;33m)\u001b[0m\u001b[1;33m[\u001b[0m\u001b[1;36m0\u001b[0m\u001b[1;33m]\u001b[0m\u001b[1;33m\u001b[0m\u001b[1;33m\u001b[0m\u001b[0m\n\u001b[0m\u001b[0;32m    209\u001b[0m \u001b[1;33m\u001b[0m\u001b[0m\n\u001b[0;32m    210\u001b[0m     \u001b[1;32mdef\u001b[0m \u001b[0mestimate\u001b[0m\u001b[1;33m(\u001b[0m\u001b[0mself\u001b[0m\u001b[1;33m,\u001b[0m\u001b[0malpha\u001b[0m\u001b[1;33m=\u001b[0m\u001b[1;32mNone\u001b[0m\u001b[1;33m,\u001b[0m\u001b[0msigma\u001b[0m\u001b[1;33m=\u001b[0m\u001b[1;32mNone\u001b[0m\u001b[1;33m)\u001b[0m\u001b[1;33m:\u001b[0m\u001b[1;33m\u001b[0m\u001b[1;33m\u001b[0m\u001b[0m\n",
      "\u001b[1;32mc:\\Users\\bjorn\\anaconda3\\lib\\site-packages\\numpy\\core\\overrides.py\u001b[0m in \u001b[0;36mlstsq\u001b[1;34m(*args, **kwargs)\u001b[0m\n",
      "\u001b[1;32mc:\\Users\\bjorn\\anaconda3\\lib\\site-packages\\numpy\\linalg\\linalg.py\u001b[0m in \u001b[0;36mlstsq\u001b[1;34m(a, b, rcond)\u001b[0m\n\u001b[0;32m   2265\u001b[0m     \u001b[1;32mif\u001b[0m \u001b[0mis_1d\u001b[0m\u001b[1;33m:\u001b[0m\u001b[1;33m\u001b[0m\u001b[1;33m\u001b[0m\u001b[0m\n\u001b[0;32m   2266\u001b[0m         \u001b[0mb\u001b[0m \u001b[1;33m=\u001b[0m \u001b[0mb\u001b[0m\u001b[1;33m[\u001b[0m\u001b[1;33m:\u001b[0m\u001b[1;33m,\u001b[0m \u001b[0mnewaxis\u001b[0m\u001b[1;33m]\u001b[0m\u001b[1;33m\u001b[0m\u001b[1;33m\u001b[0m\u001b[0m\n\u001b[1;32m-> 2267\u001b[1;33m     \u001b[0m_assert_2d\u001b[0m\u001b[1;33m(\u001b[0m\u001b[0ma\u001b[0m\u001b[1;33m,\u001b[0m \u001b[0mb\u001b[0m\u001b[1;33m)\u001b[0m\u001b[1;33m\u001b[0m\u001b[1;33m\u001b[0m\u001b[0m\n\u001b[0m\u001b[0;32m   2268\u001b[0m     \u001b[0mm\u001b[0m\u001b[1;33m,\u001b[0m \u001b[0mn\u001b[0m \u001b[1;33m=\u001b[0m \u001b[0ma\u001b[0m\u001b[1;33m.\u001b[0m\u001b[0mshape\u001b[0m\u001b[1;33m[\u001b[0m\u001b[1;33m-\u001b[0m\u001b[1;36m2\u001b[0m\u001b[1;33m:\u001b[0m\u001b[1;33m]\u001b[0m\u001b[1;33m\u001b[0m\u001b[1;33m\u001b[0m\u001b[0m\n\u001b[0;32m   2269\u001b[0m     \u001b[0mm2\u001b[0m\u001b[1;33m,\u001b[0m \u001b[0mn_rhs\u001b[0m \u001b[1;33m=\u001b[0m \u001b[0mb\u001b[0m\u001b[1;33m.\u001b[0m\u001b[0mshape\u001b[0m\u001b[1;33m[\u001b[0m\u001b[1;33m-\u001b[0m\u001b[1;36m2\u001b[0m\u001b[1;33m:\u001b[0m\u001b[1;33m]\u001b[0m\u001b[1;33m\u001b[0m\u001b[1;33m\u001b[0m\u001b[0m\n",
      "\u001b[1;32mc:\\Users\\bjorn\\anaconda3\\lib\\site-packages\\numpy\\linalg\\linalg.py\u001b[0m in \u001b[0;36m_assert_2d\u001b[1;34m(*arrays)\u001b[0m\n\u001b[0;32m    189\u001b[0m     \u001b[1;32mfor\u001b[0m \u001b[0ma\u001b[0m \u001b[1;32min\u001b[0m \u001b[0marrays\u001b[0m\u001b[1;33m:\u001b[0m\u001b[1;33m\u001b[0m\u001b[1;33m\u001b[0m\u001b[0m\n\u001b[0;32m    190\u001b[0m         \u001b[1;32mif\u001b[0m \u001b[0ma\u001b[0m\u001b[1;33m.\u001b[0m\u001b[0mndim\u001b[0m \u001b[1;33m!=\u001b[0m \u001b[1;36m2\u001b[0m\u001b[1;33m:\u001b[0m\u001b[1;33m\u001b[0m\u001b[1;33m\u001b[0m\u001b[0m\n\u001b[1;32m--> 191\u001b[1;33m             raise LinAlgError('%d-dimensional array given. Array must be '\n\u001b[0m\u001b[0;32m    192\u001b[0m                     'two-dimensional' % a.ndim)\n\u001b[0;32m    193\u001b[0m \u001b[1;33m\u001b[0m\u001b[0m\n",
      "\u001b[1;31mLinAlgError\u001b[0m: 0-dimensional array given. Array must be two-dimensional"
     ]
    }
   ],
   "source": [
    "model_q4 = HouseholdSpecializationModelClass()\n",
    "# solve_wF_vec has the same function as in q3\n",
    "\n",
    "\n",
    "\n",
    "var_WF_q4 = [0.8,0.9,1.0,1.1,1.2]\n",
    "\n",
    "for w in var_WF_q4 :\n",
    "    model_q4.solve_continously()\n",
    "    #res_cont_q4 = model_q4.solve_continously()\n",
    "    res_wF_q4 = model_q4.solve_wF_vec()\n",
    "    res_reg_q4 = model_q4.run_regression()\n",
    "    \n",
    "\n",
    "\n",
    "\n",
    "\n",
    "\n",
    "\n",
    "\n",
    "\n"
   ]
  },
  {
   "cell_type": "markdown",
   "metadata": {},
   "source": [
    "ADD CONCISE CONLUSION."
   ]
  }
 ],
 "metadata": {
  "kernelspec": {
   "display_name": "base",
   "language": "python",
   "name": "python3"
  },
  "language_info": {
   "codemirror_mode": {
    "name": "ipython",
    "version": 3
   },
   "file_extension": ".py",
   "mimetype": "text/x-python",
   "name": "python",
   "nbconvert_exporter": "python",
   "pygments_lexer": "ipython3",
   "version": "3.9.16"
  },
  "toc-autonumbering": true,
  "vscode": {
   "interpreter": {
    "hash": "47ef90cdf3004d3f859f1fb202523c65c07ba7c22eefd261b181f4744e2d0403"
   }
  }
 },
 "nbformat": 4,
 "nbformat_minor": 4
}
