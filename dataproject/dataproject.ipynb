{
 "cells": [
  {
   "cell_type": "markdown",
   "metadata": {},
   "source": [
    "# YOUR PROJECT TITLE"
   ]
  },
  {
   "attachments": {},
   "cell_type": "markdown",
   "metadata": {},
   "source": [
    "> **Note the following:** \n",
    "> 1. This is *not* meant to be an example of an actual **data analysis project**, just an example of how to structure such a project.\n",
    "> 1. Remember the general advice on structuring and commenting your code\n",
    "> 1. The `dataproject.py` file includes a function which can be used multiple times in this notebook."
   ]
  },
  {
   "cell_type": "markdown",
   "metadata": {},
   "source": [
    "Imports and set magics:"
   ]
  },
  {
   "cell_type": "code",
   "execution_count": 1,
   "metadata": {},
   "outputs": [],
   "source": [
    "import pandas as pd\n",
    "import numpy as np\n",
    "import matplotlib.pyplot as plt\n",
    "import ipywidgets as widgets\n",
    "from matplotlib_venn import venn2\n",
    "\n",
    "# autoreload modules when code is run\n",
    "%load_ext autoreload\n",
    "%autoreload 2\n",
    "\n",
    "# user written modules\n",
    "import dataproject\n"
   ]
  },
  {
   "cell_type": "markdown",
   "metadata": {},
   "source": [
    "# Read and clean data"
   ]
  },
  {
   "cell_type": "markdown",
   "metadata": {},
   "source": [
    "Import your data, either through an API or manually, and load it. "
   ]
  },
  {
   "attachments": {},
   "cell_type": "markdown",
   "metadata": {},
   "source": [
    "First we import the data to"
   ]
  },
  {
   "cell_type": "code",
   "execution_count": 2,
   "metadata": {},
   "outputs": [
    {
     "name": "stderr",
     "output_type": "stream",
     "text": [
      "C:\\Users\\bjorn\\AppData\\Local\\Temp\\ipykernel_8068\\648326278.py:7: FutureWarning: In a future version, `df.iloc[:, i] = newvals` will attempt to set the values inplace instead of always setting a new array. To retain the old behavior, use either `df[df.columns[i]] = newvals` or, if columns are non-unique, `df.isetitem(i, newvals)`\n",
      "  LData.iloc[:, 1:] = LData.iloc[:, 1:].astype(int) #Removing decimal points from all numbers using iloc to locate numbers\n"
     ]
    },
    {
     "data": {
      "text/html": [
       "<div>\n",
       "<style scoped>\n",
       "    .dataframe tbody tr th:only-of-type {\n",
       "        vertical-align: middle;\n",
       "    }\n",
       "\n",
       "    .dataframe tbody tr th {\n",
       "        vertical-align: top;\n",
       "    }\n",
       "\n",
       "    .dataframe thead th {\n",
       "        text-align: right;\n",
       "    }\n",
       "</style>\n",
       "<table border=\"1\" class=\"dataframe\">\n",
       "  <thead>\n",
       "    <tr style=\"text-align: right;\">\n",
       "      <th></th>\n",
       "      <th>Decil</th>\n",
       "      <th>2010</th>\n",
       "      <th>2011</th>\n",
       "      <th>2012</th>\n",
       "      <th>2013</th>\n",
       "      <th>2014</th>\n",
       "      <th>2015</th>\n",
       "      <th>2016</th>\n",
       "      <th>2017</th>\n",
       "      <th>2018</th>\n",
       "      <th>2019</th>\n",
       "      <th>2020</th>\n",
       "      <th>2021</th>\n",
       "    </tr>\n",
       "  </thead>\n",
       "  <tbody>\n",
       "    <tr>\n",
       "      <th>0</th>\n",
       "      <td>1. decil</td>\n",
       "      <td>58517</td>\n",
       "      <td>61405</td>\n",
       "      <td>72143</td>\n",
       "      <td>75689</td>\n",
       "      <td>70459</td>\n",
       "      <td>77728</td>\n",
       "      <td>75853</td>\n",
       "      <td>78128</td>\n",
       "      <td>78721</td>\n",
       "      <td>83792</td>\n",
       "      <td>88188</td>\n",
       "      <td>95473</td>\n",
       "    </tr>\n",
       "    <tr>\n",
       "      <th>1</th>\n",
       "      <td>2. decil</td>\n",
       "      <td>133314</td>\n",
       "      <td>135247</td>\n",
       "      <td>138299</td>\n",
       "      <td>140042</td>\n",
       "      <td>142148</td>\n",
       "      <td>143630</td>\n",
       "      <td>144500</td>\n",
       "      <td>146503</td>\n",
       "      <td>151039</td>\n",
       "      <td>154985</td>\n",
       "      <td>160361</td>\n",
       "      <td>166971</td>\n",
       "    </tr>\n",
       "    <tr>\n",
       "      <th>2</th>\n",
       "      <td>3. decil</td>\n",
       "      <td>155258</td>\n",
       "      <td>157641</td>\n",
       "      <td>160792</td>\n",
       "      <td>163578</td>\n",
       "      <td>166795</td>\n",
       "      <td>169095</td>\n",
       "      <td>171292</td>\n",
       "      <td>174947</td>\n",
       "      <td>179714</td>\n",
       "      <td>184053</td>\n",
       "      <td>190111</td>\n",
       "      <td>196935</td>\n",
       "    </tr>\n",
       "    <tr>\n",
       "      <th>3</th>\n",
       "      <td>4. decil</td>\n",
       "      <td>176861</td>\n",
       "      <td>179613</td>\n",
       "      <td>182871</td>\n",
       "      <td>185928</td>\n",
       "      <td>190010</td>\n",
       "      <td>192715</td>\n",
       "      <td>195643</td>\n",
       "      <td>200087</td>\n",
       "      <td>205721</td>\n",
       "      <td>210708</td>\n",
       "      <td>218820</td>\n",
       "      <td>227383</td>\n",
       "    </tr>\n",
       "    <tr>\n",
       "      <th>4</th>\n",
       "      <td>5. decil</td>\n",
       "      <td>198711</td>\n",
       "      <td>202048</td>\n",
       "      <td>205633</td>\n",
       "      <td>209382</td>\n",
       "      <td>214412</td>\n",
       "      <td>217580</td>\n",
       "      <td>221437</td>\n",
       "      <td>226804</td>\n",
       "      <td>233247</td>\n",
       "      <td>238796</td>\n",
       "      <td>249210</td>\n",
       "      <td>259036</td>\n",
       "    </tr>\n",
       "    <tr>\n",
       "      <th>5</th>\n",
       "      <td>6. decil</td>\n",
       "      <td>220835</td>\n",
       "      <td>224771</td>\n",
       "      <td>228906</td>\n",
       "      <td>233521</td>\n",
       "      <td>239499</td>\n",
       "      <td>243288</td>\n",
       "      <td>248126</td>\n",
       "      <td>254422</td>\n",
       "      <td>261607</td>\n",
       "      <td>267917</td>\n",
       "      <td>280604</td>\n",
       "      <td>291453</td>\n",
       "    </tr>\n",
       "    <tr>\n",
       "      <th>6</th>\n",
       "      <td>7. decil</td>\n",
       "      <td>245061</td>\n",
       "      <td>249659</td>\n",
       "      <td>254534</td>\n",
       "      <td>260358</td>\n",
       "      <td>267373</td>\n",
       "      <td>271974</td>\n",
       "      <td>277775</td>\n",
       "      <td>285080</td>\n",
       "      <td>293222</td>\n",
       "      <td>300200</td>\n",
       "      <td>315119</td>\n",
       "      <td>327257</td>\n",
       "    </tr>\n",
       "    <tr>\n",
       "      <th>7</th>\n",
       "      <td>8. decil</td>\n",
       "      <td>274629</td>\n",
       "      <td>280171</td>\n",
       "      <td>285933</td>\n",
       "      <td>293589</td>\n",
       "      <td>301774</td>\n",
       "      <td>307454</td>\n",
       "      <td>314207</td>\n",
       "      <td>322842</td>\n",
       "      <td>331975</td>\n",
       "      <td>339935</td>\n",
       "      <td>357273</td>\n",
       "      <td>371556</td>\n",
       "    </tr>\n",
       "    <tr>\n",
       "      <th>8</th>\n",
       "      <td>9. decil</td>\n",
       "      <td>318054</td>\n",
       "      <td>325162</td>\n",
       "      <td>332513</td>\n",
       "      <td>342856</td>\n",
       "      <td>352557</td>\n",
       "      <td>360069</td>\n",
       "      <td>368072</td>\n",
       "      <td>378649</td>\n",
       "      <td>388934</td>\n",
       "      <td>398818</td>\n",
       "      <td>419353</td>\n",
       "      <td>437776</td>\n",
       "    </tr>\n",
       "    <tr>\n",
       "      <th>9</th>\n",
       "      <td>10. decil</td>\n",
       "      <td>500012</td>\n",
       "      <td>516944</td>\n",
       "      <td>533189</td>\n",
       "      <td>560971</td>\n",
       "      <td>573866</td>\n",
       "      <td>607665</td>\n",
       "      <td>615554</td>\n",
       "      <td>641188</td>\n",
       "      <td>648231</td>\n",
       "      <td>688377</td>\n",
       "      <td>719999</td>\n",
       "      <td>779827</td>\n",
       "    </tr>\n",
       "  </tbody>\n",
       "</table>\n",
       "</div>"
      ],
      "text/plain": [
       "       Decil    2010    2011    2012    2013    2014    2015    2016    2017  \\\n",
       "0   1. decil   58517   61405   72143   75689   70459   77728   75853   78128   \n",
       "1   2. decil  133314  135247  138299  140042  142148  143630  144500  146503   \n",
       "2   3. decil  155258  157641  160792  163578  166795  169095  171292  174947   \n",
       "3   4. decil  176861  179613  182871  185928  190010  192715  195643  200087   \n",
       "4   5. decil  198711  202048  205633  209382  214412  217580  221437  226804   \n",
       "5   6. decil  220835  224771  228906  233521  239499  243288  248126  254422   \n",
       "6   7. decil  245061  249659  254534  260358  267373  271974  277775  285080   \n",
       "7   8. decil  274629  280171  285933  293589  301774  307454  314207  322842   \n",
       "8   9. decil  318054  325162  332513  342856  352557  360069  368072  378649   \n",
       "9  10. decil  500012  516944  533189  560971  573866  607665  615554  641188   \n",
       "\n",
       "     2018    2019    2020    2021  \n",
       "0   78721   83792   88188   95473  \n",
       "1  151039  154985  160361  166971  \n",
       "2  179714  184053  190111  196935  \n",
       "3  205721  210708  218820  227383  \n",
       "4  233247  238796  249210  259036  \n",
       "5  261607  267917  280604  291453  \n",
       "6  293222  300200  315119  327257  \n",
       "7  331975  339935  357273  371556  \n",
       "8  388934  398818  419353  437776  \n",
       "9  648231  688377  719999  779827  "
      ]
     },
     "execution_count": 2,
     "metadata": {},
     "output_type": "execute_result"
    }
   ],
   "source": [
    "LorenzData = \"Indkomst Data.xlsx\" #First we import the data\n",
    "LData = pd.read_excel(LorenzData, skiprows=2) #Shorten the call for the data\n",
    "LData.drop(\"Unnamed: 0\", axis=1, inplace=True) #Removing first unnamed column\n",
    "LData.rename(columns = {\"Unnamed: 1\":\"Decil\"}, inplace=True) #Renaming first column\n",
    "\n",
    "LData = LData.dropna() #Removes missing values from bottom rows\n",
    "LData.iloc[:, 1:] = LData.iloc[:, 1:].astype(int) #Removing decimal points from all numbers using iloc to locate numbers\n",
    "\n",
    "LData\n"
   ]
  },
  {
   "cell_type": "markdown",
   "metadata": {},
   "source": [
    "## Explore each data set"
   ]
  },
  {
   "cell_type": "code",
   "execution_count": 3,
   "metadata": {},
   "outputs": [
    {
     "name": "stdout",
     "output_type": "stream",
     "text": [
      "[2010. 2011. 2012. 2013. 2014. 2015. 2016. 2017. 2018. 2019. 2020. 2021.]\n"
     ]
    },
    {
     "data": {
      "text/html": [
       "<div>\n",
       "<style scoped>\n",
       "    .dataframe tbody tr th:only-of-type {\n",
       "        vertical-align: middle;\n",
       "    }\n",
       "\n",
       "    .dataframe tbody tr th {\n",
       "        vertical-align: top;\n",
       "    }\n",
       "\n",
       "    .dataframe thead th {\n",
       "        text-align: right;\n",
       "    }\n",
       "</style>\n",
       "<table border=\"1\" class=\"dataframe\">\n",
       "  <thead>\n",
       "    <tr style=\"text-align: right;\">\n",
       "      <th></th>\n",
       "      <th>Decil</th>\n",
       "      <th>2010</th>\n",
       "      <th>2011</th>\n",
       "      <th>2012</th>\n",
       "      <th>2013</th>\n",
       "      <th>2014</th>\n",
       "      <th>2015</th>\n",
       "      <th>2016</th>\n",
       "      <th>2017</th>\n",
       "      <th>2018</th>\n",
       "      <th>...</th>\n",
       "      <th>Cum_2012</th>\n",
       "      <th>Cum_2013</th>\n",
       "      <th>Cum_2014</th>\n",
       "      <th>Cum_2015</th>\n",
       "      <th>Cum_2016</th>\n",
       "      <th>Cum_2017</th>\n",
       "      <th>Cum_2018</th>\n",
       "      <th>Cum_2019</th>\n",
       "      <th>Cum_2020</th>\n",
       "      <th>Cum_2021</th>\n",
       "    </tr>\n",
       "  </thead>\n",
       "  <tbody>\n",
       "    <tr>\n",
       "      <th>0</th>\n",
       "      <td>1. decil</td>\n",
       "      <td>58517</td>\n",
       "      <td>61405</td>\n",
       "      <td>72143</td>\n",
       "      <td>75689</td>\n",
       "      <td>70459</td>\n",
       "      <td>77728</td>\n",
       "      <td>75853</td>\n",
       "      <td>78128</td>\n",
       "      <td>78721</td>\n",
       "      <td>...</td>\n",
       "      <td>72143</td>\n",
       "      <td>75689</td>\n",
       "      <td>70459</td>\n",
       "      <td>77728</td>\n",
       "      <td>75853</td>\n",
       "      <td>78128</td>\n",
       "      <td>78721</td>\n",
       "      <td>83792</td>\n",
       "      <td>88188</td>\n",
       "      <td>95473</td>\n",
       "    </tr>\n",
       "    <tr>\n",
       "      <th>1</th>\n",
       "      <td>2. decil</td>\n",
       "      <td>133314</td>\n",
       "      <td>135247</td>\n",
       "      <td>138299</td>\n",
       "      <td>140042</td>\n",
       "      <td>142148</td>\n",
       "      <td>143630</td>\n",
       "      <td>144500</td>\n",
       "      <td>146503</td>\n",
       "      <td>151039</td>\n",
       "      <td>...</td>\n",
       "      <td>210442</td>\n",
       "      <td>215731</td>\n",
       "      <td>212607</td>\n",
       "      <td>221358</td>\n",
       "      <td>220353</td>\n",
       "      <td>224631</td>\n",
       "      <td>229760</td>\n",
       "      <td>238777</td>\n",
       "      <td>248549</td>\n",
       "      <td>262444</td>\n",
       "    </tr>\n",
       "    <tr>\n",
       "      <th>2</th>\n",
       "      <td>3. decil</td>\n",
       "      <td>155258</td>\n",
       "      <td>157641</td>\n",
       "      <td>160792</td>\n",
       "      <td>163578</td>\n",
       "      <td>166795</td>\n",
       "      <td>169095</td>\n",
       "      <td>171292</td>\n",
       "      <td>174947</td>\n",
       "      <td>179714</td>\n",
       "      <td>...</td>\n",
       "      <td>371234</td>\n",
       "      <td>379309</td>\n",
       "      <td>379402</td>\n",
       "      <td>390453</td>\n",
       "      <td>391645</td>\n",
       "      <td>399578</td>\n",
       "      <td>409474</td>\n",
       "      <td>422830</td>\n",
       "      <td>438660</td>\n",
       "      <td>459379</td>\n",
       "    </tr>\n",
       "    <tr>\n",
       "      <th>3</th>\n",
       "      <td>4. decil</td>\n",
       "      <td>176861</td>\n",
       "      <td>179613</td>\n",
       "      <td>182871</td>\n",
       "      <td>185928</td>\n",
       "      <td>190010</td>\n",
       "      <td>192715</td>\n",
       "      <td>195643</td>\n",
       "      <td>200087</td>\n",
       "      <td>205721</td>\n",
       "      <td>...</td>\n",
       "      <td>554105</td>\n",
       "      <td>565237</td>\n",
       "      <td>569412</td>\n",
       "      <td>583168</td>\n",
       "      <td>587288</td>\n",
       "      <td>599665</td>\n",
       "      <td>615195</td>\n",
       "      <td>633538</td>\n",
       "      <td>657480</td>\n",
       "      <td>686762</td>\n",
       "    </tr>\n",
       "    <tr>\n",
       "      <th>4</th>\n",
       "      <td>5. decil</td>\n",
       "      <td>198711</td>\n",
       "      <td>202048</td>\n",
       "      <td>205633</td>\n",
       "      <td>209382</td>\n",
       "      <td>214412</td>\n",
       "      <td>217580</td>\n",
       "      <td>221437</td>\n",
       "      <td>226804</td>\n",
       "      <td>233247</td>\n",
       "      <td>...</td>\n",
       "      <td>759738</td>\n",
       "      <td>774619</td>\n",
       "      <td>783824</td>\n",
       "      <td>800748</td>\n",
       "      <td>808725</td>\n",
       "      <td>826469</td>\n",
       "      <td>848442</td>\n",
       "      <td>872334</td>\n",
       "      <td>906690</td>\n",
       "      <td>945798</td>\n",
       "    </tr>\n",
       "    <tr>\n",
       "      <th>5</th>\n",
       "      <td>6. decil</td>\n",
       "      <td>220835</td>\n",
       "      <td>224771</td>\n",
       "      <td>228906</td>\n",
       "      <td>233521</td>\n",
       "      <td>239499</td>\n",
       "      <td>243288</td>\n",
       "      <td>248126</td>\n",
       "      <td>254422</td>\n",
       "      <td>261607</td>\n",
       "      <td>...</td>\n",
       "      <td>988644</td>\n",
       "      <td>1008140</td>\n",
       "      <td>1023323</td>\n",
       "      <td>1044036</td>\n",
       "      <td>1056851</td>\n",
       "      <td>1080891</td>\n",
       "      <td>1110049</td>\n",
       "      <td>1140251</td>\n",
       "      <td>1187294</td>\n",
       "      <td>1237251</td>\n",
       "    </tr>\n",
       "    <tr>\n",
       "      <th>6</th>\n",
       "      <td>7. decil</td>\n",
       "      <td>245061</td>\n",
       "      <td>249659</td>\n",
       "      <td>254534</td>\n",
       "      <td>260358</td>\n",
       "      <td>267373</td>\n",
       "      <td>271974</td>\n",
       "      <td>277775</td>\n",
       "      <td>285080</td>\n",
       "      <td>293222</td>\n",
       "      <td>...</td>\n",
       "      <td>1243178</td>\n",
       "      <td>1268498</td>\n",
       "      <td>1290696</td>\n",
       "      <td>1316010</td>\n",
       "      <td>1334626</td>\n",
       "      <td>1365971</td>\n",
       "      <td>1403271</td>\n",
       "      <td>1440451</td>\n",
       "      <td>1502413</td>\n",
       "      <td>1564508</td>\n",
       "    </tr>\n",
       "    <tr>\n",
       "      <th>7</th>\n",
       "      <td>8. decil</td>\n",
       "      <td>274629</td>\n",
       "      <td>280171</td>\n",
       "      <td>285933</td>\n",
       "      <td>293589</td>\n",
       "      <td>301774</td>\n",
       "      <td>307454</td>\n",
       "      <td>314207</td>\n",
       "      <td>322842</td>\n",
       "      <td>331975</td>\n",
       "      <td>...</td>\n",
       "      <td>1529111</td>\n",
       "      <td>1562087</td>\n",
       "      <td>1592470</td>\n",
       "      <td>1623464</td>\n",
       "      <td>1648833</td>\n",
       "      <td>1688813</td>\n",
       "      <td>1735246</td>\n",
       "      <td>1780386</td>\n",
       "      <td>1859686</td>\n",
       "      <td>1936064</td>\n",
       "    </tr>\n",
       "    <tr>\n",
       "      <th>8</th>\n",
       "      <td>9. decil</td>\n",
       "      <td>318054</td>\n",
       "      <td>325162</td>\n",
       "      <td>332513</td>\n",
       "      <td>342856</td>\n",
       "      <td>352557</td>\n",
       "      <td>360069</td>\n",
       "      <td>368072</td>\n",
       "      <td>378649</td>\n",
       "      <td>388934</td>\n",
       "      <td>...</td>\n",
       "      <td>1861624</td>\n",
       "      <td>1904943</td>\n",
       "      <td>1945027</td>\n",
       "      <td>1983533</td>\n",
       "      <td>2016905</td>\n",
       "      <td>2067462</td>\n",
       "      <td>2124180</td>\n",
       "      <td>2179204</td>\n",
       "      <td>2279039</td>\n",
       "      <td>2373840</td>\n",
       "    </tr>\n",
       "    <tr>\n",
       "      <th>9</th>\n",
       "      <td>10. decil</td>\n",
       "      <td>500012</td>\n",
       "      <td>516944</td>\n",
       "      <td>533189</td>\n",
       "      <td>560971</td>\n",
       "      <td>573866</td>\n",
       "      <td>607665</td>\n",
       "      <td>615554</td>\n",
       "      <td>641188</td>\n",
       "      <td>648231</td>\n",
       "      <td>...</td>\n",
       "      <td>2394813</td>\n",
       "      <td>2465914</td>\n",
       "      <td>2518893</td>\n",
       "      <td>2591198</td>\n",
       "      <td>2632459</td>\n",
       "      <td>2708650</td>\n",
       "      <td>2772411</td>\n",
       "      <td>2867581</td>\n",
       "      <td>2999038</td>\n",
       "      <td>3153667</td>\n",
       "    </tr>\n",
       "  </tbody>\n",
       "</table>\n",
       "<p>10 rows × 25 columns</p>\n",
       "</div>"
      ],
      "text/plain": [
       "       Decil    2010    2011    2012    2013    2014    2015    2016    2017  \\\n",
       "0   1. decil   58517   61405   72143   75689   70459   77728   75853   78128   \n",
       "1   2. decil  133314  135247  138299  140042  142148  143630  144500  146503   \n",
       "2   3. decil  155258  157641  160792  163578  166795  169095  171292  174947   \n",
       "3   4. decil  176861  179613  182871  185928  190010  192715  195643  200087   \n",
       "4   5. decil  198711  202048  205633  209382  214412  217580  221437  226804   \n",
       "5   6. decil  220835  224771  228906  233521  239499  243288  248126  254422   \n",
       "6   7. decil  245061  249659  254534  260358  267373  271974  277775  285080   \n",
       "7   8. decil  274629  280171  285933  293589  301774  307454  314207  322842   \n",
       "8   9. decil  318054  325162  332513  342856  352557  360069  368072  378649   \n",
       "9  10. decil  500012  516944  533189  560971  573866  607665  615554  641188   \n",
       "\n",
       "     2018  ...  Cum_2012  Cum_2013  Cum_2014  Cum_2015  Cum_2016  Cum_2017  \\\n",
       "0   78721  ...     72143     75689     70459     77728     75853     78128   \n",
       "1  151039  ...    210442    215731    212607    221358    220353    224631   \n",
       "2  179714  ...    371234    379309    379402    390453    391645    399578   \n",
       "3  205721  ...    554105    565237    569412    583168    587288    599665   \n",
       "4  233247  ...    759738    774619    783824    800748    808725    826469   \n",
       "5  261607  ...    988644   1008140   1023323   1044036   1056851   1080891   \n",
       "6  293222  ...   1243178   1268498   1290696   1316010   1334626   1365971   \n",
       "7  331975  ...   1529111   1562087   1592470   1623464   1648833   1688813   \n",
       "8  388934  ...   1861624   1904943   1945027   1983533   2016905   2067462   \n",
       "9  648231  ...   2394813   2465914   2518893   2591198   2632459   2708650   \n",
       "\n",
       "   Cum_2018  Cum_2019  Cum_2020  Cum_2021  \n",
       "0     78721     83792     88188     95473  \n",
       "1    229760    238777    248549    262444  \n",
       "2    409474    422830    438660    459379  \n",
       "3    615195    633538    657480    686762  \n",
       "4    848442    872334    906690    945798  \n",
       "5   1110049   1140251   1187294   1237251  \n",
       "6   1403271   1440451   1502413   1564508  \n",
       "7   1735246   1780386   1859686   1936064  \n",
       "8   2124180   2179204   2279039   2373840  \n",
       "9   2772411   2867581   2999038   3153667  \n",
       "\n",
       "[10 rows x 25 columns]"
      ]
     },
     "execution_count": 3,
     "metadata": {},
     "output_type": "execute_result"
    }
   ],
   "source": [
    "Years = np.linspace(2010,2021,num=12) #Creating a list of numbers ranging from 2010-2021\n",
    "Years_int = Years.astype(int) #Converting the list variables from float to integers\n",
    "print(Years)\n",
    "\n",
    "#Using for loop to calculate the cummulitative income for each year\n",
    "for i in Years_int:\n",
    "    Col_name = \"Cum_\" + str(i) #Looping over the names for the new columns\n",
    "    LData[Col_name] = LData[str(i)].cumsum() #Calculating the cummulitative income\n",
    "\n",
    "LData    \n",
    "    "
   ]
  },
  {
   "attachments": {},
   "cell_type": "markdown",
   "metadata": {},
   "source": [
    "Making list with accumulative income "
   ]
  },
  {
   "cell_type": "code",
   "execution_count": 4,
   "metadata": {},
   "outputs": [
    {
     "name": "stdout",
     "output_type": "stream",
     "text": [
      "3153667\n"
     ]
    }
   ],
   "source": [
    "Lorenz = LData.iloc[9,24] \n",
    "print(Lorenz)"
   ]
  },
  {
   "cell_type": "code",
   "execution_count": 5,
   "metadata": {},
   "outputs": [
    {
     "name": "stdout",
     "output_type": "stream",
     "text": [
      "[0, 2.5651265182452443, 8.409022764692372, 15.214846934928714, 22.96765109685383, 31.678262638235495, 41.358692507447664, 52.1010830894614, 64.13960404199098, 78.08168496948167, 100.0]\n"
     ]
    }
   ],
   "source": [
    "\n",
    "Cum_Income_20 = []\n",
    "\n",
    "Zero = 0\n",
    "Cum_Income_20.append(Zero)\n",
    "\n",
    "for i in range(10):\n",
    "    Numerator = LData.iloc[i,13]\n",
    "    Denominator = LData.iloc[9,13]\n",
    "    Value = (Numerator/Denominator)*100\n",
    "    Cum_Income_20.append(Value)\n",
    "\n",
    "print(Cum_Income_20)"
   ]
  },
  {
   "attachments": {},
   "cell_type": "markdown",
   "metadata": {},
   "source": [
    "Generating 12 empty lists for the accumulative income for each year"
   ]
  },
  {
   "cell_type": "code",
   "execution_count": 6,
   "metadata": {},
   "outputs": [
    {
     "name": "stdout",
     "output_type": "stream",
     "text": [
      "[]\n"
     ]
    }
   ],
   "source": [
    "Num_Lists = 12\n",
    "\n",
    "List_Names = [f\"Cum_Income_{i}\" for i in Years_int]\n",
    "\n",
    "\n",
    "empty_lists = [[] for i in range(Num_Lists)]\n",
    "\n",
    "for i, name in enumerate(List_Names):\n",
    "    globals()[name] = empty_lists[i]\n",
    "\n",
    "print(empty_lists[5])\n",
    "\n",
    "\n",
    "#Adding a 0 to each list if it is empty\n",
    "for i in empty_lists :\n",
    "    if i == [] :\n",
    "        i.append(0)\n",
    "    else :\n",
    "        0\n",
    "print(Cum_Income_2013)\n"
   ]
  },
  {
   "attachments": {},
   "cell_type": "markdown",
   "metadata": {},
   "source": [
    "Calculating the percatage cummulitative income and putting them into the same list"
   ]
  },
  {
   "cell_type": "code",
   "execution_count": 8,
   "metadata": {},
   "outputs": [
    {
     "name": "stdout",
     "output_type": "stream",
     "text": [
      "[2.5651265182452443, 8.409022764692372, 15.214846934928714, 22.96765109685383, 31.678262638235495, 41.358692507447664, 52.1010830894614, 64.13960404199098, 78.08168496948167, 100.0, 2.6324013647932554, 8.430372008620198, 15.188362132345848, 22.888280808913084, 31.549976614690262, 41.18579596435144, 51.888551315429034, 63.89934071003031, 77.83887157199439, 100.0, 3.0124690320288057, 8.787408453186115, 15.501586136370566, 23.137714719270356, 31.724314174008576, 41.28272228353529, 51.91127657984151, 63.850956212447485, 77.73567288969953, 100.0, 3.0694095576731386, 8.748520832437789, 15.382085506631618, 22.922007823468295, 31.413058200732063, 40.883015384964764, 51.4412911399181, 63.347180801925774, 77.25099091046971, 100.0, 2.797220842647941, 8.440493502502886, 15.062251552566941, 22.60564462245915, 31.11779658762798, 40.62590193390509, 51.240604503645045, 63.22102606184542, 77.217531669666, 100.0, 2.9996935780283867, 8.542689520445755, 15.068435526733195, 22.505729010287904, 30.90261724499633, 40.29163344522495, 50.787705146422624, 62.65302767291423, 76.54887816369109, 100.0, 2.881450385362127, 8.37061469903235, 14.877534654860721, 22.30948326260732, 30.721276190816265, 40.14691206966566, 50.6988332961691, 62.634707701050615, 76.61676782050547, 100.0, 2.8843889022206635, 8.293098037767892, 14.75192439037897, 22.138888376128328, 30.51221087995865, 39.90515570487143, 50.42995588208148, 62.34888228453288, 76.32813394126225, 100.0, 2.8394419153581483, 8.287371533297192, 14.769599456934776, 22.189891758473042, 30.603038294105744, 40.03912118369174, 50.61554726193195, 62.58978196234253, 76.61851002611084, 100.0, 2.92204474782055, 8.326774378823126, 14.745180694111168, 22.093116114244026, 30.420553072432828, 39.763514962611346, 50.232268940267076, 62.08668560713717, 75.99450547342866, 100.0, 2.9405429341008684, 8.28762423150357, 14.626690292020308, 21.923029984948506, 30.23269461740731, 39.58916159115023, 50.09649761023368, 62.00941768660484, 75.99233487538338, 100.0, 3.0273646520066957, 8.321867844639272, 14.566503058185914, 21.776617505906614, 29.990420675359825, 39.23213833293116, 49.60916926232225, 61.390882423540596, 75.27237339896699, 100.0]\n"
     ]
    }
   ],
   "source": [
    "Cum_Income_List = []    \n",
    "\n",
    "for i in range(13,25) :\n",
    "    Denominator = LData.iloc[9,i]\n",
    "    for j in range(10):\n",
    "        Numerator = LData.iloc[j,i]\n",
    "        Value = (Numerator/Denominator)*100\n",
    "        Cum_Income_List.append(Value)\n",
    "        \n",
    "print(Cum_Income_List)"
   ]
  },
  {
   "attachments": {},
   "cell_type": "markdown",
   "metadata": {},
   "source": [
    "Slicing the list and adding them to our seperate lists"
   ]
  },
  {
   "cell_type": "code",
   "execution_count": 9,
   "metadata": {},
   "outputs": [
    {
     "name": "stdout",
     "output_type": "stream",
     "text": [
      "120\n",
      "[0, 2.5651265182452443, 8.409022764692372, 15.214846934928714, 22.96765109685383, 31.678262638235495, 41.358692507447664, 52.1010830894614, 64.13960404199098, 78.08168496948167, 100.0]\n"
     ]
    }
   ],
   "source": [
    "Cum_Len = len(Cum_Income_List) \n",
    "print(Cum_Len)\n",
    "Elements_per_list = Cum_Len // 11\n",
    "sliced_lists = [Cum_Income_List[i*Elements_per_list:(i+1)*Elements_per_list] for i in range(12)]\n",
    "#print(sliced_lists)\n",
    "\n",
    "#for i, lst in enumerate(sliced_lists):\n",
    "    #print(f\"Cum_Values_{i+1} {lst}\")"
   ]
  },
  {
   "attachments": {},
   "cell_type": "markdown",
   "metadata": {},
   "source": [
    "Making list with accumulative intervals for population"
   ]
  },
  {
   "cell_type": "code",
   "execution_count": 10,
   "metadata": {},
   "outputs": [
    {
     "name": "stdout",
     "output_type": "stream",
     "text": [
      "[0, 10, 20, 30, 40, 50, 60, 70, 80, 90, 100]\n"
     ]
    }
   ],
   "source": [
    "Total = 0\n",
    "\n",
    "Cum_Num = []\n",
    "\n",
    "Cum_Num.append(Total)\n",
    "\n",
    "for i in range(10):\n",
    "    Total += 10\n",
    "    Cum_Num.append(Total)\n",
    "\n",
    "print(Cum_Num)\n"
   ]
  },
  {
   "cell_type": "code",
   "execution_count": null,
   "metadata": {},
   "outputs": [],
   "source": [
    "Kombiner de forskellige lister \n",
    "Og sæt i dataframe \n",
    "Plot lortet"
   ]
  },
  {
   "attachments": {},
   "cell_type": "markdown",
   "metadata": {},
   "source": [
    "Der skal tilføjes en række af nuller i vores datasæt som erstatning for \"0.decil\"\n",
    "Kummulitativ deciler skal beregnes \n",
    "Procentvis kummulitativ indkomst skal beregnes\n",
    "Plot Lorenz "
   ]
  },
  {
   "cell_type": "markdown",
   "metadata": {},
   "source": [
    "In order to be able to **explore the raw data**, you may provide **static** and **interactive plots** to show important developments "
   ]
  },
  {
   "cell_type": "markdown",
   "metadata": {},
   "source": [
    "Explain what you see when moving elements of the interactive plot around. "
   ]
  },
  {
   "cell_type": "markdown",
   "metadata": {},
   "source": [
    "# Merge data sets"
   ]
  },
  {
   "cell_type": "markdown",
   "metadata": {},
   "source": [
    "Now you create combinations of your loaded data sets. Remember the illustration of a (inner) **merge**:"
   ]
  },
  {
   "cell_type": "markdown",
   "metadata": {},
   "source": [
    "Here we are dropping elements from both data set X and data set Y. A left join would keep all observations in data X intact and subset only from Y. \n",
    "\n",
    "Make sure that your resulting data sets have the correct number of rows and columns. That is, be clear about which observations are thrown away. \n",
    "\n",
    "**Note:** Don't make Venn diagrams in your own data project. It is just for exposition. "
   ]
  },
  {
   "cell_type": "markdown",
   "metadata": {},
   "source": [
    "# Analysis"
   ]
  },
  {
   "cell_type": "markdown",
   "metadata": {},
   "source": [
    "To get a quick overview of the data, we show some **summary statistics** on a meaningful aggregation. "
   ]
  },
  {
   "cell_type": "markdown",
   "metadata": {},
   "source": [
    "MAKE FURTHER ANALYSIS. EXPLAIN THE CODE BRIEFLY AND SUMMARIZE THE RESULTS."
   ]
  },
  {
   "cell_type": "markdown",
   "metadata": {},
   "source": [
    "# Conclusion"
   ]
  },
  {
   "cell_type": "markdown",
   "metadata": {},
   "source": [
    "ADD CONCISE CONLUSION."
   ]
  }
 ],
 "metadata": {
  "kernelspec": {
   "display_name": "base",
   "language": "python",
   "name": "python3"
  },
  "language_info": {
   "codemirror_mode": {
    "name": "ipython",
    "version": 3
   },
   "file_extension": ".py",
   "mimetype": "text/x-python",
   "name": "python",
   "nbconvert_exporter": "python",
   "pygments_lexer": "ipython3",
   "version": "3.9.16"
  },
  "toc-autonumbering": true,
  "vscode": {
   "interpreter": {
    "hash": "f94d147dad376476c76c595948ee09dc0f9a8880d472df9ee3b51defd8224827"
   }
  }
 },
 "nbformat": 4,
 "nbformat_minor": 4
}
