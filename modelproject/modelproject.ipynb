{
 "cells": [
  {
   "attachments": {},
   "cell_type": "markdown",
   "metadata": {},
   "source": [
    "# MODEL PROJECT "
   ]
  },
  {
   "attachments": {},
   "cell_type": "markdown",
   "metadata": {},
   "source": [
    "Imports and set magics:"
   ]
  },
  {
   "cell_type": "code",
   "execution_count": 6,
   "metadata": {},
   "outputs": [
    {
     "name": "stdout",
     "output_type": "stream",
     "text": [
      "The autoreload extension is already loaded. To reload it, use:\n",
      "  %reload_ext autoreload\n"
     ]
    }
   ],
   "source": [
    "# We start out by importing packages\n",
    "import numpy as np\n",
    "from scipy import optimize\n",
    "import sympy as sm\n",
    "import matplotlib.pyplot as plt\n",
    "from sympy import Symbol\n",
    "import ipywidgets as widgets\n",
    "from sympy.solvers import solve\n",
    "sm.init_printing(use_unicode=True)\n",
    "from IPython.display import display\n",
    "\n",
    "\n",
    "# autoreload modules when code is run\n",
    "%load_ext autoreload\n",
    "%autoreload 2\n",
    "\n",
    "# local modules\n",
    "import modelproject"
   ]
  },
  {
   "attachments": {},
   "cell_type": "markdown",
   "metadata": {},
   "source": [
    "# Description of Broydens method \n",
    "\n",
    "Boyden’s method is a numerical algorithm used for solving systems of nonlinear equations. It is an iterative method that finds the roots of a set of n nonlinear equations in n variables, where n can be any positive integer. \n",
    "\n",
    "It uses the secant method, which uses a finite difference approximation to estimate the Jacobian matrix. Here it uses the current approximation of the Jacobian matrix and the changes in the values of the variables, to compute a new estimate of the Jacobian matrix at the next iteration."
   ]
  },
  {
   "attachments": {},
   "cell_type": "markdown",
   "metadata": {},
   "source": [
    "# Model description\n",
    "\n",
    "The Solow-model with human capital can be described by the following equations: \n",
    "\n",
    "$K_t =$ Physical capital   \n",
    "\n",
    "$H_t=$ Human capital \n",
    "\n",
    "$L_t =$ Labour\n",
    "\n",
    "$A_t =$ Teknological level\n",
    "\n",
    "The overall production function is: \n",
    "\n",
    "$Y_t = K_t^{\\alpha}H_t^{\\varphi}(A_tL_t)^{1-\\alpha-\\varphi}, \\quad 0<\\alpha<1, 0<\\varphi<1, \\alpha+\\varphi<1$\n",
    "\n",
    "The household decides how much to save of physical capital and of human capital.\n",
    "The savings rate is hereby: \n",
    "\n",
    "$S_t = (s_K + s_H)Y_t$\n",
    "Here $s_H$ denotes the savings of human kapital and $s_K$ denotes the savings of physical capital. \n",
    "\n",
    "Accumulation of Human capital: \n",
    "$ H_{t+1}=s_HY_t+(1-\\delta)H_t, $\n",
    "\n",
    "Accumulation of capital: \n",
    "$K_{t+1}=s_KY_t+(1-\\delta)K_t  $ \n",
    "\n",
    "Accumulation of Technology: \n",
    "$  A_{t+1} = (1+g)A_t $\n",
    "\n",
    "Accumulation of Labour:\n",
    "$L_{t+1} = (1+n)L_t $\n",
    "\n",
    "g denotes the growth rate in technology, n denotes the growthrate in the population and $\\delta$ denotes the depreciation in capital\n",
    "\n",
    "To construct the transition equations we need to define the \"tilde\" variables: \n",
    "\n",
    "$\\tilde{k}_{t}= \\frac{K_t}{A_tL_t}$\n",
    "\n",
    "$\\tilde{h}_{t}= \\frac{H_t}{A_tL_t}$\n",
    "\n",
    "From here we can construct the two transition eqations used to construct the nullclines: \n",
    "\n",
    "For physical capital: \n",
    "$\\tilde{k}_{t+1} = \\frac{1}{(1+n)(1+g)}(s_K\\tilde{k}_{t}^{\\alpha}\\tilde{h}_{t}^{\\varphi}+(1+{\\delta})\\tilde{k}_{t})$\n",
    "\n",
    "For human capital: \n",
    "$\\tilde{h}_{t+1} = \\frac{1}{(1+n)(1+g)}(s_H\\tilde{k}_{t}^{\\alpha}\\tilde{h}_{t}^{\\varphi}+(1+{\\delta})\\tilde{h}_{t})$\n",
    "\n",
    "The two hull-clines are defined as: \n",
    "\n",
    "$\\tilde{k}_{t+1}-\\tilde{k}_{t} = \\frac{1}{(1+n)(1+g)}(s_K\\tilde{k}_{t}^{\\alpha}\\tilde{h}_{t}^{\\varphi}-(n+g+{\\delta}+ng)\\tilde{k}_{t})$\n",
    "\n",
    "$\\tilde{h}_{t+1}-\\tilde{h}_{t} = \\frac{1}{(1+n)(1+g)}(s_H\\tilde{k}_{t}^{\\alpha}\\tilde{h}_{t}^{\\varphi}-(n+g+{\\delta}+ng)\\tilde{h}_{t})$"
   ]
  },
  {
   "attachments": {},
   "cell_type": "markdown",
   "metadata": {},
   "source": [
    "# Analytical solution"
   ]
  },
  {
   "cell_type": "code",
   "execution_count": 7,
   "metadata": {},
   "outputs": [],
   "source": [
    "# First we define our symbols:\n",
    "k_tilde = sm.symbols(\"ktilde_t\")\n",
    "h_tilde = sm.symbols(\"htilde_t\")\n",
    "alpha = sm.symbols(\"alpha\")\n",
    "phi = sm.symbols(\"phi\")\n",
    "delta = sm.symbols(\"delta\")\n",
    "g = sm.symbols(\"g\")\n",
    "n = sm.symbols(\"n\")\n",
    "sK = sm.symbols(\"s_K\")\n",
    "sH = sm.symbols(\"s_H\")"
   ]
  },
  {
   "cell_type": "code",
   "execution_count": 8,
   "metadata": {},
   "outputs": [
    {
     "data": {
      "image/png": "[encoded data removed]",
      "text/latex": [
       "$\\displaystyle \\left\\{ \\tilde{h}_{t} : \\frac{\\tilde{h}_{t}^{\\phi} \\tilde{k}_{t}^{\\alpha} s_{H}}{\\delta + g n + g + n}, \\  \\tilde{k}_{t} : \\frac{\\tilde{h}_{t}^{\\phi} \\tilde{k}_{t}^{\\alpha} s_{K}}{\\delta + g n + g + n}\\right\\}$"
      ],
      "text/plain": [
       "⎧        φ   α                φ   α      ⎫\n",
       "⎪     h̃ₜ ⋅k̃ₜ ⋅s_H        h̃ₜ ⋅k̃ₜ ⋅s_K ⎪\n",
       "⎨h̃ₜ: ───────────────, k̃ₜ: ───────────────⎬\n",
       "⎪    δ + g⋅n + g + n      δ + g⋅n + g + n⎪\n",
       "⎩                                        ⎭"
      ]
     },
     "metadata": {},
     "output_type": "display_data"
    }
   ],
   "source": [
    "# First we define the transition equations:\n",
    "k_trans = sm.Eq(k_tilde, 1/((1+n)*(1+g)) * (sK * k_tilde**alpha * h_tilde**phi + (1-delta) * k_tilde))\n",
    "h_trans = sm.Eq(h_tilde, 1/((1+n)*(1+g)) * (sH * k_tilde**alpha * h_tilde**phi + (1-delta) * h_tilde))\n",
    "\n",
    "# Solving the transition equations\n",
    "sm.nonlinsolve([k_trans, h_trans], [k_tilde, h_tilde])\n",
    "ss = sm.solve((k_trans, h_trans),(k_tilde,h_tilde), implicit=True, manual=True)\n",
    "display(ss)"
   ]
  },
  {
   "attachments": {},
   "cell_type": "markdown",
   "metadata": {},
   "source": [
    "# Numerical solution"
   ]
  },
  {
   "attachments": {},
   "cell_type": "markdown",
   "metadata": {},
   "source": [
    "We use the broyden algorithm described above in a numerical optimizer to find the numerical solution for our model"
   ]
  },
  {
   "cell_type": "code",
   "execution_count": 9,
   "metadata": {},
   "outputs": [],
   "source": [
    "# Setting realtistic values for our parameters\n",
    "alpha_v = 0.33\n",
    "phi_v = 0.4\n",
    "delta_v = 0.06\n",
    "g_v = 0.02\n",
    "n_v = 0.01\n",
    "sK_v = 0.27\n",
    "sH_v = 0.27\n",
    "\n",
    "# Generating the values for our k_tilde\n",
    "k_values = np.linspace(0, 2500, 1000)"
   ]
  },
  {
   "cell_type": "code",
   "execution_count": 10,
   "metadata": {},
   "outputs": [
    {
     "name": "stdout",
     "output_type": "stream",
     "text": [
      "From our optimizer we get the numerical solution: k* = 58.02, h* = 58.02\n"
     ]
    },
    {
     "name": "stderr",
     "output_type": "stream",
     "text": [
      "C:\\Users\\Asger Thimmer\\AppData\\Local\\Temp\\ipykernel_12152\\459579996.py:3: RuntimeWarning: invalid value encountered in double_scalars\n",
      "  return (h_tilde**phi_v * k_tilde**alpha_v *sK_v +k_tilde*(1-delta_v))/((g_v+1) * (n_v+1)) -k_tilde\n",
      "C:\\Users\\Asger Thimmer\\AppData\\Local\\Temp\\ipykernel_12152\\459579996.py:7: RuntimeWarning: invalid value encountered in double_scalars\n",
      "  return (h_tilde**phi_v * k_tilde**alpha_v *sH_v +h_tilde*(1-delta_v))/((g_v+1) * (n_v+1)) -h_tilde\n",
      "c:\\ProgramData\\anaconda3\\lib\\site-packages\\scipy\\optimize\\_nonlin.py:912: RuntimeWarning: invalid value encountered in divide\n",
      "  d = v / vdot(df, v)\n"
     ]
    }
   ],
   "source": [
    "# We define a function where the transition for physical capital equation has been isolated on the right side of the equation\n",
    "def k_trans_func(k_tilde, h_tilde, sK_v, sH_v, alpha_v, phi_v, delta_v, n_v, g_V):\n",
    "    return (h_tilde**phi_v * k_tilde**alpha_v *sK_v +k_tilde*(1-delta_v))/((g_v+1) * (n_v+1)) -k_tilde\n",
    "\n",
    "# Same for human capital\n",
    "def h_trans_func(k_tilde, h_tilde, sK_v, sH_v, alpha_v, phi_v, delta_v, n_v, g_V):\n",
    "    return (h_tilde**phi_v * k_tilde**alpha_v *sH_v +h_tilde*(1-delta_v))/((g_v+1) * (n_v+1)) -h_tilde\n",
    "\n",
    "# We define a lambda function containing both our functions, where k_tilde & h_tilde are set as x[0] & x[1] as we want the values that gives the optimal solution\n",
    "objective = lambda x: [k_trans_func(x[0], x[1], sK_v, sH_v, alpha_v, phi_v, delta_v, n_v, g_v), \n",
    "                       h_trans_func(x[0], x[1], sK_v, sH_v, alpha_v, phi_v, delta_v, n_v, g_v)]  \n",
    "\n",
    "# Setting initial guess\n",
    "intial_guess =[1,1]\n",
    "\n",
    "# Creating optimizer\n",
    "result = optimize.root(objective, intial_guess, method = \"broyden1\")\n",
    "\n",
    "print(f'From our optimizer we get the numerical solution: k* = {result.x[1]:.2f}, h* = {result.x[0]:.2f}')"
   ]
  },
  {
   "attachments": {},
   "cell_type": "markdown",
   "metadata": {},
   "source": [
    "# Visual solution"
   ]
  },
  {
   "attachments": {},
   "cell_type": "markdown",
   "metadata": {},
   "source": [
    "To make the visual solution we derive the nullclines from our transition equations and plot them in a phasediagram. The SS for $\\tilde{k}_{t}$ & $\\tilde{h}_{t}$ is where to the lines cross each other."
   ]
  },
  {
   "cell_type": "code",
   "execution_count": 11,
   "metadata": {},
   "outputs": [
    {
     "data": {
      "application/vnd.jupyter.widget-view+json": {
       "model_id": "fd21c62828704a6289fb43d1f4bdd2a7",
       "version_major": 2,
       "version_minor": 0
      },
      "text/plain": [
       "Button(description='Reset sliders', style=ButtonStyle())"
      ]
     },
     "metadata": {},
     "output_type": "display_data"
    },
    {
     "data": {
      "application/vnd.jupyter.widget-view+json": {
       "model_id": "972e54a9e13e40e98f8724407d0cb08c",
       "version_major": 2,
       "version_minor": 0
      },
      "text/plain": [
       "interactive(children=(FloatSlider(value=0.33, description='Alpha:', max=1.0, min=0.1, step=0.01), FloatSlider(…"
      ]
     },
     "metadata": {},
     "output_type": "display_data"
    }
   ],
   "source": [
    "# Isolating h_tilde in the transition equation and setting it equal to 0  \n",
    "k_solve = sm.solve(k_trans,h_tilde)[0]\n",
    "h_solve = sm.solve(h_trans,h_tilde)[0]\n",
    "\n",
    "\n",
    "# We convert our nullclines into python functions\n",
    "k_null_py = sm.lambdify([k_tilde, alpha, delta, g, n, phi, sK], k_solve)\n",
    "h_null_py = sm.lambdify([k_tilde, alpha, delta, g, n, phi, sH], h_solve)\n",
    "\n",
    "\n",
    "# Defining the plot for our nullclines\n",
    "def phasediagram(alpha_guess, phi_guess, sK_guess, sH_guess):\n",
    "    # Inserting k_values into our nullclines\n",
    "    k_null_display = k_null_py(k_values, alpha_guess, delta_v, g_v, n_v, phi_guess, sK_guess)\n",
    "    h_null_display = h_null_py(k_values, alpha_guess, delta_v, g_v, n_v, phi_guess, sH_guess)\n",
    "\n",
    "    # Making plot\n",
    "    fig = plt.figure()\n",
    "    ax = fig.add_subplot(1,1,1)\n",
    "    ax.plot(k_values, k_null_display)\n",
    "    ax.plot(k_values, h_null_display)\n",
    "    ax.set_xlim(0, 100)\n",
    "    ax.set_ylim(0, 100)\n",
    "\n",
    "    # setting labels and title\n",
    "    ax.set_title('Phasediagram')\n",
    "    ax.set_xlabel('k_tilde')\n",
    "    ax.set_ylabel('h_tilde')\n",
    "    ax.grid(True, linewidth=1)\n",
    "\n",
    "    \n",
    "\n",
    "# Setting initial values for parameters\n",
    "alpha_guess = 0.33\n",
    "phi_guess = 0.4\n",
    "sK_guess = 0.27\n",
    "sH_guess = 0.27\n",
    "\n",
    "# Making a button to reset the value of our sliders to the initial value\n",
    "reset_button = widgets.Button(description=\"Reset sliders\")\n",
    "\n",
    "# Defining the button\n",
    "def reset_sliders(button):\n",
    "    alpha_slider.value = alpha_guess\n",
    "    phi_slider.value = phi_guess\n",
    "    sK_slider.value = sK_guess\n",
    "    sH_slider.value = sH_guess\n",
    "reset_button.on_click(reset_sliders)\n",
    "display(reset_button)\n",
    "\n",
    "\n",
    "# Creating our sliders \n",
    "alpha_slider = widgets.FloatSlider(\n",
    "                min=0.1, max=1, step=0.01, value=alpha_guess, description=\"Alpha:\")\n",
    "phi_slider = widgets.FloatSlider(\n",
    "                min=0.1, max=1, step=0.01, value=phi_guess, description=\"Phi:\")\n",
    "sK_slider = widgets.FloatSlider(\n",
    "                min=0.1, max=1, step=0.01, value=sK_guess, description=\"sK:\")\n",
    "sH_slider = widgets.FloatSlider(\n",
    "                min=0.1, max=1, step=0.01, value=sH_guess, description=\"sH:\")\n",
    "\n",
    "# Adding the sliders to our diagram\n",
    "widgets.interact(phasediagram, \n",
    "                alpha_guess=alpha_slider,\n",
    "                phi_guess=phi_slider,\n",
    "                sK_guess=sK_slider,\n",
    "                sH_guess=sH_slider\n",
    "                )\n",
    "\n",
    "plt.show()    "
   ]
  },
  {
   "attachments": {},
   "cell_type": "markdown",
   "metadata": {},
   "source": [
    "# Simulating model with a changeable shock to sK"
   ]
  },
  {
   "cell_type": "code",
   "execution_count": 12,
   "metadata": {},
   "outputs": [
    {
     "data": {
      "application/vnd.jupyter.widget-view+json": {
       "model_id": "e63d41f6a3a649c8a7f139b92691c052",
       "version_major": 2,
       "version_minor": 0
      },
      "text/plain": [
       "interactive(children=(FloatSlider(value=0.2, continuous_update=False, description='sK:', max=1.0, min=0.12, st…"
      ]
     },
     "metadata": {},
     "output_type": "display_data"
    },
    {
     "data": {
      "text/plain": [
       "<function __main__.shock_update(shock)>"
      ]
     },
     "execution_count": 12,
     "metadata": {},
     "output_type": "execute_result"
    }
   ],
   "source": [
    "# We define our initial values\n",
    "k0 = 1\n",
    "h0 = 1\n",
    "a0 = 1\n",
    "l0 = 1\n",
    "t0 = 0\n",
    "T = 250\n",
    "\n",
    "# Creating arrays for storing the values produced by the model\n",
    "k_capital = np.zeros(T+1)\n",
    "h_capital = np.zeros(T+1)\n",
    "y_output = np.zeros(T+1)\n",
    "l_workers = np.zeros(T+1)\n",
    "a_tech = np.zeros(T+1)\n",
    "y_growth = np.zeros(T+1)\n",
    "t = np.arange(T)\n",
    "\n",
    "# Storing initial values in our arrays\n",
    "k_capital[0] = k0\n",
    "h_capital[0] = h0\n",
    "a_tech[0] = a0\n",
    "l_workers[0] = l0\n",
    "y_growth = []\n",
    "\n",
    "# We define a function including our simulation and the plot\n",
    "def sK_shock(shock):\n",
    "    # Creating a for loop that runs the simulation for T periods\n",
    "    for i in range(T):\n",
    "        # if-statement that creates permenant shock to sK from periode 3 and onwards\n",
    "        if i <= 2:\n",
    "            sK_v = 0.1\n",
    "        else:\n",
    "            sK_v = shock    \n",
    "\n",
    "        # The equations that make up the model\n",
    "        y_output[i+1] = k_capital[i]**alpha_v * h_capital[i]**phi_v * (a_tech[i]*l_workers[i])**(1-alpha_v-phi_v)\n",
    "        l_workers[i+1] = (1+n_v) * l_workers[i]\n",
    "        a_tech[i+1] = (1+g_v) * a_tech[i]\n",
    "        k_capital[i+1] = sK_v * y_output[i] + (1-delta_v) * k_capital[i]\n",
    "        h_capital[i+1] = sH_v * y_output[i] + (1-delta_v) * h_capital[i]\n",
    "\n",
    "        # Calculating the groth in y\n",
    "        y_growth.append(np.log(y_output[i+1])-np.log(y_output[i]))\n",
    "\n",
    "    # Plotting the simulation\n",
    "    fig = plt.figure(figsize=(13,5))\n",
    "    ax = fig.add_subplot(1,2,1)\n",
    "    ax.plot(y_growth[2:], color=\"blue\")\n",
    "    plt.axhline(y_growth[249],xmax=1,color=\"black\",linestyle=\"--\")\n",
    "    ax.set_ylabel('Growth in y')\n",
    "    ax.set_xlabel('Time')\n",
    "    ax.set_title('Growth in y, solow model with human capital')\n",
    "    ax.legend()\n",
    "\n",
    "# Setting the slider parameters\n",
    "shock_slider = widgets.FloatSlider(\n",
    "                min=0.12, max=1, step=0.01, value=0.2, description=\"sK:\",continuous_update=False)\n",
    "\n",
    "# Defining the slider \n",
    "def shock_update(shock):\n",
    "    sK_shock(shock)\n",
    "    # Clearing y_growth list to allow for new values\n",
    "    y_growth.clear() \n",
    "    plt.show()\n",
    "\n",
    "# Adding the sliders to our diagram\n",
    "widgets.interact(shock_update, shock=shock_slider)\n",
    "\n"
   ]
  },
  {
   "attachments": {},
   "cell_type": "markdown",
   "metadata": {},
   "source": [
    "# Extension: Simulating solow model with human capital and oil"
   ]
  },
  {
   "cell_type": "code",
   "execution_count": 16,
   "metadata": {},
   "outputs": [
    {
     "name": "stderr",
     "output_type": "stream",
     "text": [
      "C:\\Users\\Asger Thimmer\\AppData\\Local\\Temp\\ipykernel_12152\\1016608424.py:50: RuntimeWarning: divide by zero encountered in log\n",
      "  y_growth_vE.append(np.log(y_output[i+1])-np.log(y_output[i])) # Growth in output appended to list\n",
      "C:\\Users\\Asger Thimmer\\AppData\\Local\\Temp\\ipykernel_12152\\1016608424.py:50: RuntimeWarning: invalid value encountered in double_scalars\n",
      "  y_growth_vE.append(np.log(y_output[i+1])-np.log(y_output[i])) # Growth in output appended to list\n",
      "No artists with labels found to put in legend.  Note that artists whose label start with an underscore are ignored when legend() is called with no argument.\n"
     ]
    },
    {
     "data": {
      "image/png": "[encoded data removed]",
      "text/plain": [
       "<Figure size 1300x500 with 1 Axes>"
      ]
     },
     "metadata": {},
     "output_type": "display_data"
    }
   ],
   "source": [
    "# Setting values for additional parameters\n",
    "alpha_vE = 0.25\n",
    "phi_vE = 0.25\n",
    "beta_vE = 0.25\n",
    "epsilon_vE = 0.25\n",
    "delta_v = 0.06\n",
    "g_v = 0.02\n",
    "n_v = 0.01\n",
    "sK_v = 0.1\n",
    "sH_v = 0.1\n",
    "sR_v = 0.1\n",
    "\n",
    "# We define our initial values\n",
    "k0 = 1\n",
    "h0 = 1\n",
    "a0 = 1\n",
    "l0 = 1\n",
    "t0 = 0\n",
    "r0 = 100\n",
    "T = 250\n",
    "\n",
    "# Create arrays for storing the values produced by the model\n",
    "k_capital = np.zeros(T+1)\n",
    "h_capital = np.zeros(T+1)\n",
    "y_output = np.zeros(T+1)\n",
    "l_workers = np.zeros(T+1)\n",
    "a_tech = np.zeros(T+1)\n",
    "e_extraction = np.zeros(T+1)\n",
    "y_growth_vE = np.zeros(T+1)\n",
    "r_oil = np.zeros(T+1)\n",
    "t = np.arange(T)\n",
    "\n",
    "# Storing initial values in our arrays\n",
    "k_capital[0] = k0\n",
    "h_capital[0] = h0\n",
    "a_tech[0] = a0\n",
    "l_workers[0] = l0\n",
    "r_oil[0] = r0\n",
    "y_growth_vE = []\n",
    "\n",
    "# Setting for loop that simulates the model\n",
    "for i in range(T):\n",
    "    e_extraction[i+1] = sR_v*r_oil[i] # Amount of oil extracted\n",
    "    r_oil[i+1] = r_oil[i] - e_extraction[i] # Oil remaining for next period\n",
    "    y_output[i+1] = k_capital[i]**alpha_vE * h_capital[i]**phi_vE * (a_tech[i]*l_workers[i])**beta_vE *e_extraction[i]**epsilon_vE # Output next period\n",
    "    l_workers[i+1] = (1+n_v) * l_workers[i] # Workers next periode\n",
    "    a_tech[i+1] = (1+g_v) * a_tech[i] # Technology next period\n",
    "    k_capital[i+1] = sK_v * y_output[i] + (1-delta_v) * k_capital[i] # Physical capital next period\n",
    "    h_capital[i+1] = sH_v * y_output[i] + (1-delta_v) * h_capital[i] # Human capital next period\n",
    "    y_growth_vE.append(np.log(y_output[i+1])-np.log(y_output[i])) # Growth in output appended to list\n",
    "    \n",
    "\n",
    "# Plotting the simulation\n",
    "fig = plt.figure(figsize=(13,5))\n",
    "ax = fig.add_subplot(1,2,1)\n",
    "ax.plot(y_growth_vE[1:], color=\"orange\")\n",
    "plt.axhline(y_growth_vE[249],xmax=1, color=\"black\", linestyle=\"--\")\n",
    "ax.set_ylabel('Growth in y')\n",
    "ax.set_xlabel('Time')\n",
    "ax.set_title('Growth in y, solow model with human capital and oil')\n",
    "ax.legend()\n",
    "\n",
    "plt.show()\n"
   ]
  },
  {
   "attachments": {},
   "cell_type": "markdown",
   "metadata": {},
   "source": [
    "# Conclusion"
   ]
  },
  {
   "attachments": {},
   "cell_type": "markdown",
   "metadata": {},
   "source": [
    "To conclude our model project we have described the solow model with human capital. Made an analytical, numerical and visual solution. Simulated the the model with a changable shock variable and extended the model with oil. \n",
    "\n",
    "We can conclude that an increase in the savingsrate for physical capital increases the initial growth i y. On top of this we can conclude from our visual solution of the model that an increase in either the svaingsrate of human capital $s_H$ or the savingsrate physical capital $s_K$ will increase the steadysate ceteris paribus.\n",
    "\n",
    "Futhermore we can conclude from our analysis that if we add oil to the model as a diminising nature resource the growth in y will be negative approximately after 20 periods.  "
   ]
  }
 ],
 "metadata": {
  "kernelspec": {
   "display_name": "base",
   "language": "python",
   "name": "python3"
  },
  "language_info": {
   "codemirror_mode": {
    "name": "ipython",
    "version": 3
   },
   "file_extension": ".py",
   "mimetype": "text/x-python",
   "name": "python",
   "nbconvert_exporter": "python",
   "pygments_lexer": "ipython3",
   "version": "3.9.16"
  },
  "toc-autonumbering": true,
  "vscode": {
   "interpreter": {
    "hash": "3c06e3e46abf38078fe4dac36a0085ec2b134ebbd73dd076183d243eeca6918f"
   }
  }
 },
 "nbformat": 4,
 "nbformat_minor": 4
}
