{
 "cells": [
  {
   "attachments": {},
   "cell_type": "markdown",
   "metadata": {},
   "source": [
    "# MODEL PROJECT "
   ]
  },
  {
   "attachments": {},
   "cell_type": "markdown",
   "metadata": {},
   "source": [
    "Imports and set magics:"
   ]
  },
  {
   "cell_type": "code",
   "execution_count": 9,
   "metadata": {},
   "outputs": [
    {
     "name": "stdout",
     "output_type": "stream",
     "text": [
      "The autoreload extension is already loaded. To reload it, use:\n",
      "  %reload_ext autoreload\n"
     ]
    },
    {
     "name": "stderr",
     "output_type": "stream",
     "text": [
      "[autoreload of modelproject failed: Traceback (most recent call last):\n",
      "  File \"c:\\Users\\bjorn\\anaconda3\\lib\\site-packages\\IPython\\extensions\\autoreload.py\", line 245, in check\n",
      "    superreload(m, reload, self.old_objects)\n",
      "  File \"c:\\Users\\bjorn\\anaconda3\\lib\\site-packages\\IPython\\extensions\\autoreload.py\", line 394, in superreload\n",
      "    module = reload(module)\n",
      "  File \"c:\\Users\\bjorn\\anaconda3\\lib\\imp.py\", line 314, in reload\n",
      "    return importlib.reload(module)\n",
      "  File \"c:\\Users\\bjorn\\anaconda3\\lib\\importlib\\__init__.py\", line 169, in reload\n",
      "    _bootstrap._exec(spec, module)\n",
      "  File \"<frozen importlib._bootstrap>\", line 613, in _exec\n",
      "  File \"<frozen importlib._bootstrap_external>\", line 846, in exec_module\n",
      "  File \"<frozen importlib._bootstrap_external>\", line 983, in get_code\n",
      "  File \"<frozen importlib._bootstrap_external>\", line 913, in source_to_code\n",
      "  File \"<frozen importlib._bootstrap>\", line 228, in _call_with_frames_removed\n",
      "  File \"c:\\Users\\bjorn\\OneDrive - University of Copenhagen\\4. semester\\projects-2023-pied-piper-4\\modelproject\\modelproject.py\", line 220\n",
      "    sol.yG.append(np.log(sol.y[i+1])-np.log(sol.y[i]))\n",
      "    ^\n",
      "IndentationError: expected an indented block\n",
      "]\n"
     ]
    }
   ],
   "source": [
    "# We start out by importing packages\n",
    "import numpy as np\n",
    "from scipy import optimize\n",
    "import sympy as sm\n",
    "import matplotlib.pyplot as plt\n",
    "from sympy import Symbol\n",
    "import ipywidgets as widgets\n",
    "from tabulate import tabulate\n",
    "from sympy.solvers import solve\n",
    "sm.init_printing(use_unicode=True)\n",
    "from IPython.display import display\n",
    "from modelproject import SolowModel\n",
    "\n",
    "# autoreload modules when code is run\n",
    "%load_ext autoreload\n",
    "%autoreload 2"
   ]
  },
  {
   "attachments": {},
   "cell_type": "markdown",
   "metadata": {},
   "source": [
    "# Part 1: Description of Broydens method \n",
    "\n",
    "Boyden’s method is a numerical algorithm used for solving systems of nonlinear equations. It is an iterative method that finds the roots of a set of n nonlinear equations in n variables, where n can be any positive integer. \n",
    "\n",
    "It uses the secant method, which uses a finite difference approximation to estimate the Jacobian matrix. Here it uses the current approximation of the Jacobian matrix and the changes in the values of the variables, to compute a new estimate of the Jacobian matrix at the next iteration."
   ]
  },
  {
   "attachments": {},
   "cell_type": "markdown",
   "metadata": {},
   "source": [
    "# Part 2: Model description\n",
    "\n",
    "The Solow-model with human capital can be described by the following equations: \n",
    "\n",
    "$K_t =$ Physical capital   \n",
    "\n",
    "$H_t=$ Human capital \n",
    "\n",
    "$L_t =$ Labour\n",
    "\n",
    "$A_t =$ Teknological level\n",
    "\n",
    "The overall production function is: \n",
    "\n",
    "$Y_t = K_t^{\\alpha}H_t^{\\varphi}(A_tL_t)^{1-\\alpha-\\varphi}, \\quad 0<\\alpha<1, 0<\\varphi<1, \\alpha+\\varphi<1$\n",
    "\n",
    "The household decides how much to save of physical capital and of human capital.\n",
    "The savings rate is hereby: \n",
    "\n",
    "$S_t = (s_K + s_H)Y_t$\n",
    "Here $s_H$ denotes the savings of human kapital and $s_K$ denotes the savings of physical capital. \n",
    "\n",
    "Accumulation of Human capital: \n",
    "$ H_{t+1}=s_HY_t+(1-\\delta)H_t, $\n",
    "\n",
    "Accumulation of capital: \n",
    "$K_{t+1}=s_KY_t+(1-\\delta)K_t  $ \n",
    "\n",
    "Accumulation of Technology: \n",
    "$  A_{t+1} = (1+g)A_t $\n",
    "\n",
    "Accumulation of Labour:\n",
    "$L_{t+1} = (1+n)L_t $\n",
    "\n",
    "g denotes the growth rate in technology, n denotes the growthrate in the population and $\\delta$ denotes the depreciation in capital\n",
    "\n",
    "To construct the transition equations we need to define the \"tilde\" variables: \n",
    "\n",
    "$\\tilde{k}_{t}= \\frac{K_t}{A_tL_t}$\n",
    "\n",
    "$\\tilde{h}_{t}= \\frac{H_t}{A_tL_t}$\n",
    "\n",
    "From here we can construct the two transition eqations used to construct the nullclines: \n",
    "\n",
    "For physical capital: \n",
    "$\\tilde{k}_{t+1} = \\frac{1}{(1+n)(1+g)}(s_K\\tilde{k}_{t}^{\\alpha}\\tilde{h}_{t}^{\\varphi}+(1+{\\delta})\\tilde{k}_{t})$\n",
    "\n",
    "For human capital: \n",
    "$\\tilde{h}_{t+1} = \\frac{1}{(1+n)(1+g)}(s_H\\tilde{k}_{t}^{\\alpha}\\tilde{h}_{t}^{\\varphi}+(1+{\\delta})\\tilde{h}_{t})$\n",
    "\n",
    "The two hull-clines are defined as: \n",
    "\n",
    "$\\tilde{k}_{t+1}-\\tilde{k}_{t} = \\frac{1}{(1+n)(1+g)}(s_K\\tilde{k}_{t}^{\\alpha}\\tilde{h}_{t}^{\\varphi}-(n+g+{\\delta}+ng)\\tilde{k}_{t})$\n",
    "\n",
    "$\\tilde{h}_{t+1}-\\tilde{h}_{t} = \\frac{1}{(1+n)(1+g)}(s_H\\tilde{k}_{t}^{\\alpha}\\tilde{h}_{t}^{\\varphi}-(n+g+{\\delta}+ng)\\tilde{h}_{t})$"
   ]
  },
  {
   "attachments": {},
   "cell_type": "markdown",
   "metadata": {},
   "source": [
    "# Part 3: Analytical solution"
   ]
  },
  {
   "cell_type": "code",
   "execution_count": 2,
   "metadata": {},
   "outputs": [],
   "source": [
    "# 1. First we define our symbols:\n",
    "k_tilde = sm.symbols(\"ktilde_t\")\n",
    "h_tilde = sm.symbols(\"htilde_t\")\n",
    "alpha = sm.symbols(\"alpha\")\n",
    "phi = sm.symbols(\"phi\")\n",
    "delta = sm.symbols(\"delta\")\n",
    "g = sm.symbols(\"g\")\n",
    "n = sm.symbols(\"n\")\n",
    "sK = sm.symbols(\"s_K\")\n",
    "sH = sm.symbols(\"s_H\")"
   ]
  },
  {
   "cell_type": "code",
   "execution_count": 3,
   "metadata": {},
   "outputs": [
    {
     "data": {
      "image/png": "[encoded data removed]",
      "text/latex": [
       "$\\displaystyle \\left\\{ \\tilde{h}_{t} : \\frac{\\tilde{h}_{t}^{\\phi} \\tilde{k}_{t}^{\\alpha} s_{H}}{\\delta + g n + g + n}, \\  \\tilde{k}_{t} : \\frac{\\tilde{h}_{t}^{\\phi} \\tilde{k}_{t}^{\\alpha} s_{K}}{\\delta + g n + g + n}\\right\\}$"
      ],
      "text/plain": [
       "⎧        φ   α                φ   α      ⎫\n",
       "⎪     h̃ₜ ⋅k̃ₜ ⋅s_H        h̃ₜ ⋅k̃ₜ ⋅s_K ⎪\n",
       "⎨h̃ₜ: ───────────────, k̃ₜ: ───────────────⎬\n",
       "⎪    δ + g⋅n + g + n      δ + g⋅n + g + n⎪\n",
       "⎩                                        ⎭"
      ]
     },
     "metadata": {},
     "output_type": "display_data"
    }
   ],
   "source": [
    "# 2. We define the transition equations:\n",
    "k_trans = sm.Eq(k_tilde, 1/((1+n)*(1+g)) * (sK * k_tilde**alpha * h_tilde**phi + (1-delta) * k_tilde))\n",
    "h_trans = sm.Eq(h_tilde, 1/((1+n)*(1+g)) * (sH * k_tilde**alpha * h_tilde**phi + (1-delta) * h_tilde))\n",
    "\n",
    "# 3. Solving the transition equations\n",
    "sm.nonlinsolve([k_trans, h_trans], [k_tilde, h_tilde])\n",
    "ss = sm.solve((k_trans, h_trans),(k_tilde,h_tilde), implicit=True, manual=True)\n",
    "display(ss)"
   ]
  },
  {
   "attachments": {},
   "cell_type": "markdown",
   "metadata": {},
   "source": [
    "# Part 4: Numerical solution"
   ]
  },
  {
   "attachments": {},
   "cell_type": "markdown",
   "metadata": {},
   "source": [
    "We use the broyden algorithm described above in a numerical optimizer to find the numerical solution for our model"
   ]
  },
  {
   "cell_type": "code",
   "execution_count": 4,
   "metadata": {},
   "outputs": [
    {
     "name": "stdout",
     "output_type": "stream",
     "text": [
      "Using the Broyden algorithm in out numerical optimizer we get k* = 58.02, h* = 58.02\n"
     ]
    },
    {
     "name": "stderr",
     "output_type": "stream",
     "text": [
      "c:\\Users\\bjorn\\OneDrive - University of Copenhagen\\4. semester\\projects-2023-pied-piper-4\\modelproject\\modelproject.py:94: RuntimeWarning: invalid value encountered in double_scalars\n",
      "  return (h_tilde**par.phi_v * k_tilde**par.alpha_v *par.sK_v +k_tilde*(1-par.delta_v))/((par.g_v+1) * (par.n_v+1)) -k_tilde\n",
      "c:\\Users\\bjorn\\OneDrive - University of Copenhagen\\4. semester\\projects-2023-pied-piper-4\\modelproject\\modelproject.py:108: RuntimeWarning: invalid value encountered in double_scalars\n",
      "  return (h_tilde**par.phi_v * k_tilde**par.alpha_v *par.sH_v +h_tilde*(1-par.delta_v))/((par.g_v+1) * (par.n_v+1)) -h_tilde\n",
      "c:\\Users\\bjorn\\anaconda3\\lib\\site-packages\\scipy\\optimize\\_nonlin.py:912: RuntimeWarning: invalid value encountered in divide\n",
      "  d = v / vdot(df, v)\n"
     ]
    }
   ],
   "source": [
    "# 1. Call class\n",
    "mp = SolowModel()\n",
    "\n",
    "# 2. Call function\n",
    "mp.Num_SS()"
   ]
  },
  {
   "attachments": {},
   "cell_type": "markdown",
   "metadata": {},
   "source": [
    "# Part 5: Visual solution"
   ]
  },
  {
   "attachments": {},
   "cell_type": "markdown",
   "metadata": {},
   "source": [
    "To make the visual solution we derive the nullclines from our transition equations and plot them in a phasediagram. The SS for $\\tilde{k}_{t}$ & $\\tilde{h}_{t}$ is where to the lines cross each other."
   ]
  },
  {
   "cell_type": "code",
   "execution_count": 5,
   "metadata": {},
   "outputs": [
    {
     "data": {
      "application/vnd.jupyter.widget-view+json": {
       "model_id": "a26201b7264545ed99677d74ed200e4a",
       "version_major": 2,
       "version_minor": 0
      },
      "text/plain": [
       "Button(description='Reset sliders', style=ButtonStyle())"
      ]
     },
     "metadata": {},
     "output_type": "display_data"
    },
    {
     "data": {
      "application/vnd.jupyter.widget-view+json": {
       "model_id": "ef0136d6f46f4815b9aebf69d8a41e90",
       "version_major": 2,
       "version_minor": 0
      },
      "text/plain": [
       "interactive(children=(FloatSlider(value=0.33, description='Alpha:', max=1.0, min=0.1, step=0.01), FloatSlider(…"
      ]
     },
     "metadata": {},
     "output_type": "display_data"
    }
   ],
   "source": [
    "# 1. Call class\n",
    "mp = SolowModel()\n",
    "\n",
    "# 2. Isolating h_tilde in the transition equation and setting equal to 0 \n",
    "k_solve = sm.solve(k_trans,h_tilde)[0]\n",
    "h_solve = sm.solve(h_trans,h_tilde)[0]\n",
    "\n",
    "# 3. Convert nullclines into python functions\n",
    "k_null_py = sm.lambdify([k_tilde, alpha, delta, g, n, phi, sK], k_solve)\n",
    "h_null_py = sm.lambdify([k_tilde, alpha, delta, g, n, phi, sH], h_solve)\n",
    "\n",
    "# 4. Making a button to reset the value of our sliders to the initial value\n",
    "reset_button = widgets.Button(description=\"Reset sliders\")\n",
    "\n",
    "# 5. Defining the button\n",
    "def reset_sliders(button):\n",
    "    alpha_slider.value = mp.par.alpha_guess\n",
    "    phi_slider.value = mp.par.phi_guess\n",
    "    sK_slider.value = mp.par.sK_guess\n",
    "    sH_slider.value = mp.par.sH_guess\n",
    "reset_button.on_click(reset_sliders)\n",
    "display(reset_button)\n",
    "\n",
    "# 6. Creating slider values \n",
    "alpha_slider = widgets.FloatSlider(\n",
    "                min=0.1, max=1, step=0.01, value=mp.par.alpha_guess, description=\"Alpha:\")\n",
    "phi_slider = widgets.FloatSlider(\n",
    "                min=0.1, max=1, step=0.01, value=mp.par.phi_guess, description=\"Phi:\")\n",
    "sK_slider = widgets.FloatSlider(\n",
    "                min=0.1, max=1, step=0.01, value=mp.par.sK_guess, description=\"sK:\")\n",
    "sH_slider = widgets.FloatSlider(\n",
    "                min=0.1, max=1, step=0.01, value=mp.par.sH_guess, description=\"sH:\")\n",
    "\n",
    "\n",
    "# 7. Adding the sliders to our diagram\n",
    "widgets.interact(mp.phasediagram, \n",
    "                alpha_guess=alpha_slider,\n",
    "                phi_guess=phi_slider,\n",
    "                sK_guess=sK_slider,\n",
    "                sH_guess=sH_slider,\n",
    "                k_null_py=widgets.fixed(k_null_py),\n",
    "                h_null_py=widgets.fixed(h_null_py),\n",
    "                )\n",
    "\n",
    "plt.show()    "
   ]
  },
  {
   "attachments": {},
   "cell_type": "markdown",
   "metadata": {},
   "source": [
    "The point where the nullclines cross gives us the SS for our model given our chosen parameters.\n",
    "\n",
    "We see that if using the initial values, we get the same steady state in our phasediagram as in our numerical solution in part 4. Furhermore we notice that the values for $\\tilde{k}_{t}$ and $\\tilde{h}_{t}$ are the same, approximately 58. This is because the savings rate for both types of capital are the same when we have the initially chosen values. \n",
    "\n",
    "The initial values can be chosen by using the \"Reset sliders\" button. "
   ]
  },
  {
   "attachments": {},
   "cell_type": "markdown",
   "metadata": {},
   "source": [
    "# Part 6: Simulating model with a changeable shock to sK"
   ]
  },
  {
   "cell_type": "code",
   "execution_count": 12,
   "metadata": {},
   "outputs": [
    {
     "data": {
      "application/vnd.jupyter.widget-view+json": {
       "model_id": "486460fb809d40bbb6c3d12d48669bd1",
       "version_major": 2,
       "version_minor": 0
      },
      "text/plain": [
       "interactive(children=(FloatSlider(value=0.2, description='sK:', max=1.0, min=0.12, step=0.01), Output()), _dom…"
      ]
     },
     "metadata": {},
     "output_type": "display_data"
    },
    {
     "data": {
      "text/plain": [
       "<function __main__.shock_update(shock)>"
      ]
     },
     "execution_count": 12,
     "metadata": {},
     "output_type": "execute_result"
    }
   ],
   "source": [
    "# 1. Calling class\n",
    "mp = SolowModel()\n",
    "\n",
    "# 2. Setting the slider parameters\n",
    "shock_slider = widgets.FloatSlider(\n",
    "                min=0.12, max=1, step=0.01, value=0.2, description=\"sK:\",continuous_update=True)\n",
    "\n",
    "# 3. Defining the slider \n",
    "def shock_update(shock):\n",
    "    mp.sK_shock(shock)\n",
    "    # Clearing y_growth list to allow for new values\n",
    "    #y_growth.clear() \n",
    "    plt.show()\n",
    "\n",
    "# 4. Adding the sliders to our diagram\n",
    "widgets.interact(shock_update, shock=shock_slider)"
   ]
  },
  {
   "attachments": {},
   "cell_type": "markdown",
   "metadata": {},
   "source": [
    "As can be seen in our simulation the higher the shock to the savings rate the higher the growth in y initially becomes. But as time goes on we see that no matter the size of $s_K$ our model always converges to the same growth path. This is in line with the stylized fact about absolute convergence, that says over time GDP per worker converges to one and the same growth path. "
   ]
  },
  {
   "attachments": {},
   "cell_type": "markdown",
   "metadata": {},
   "source": [
    "# Part 7: Extension, simulating solow model with human capital and oil"
   ]
  },
  {
   "cell_type": "code",
   "execution_count": 16,
   "metadata": {},
   "outputs": [
    {
     "name": "stderr",
     "output_type": "stream",
     "text": [
      "c:\\Users\\bjorn\\OneDrive - University of Copenhagen\\4. semester\\projects-2023-pied-piper-4\\modelproject\\modelproject.py:296: RuntimeWarning: divide by zero encountered in log\n",
      "  \n",
      "c:\\Users\\bjorn\\OneDrive - University of Copenhagen\\4. semester\\projects-2023-pied-piper-4\\modelproject\\modelproject.py:296: RuntimeWarning: invalid value encountered in double_scalars\n",
      "  \n"
     ]
    },
    {
     "data": {
      "image/png": "[encoded data removed]",
      "text/plain": [
       "<Figure size 1300x500 with 1 Axes>"
      ]
     },
     "metadata": {},
     "output_type": "display_data"
    }
   ],
   "source": [
    "# 1. Calling class\n",
    "mp = SolowModel()\n",
    "\n",
    "# 2. Calling function\n",
    "mp.extension()"
   ]
  },
  {
   "attachments": {},
   "cell_type": "markdown",
   "metadata": {},
   "source": [
    "# Conclusion"
   ]
  },
  {
   "attachments": {},
   "cell_type": "markdown",
   "metadata": {},
   "source": [
    "In the above diagram we have simulated the Solow model with human capital and the Solow model with human capital and extension, both simulations were done with the same parameter values.\n",
    "\n",
    "We see that by adding an exhaustable ressource, in this case oil, our model reaches a lower steady state growth rate than it did in our baseline model. The initial growth rate is higher with the exhaustable ressource but quickly falls below our baseline model as the ressource becomes more and more depleated. \n",
    "If the economy wants to have a higher steady state growth path it needs a ressource it won't deplete as quickly or it needs to extractionrate $s_E$ whereby it reaches a higher steady state growth path."
   ]
  }
 ],
 "metadata": {
  "kernelspec": {
   "display_name": "base",
   "language": "python",
   "name": "python3"
  },
  "language_info": {
   "codemirror_mode": {
    "name": "ipython",
    "version": 3
   },
   "file_extension": ".py",
   "mimetype": "text/x-python",
   "name": "python",
   "nbconvert_exporter": "python",
   "pygments_lexer": "ipython3",
   "version": "3.9.16"
  },
  "toc-autonumbering": true,
  "vscode": {
   "interpreter": {
    "hash": "3c06e3e46abf38078fe4dac36a0085ec2b134ebbd73dd076183d243eeca6918f"
   }
  }
 },
 "nbformat": 4,
 "nbformat_minor": 4
}
