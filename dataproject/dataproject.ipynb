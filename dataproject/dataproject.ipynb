{
 "cells": [
  {
   "attachments": {},
   "cell_type": "markdown",
   "metadata": {},
   "source": [
    "# DATA PROJECT"
   ]
  },
  {
   "attachments": {},
   "cell_type": "markdown",
   "metadata": {},
   "source": [
    "## Part 1: Introduction"
   ]
  },
  {
   "attachments": {},
   "cell_type": "markdown",
   "metadata": {},
   "source": [
    "In this project we seek to examine the development in disposable income for the different deciles in Denmark in the periode from 2010 to 2021. We do this by using data from Statistikbanken, more precisely the IFOR31 table. \n",
    "\n",
    "Firstly we use the data to create a Lorenz Diagram (Plot 1). This is done by plotting a Lorenz Curve (the blue curve) and a 45-degree line (the orange line) in the same diagram. On the x-axis we have a share of the population, while we have the accumulative disposable income in percentage on the y-axis. This makes it easy to see how much of the total disposable income belongs to the poorest 20% of the population. \n",
    "\n",
    "The closer our Lorenz Curve is to the 45-degree line the more equal the distribution of income is. If there is perfect distribution of wealth the Lorenz Curve will lie on the 45 degree line. If there is perfect inequality (1 person has all the wealth) it will follow the outer axes. \n",
    "\n",
    "Secondly we make a diagram where it is possible to compare the average disposable income for each decile group in the periode 2010 to 2021. This makes it easy to compare seperate decile groups with each other and see the difference in development over the period."
   ]
  },
  {
   "attachments": {},
   "cell_type": "markdown",
   "metadata": {},
   "source": [
    "Imports and set magics:"
   ]
  },
  {
   "cell_type": "code",
   "execution_count": 157,
   "metadata": {},
   "outputs": [
    {
     "name": "stdout",
     "output_type": "stream",
     "text": [
      "The autoreload extension is already loaded. To reload it, use:\n",
      "  %reload_ext autoreload\n"
     ]
    }
   ],
   "source": [
    "import pandas as pd\n",
    "import numpy as np\n",
    "import matplotlib.pyplot as plt\n",
    "import ipywidgets as widgets\n",
    "from matplotlib_venn import venn2\n",
    "from scipy.stats import norm\n",
    "%matplotlib inline\n",
    "\n",
    "# autoreload modules when code is run\n",
    "%load_ext autoreload\n",
    "%autoreload 2\n",
    "\n",
    "# user written modules\n",
    "import dataproject as dp"
   ]
  },
  {
   "attachments": {},
   "cell_type": "markdown",
   "metadata": {},
   "source": [
    "## Part 2: Read and clean data"
   ]
  },
  {
   "attachments": {},
   "cell_type": "markdown",
   "metadata": {},
   "source": [
    "[Data disclaimer](#heading-2)"
   ]
  },
  {
   "attachments": {},
   "cell_type": "markdown",
   "metadata": {},
   "source": [
    "When interpreting the 1st decile, it should be noted that individuals with significant losses, such as in stocks or from self-employment, can lower the income in the 1st decile. Particularly in the years following the financial crisis, extreme fluctuations occur. "
   ]
  },
  {
   "attachments": {},
   "cell_type": "markdown",
   "metadata": {},
   "source": [
    "First we import the data from our IFOR31 table."
   ]
  },
  {
   "cell_type": "code",
   "execution_count": 158,
   "metadata": {},
   "outputs": [
    {
     "name": "stderr",
     "output_type": "stream",
     "text": [
      "C:\\Users\\bjorn\\AppData\\Local\\Temp\\ipykernel_19616\\956694906.py:17: FutureWarning: In a future version, `df.iloc[:, i] = newvals` will attempt to set the values inplace instead of always setting a new array. To retain the old behavior, use either `df[df.columns[i]] = newvals` or, if columns are non-unique, `df.isetitem(i, newvals)`\n",
      "  LData.iloc[:, 1:] = LData.iloc[:, 1:].astype(int)\n"
     ]
    }
   ],
   "source": [
    "# 1. Import data\n",
    "LorenzData = \"Indkomst Data.xlsx\" \n",
    "\n",
    "# 2. Shorten the call for the data\n",
    "LData = pd.read_excel(LorenzData, skiprows=2) \n",
    "\n",
    "# 3. Removing first unnamed column\n",
    "LData.drop(\"Unnamed: 0\", axis=1, inplace=True) \n",
    "\n",
    "# 4. Renaming columns\n",
    "LData.rename(columns = {\"Unnamed: 1\":\"Decil\"}, inplace=True)\n",
    "\n",
    "# 5. Removing rows with missing values\n",
    "LData = LData.dropna()\n",
    "\n",
    "#6. Removing decimal points from all numbers using iloc to locate numbers\n",
    "LData.iloc[:, 1:] = LData.iloc[:, 1:].astype(int) "
   ]
  },
  {
   "attachments": {},
   "cell_type": "markdown",
   "metadata": {},
   "source": [
    "## Part 3: Preparing data"
   ]
  },
  {
   "attachments": {},
   "cell_type": "markdown",
   "metadata": {},
   "source": [
    "We start by calculating the accumulative income for each year"
   ]
  },
  {
   "cell_type": "code",
   "execution_count": 159,
   "metadata": {},
   "outputs": [
    {
     "data": {
      "text/html": [
       "<div>\n",
       "<style scoped>\n",
       "    .dataframe tbody tr th:only-of-type {\n",
       "        vertical-align: middle;\n",
       "    }\n",
       "\n",
       "    .dataframe tbody tr th {\n",
       "        vertical-align: top;\n",
       "    }\n",
       "\n",
       "    .dataframe thead th {\n",
       "        text-align: right;\n",
       "    }\n",
       "</style>\n",
       "<table border=\"1\" class=\"dataframe\">\n",
       "  <thead>\n",
       "    <tr style=\"text-align: right;\">\n",
       "      <th></th>\n",
       "      <th>Decil</th>\n",
       "      <th>2010</th>\n",
       "      <th>2011</th>\n",
       "      <th>2012</th>\n",
       "      <th>2013</th>\n",
       "      <th>2014</th>\n",
       "      <th>2015</th>\n",
       "      <th>2016</th>\n",
       "      <th>2017</th>\n",
       "      <th>2018</th>\n",
       "      <th>...</th>\n",
       "      <th>Cum_2012</th>\n",
       "      <th>Cum_2013</th>\n",
       "      <th>Cum_2014</th>\n",
       "      <th>Cum_2015</th>\n",
       "      <th>Cum_2016</th>\n",
       "      <th>Cum_2017</th>\n",
       "      <th>Cum_2018</th>\n",
       "      <th>Cum_2019</th>\n",
       "      <th>Cum_2020</th>\n",
       "      <th>Cum_2021</th>\n",
       "    </tr>\n",
       "  </thead>\n",
       "  <tbody>\n",
       "    <tr>\n",
       "      <th>0</th>\n",
       "      <td>1. decil</td>\n",
       "      <td>58517</td>\n",
       "      <td>61405</td>\n",
       "      <td>72143</td>\n",
       "      <td>75689</td>\n",
       "      <td>70459</td>\n",
       "      <td>77728</td>\n",
       "      <td>75853</td>\n",
       "      <td>78128</td>\n",
       "      <td>78721</td>\n",
       "      <td>...</td>\n",
       "      <td>72143</td>\n",
       "      <td>75689</td>\n",
       "      <td>70459</td>\n",
       "      <td>77728</td>\n",
       "      <td>75853</td>\n",
       "      <td>78128</td>\n",
       "      <td>78721</td>\n",
       "      <td>83792</td>\n",
       "      <td>88188</td>\n",
       "      <td>95473</td>\n",
       "    </tr>\n",
       "    <tr>\n",
       "      <th>1</th>\n",
       "      <td>2. decil</td>\n",
       "      <td>133314</td>\n",
       "      <td>135247</td>\n",
       "      <td>138299</td>\n",
       "      <td>140042</td>\n",
       "      <td>142148</td>\n",
       "      <td>143630</td>\n",
       "      <td>144500</td>\n",
       "      <td>146503</td>\n",
       "      <td>151039</td>\n",
       "      <td>...</td>\n",
       "      <td>210442</td>\n",
       "      <td>215731</td>\n",
       "      <td>212607</td>\n",
       "      <td>221358</td>\n",
       "      <td>220353</td>\n",
       "      <td>224631</td>\n",
       "      <td>229760</td>\n",
       "      <td>238777</td>\n",
       "      <td>248549</td>\n",
       "      <td>262444</td>\n",
       "    </tr>\n",
       "    <tr>\n",
       "      <th>2</th>\n",
       "      <td>3. decil</td>\n",
       "      <td>155258</td>\n",
       "      <td>157641</td>\n",
       "      <td>160792</td>\n",
       "      <td>163578</td>\n",
       "      <td>166795</td>\n",
       "      <td>169095</td>\n",
       "      <td>171292</td>\n",
       "      <td>174947</td>\n",
       "      <td>179714</td>\n",
       "      <td>...</td>\n",
       "      <td>371234</td>\n",
       "      <td>379309</td>\n",
       "      <td>379402</td>\n",
       "      <td>390453</td>\n",
       "      <td>391645</td>\n",
       "      <td>399578</td>\n",
       "      <td>409474</td>\n",
       "      <td>422830</td>\n",
       "      <td>438660</td>\n",
       "      <td>459379</td>\n",
       "    </tr>\n",
       "    <tr>\n",
       "      <th>3</th>\n",
       "      <td>4. decil</td>\n",
       "      <td>176861</td>\n",
       "      <td>179613</td>\n",
       "      <td>182871</td>\n",
       "      <td>185928</td>\n",
       "      <td>190010</td>\n",
       "      <td>192715</td>\n",
       "      <td>195643</td>\n",
       "      <td>200087</td>\n",
       "      <td>205721</td>\n",
       "      <td>...</td>\n",
       "      <td>554105</td>\n",
       "      <td>565237</td>\n",
       "      <td>569412</td>\n",
       "      <td>583168</td>\n",
       "      <td>587288</td>\n",
       "      <td>599665</td>\n",
       "      <td>615195</td>\n",
       "      <td>633538</td>\n",
       "      <td>657480</td>\n",
       "      <td>686762</td>\n",
       "    </tr>\n",
       "    <tr>\n",
       "      <th>4</th>\n",
       "      <td>5. decil</td>\n",
       "      <td>198711</td>\n",
       "      <td>202048</td>\n",
       "      <td>205633</td>\n",
       "      <td>209382</td>\n",
       "      <td>214412</td>\n",
       "      <td>217580</td>\n",
       "      <td>221437</td>\n",
       "      <td>226804</td>\n",
       "      <td>233247</td>\n",
       "      <td>...</td>\n",
       "      <td>759738</td>\n",
       "      <td>774619</td>\n",
       "      <td>783824</td>\n",
       "      <td>800748</td>\n",
       "      <td>808725</td>\n",
       "      <td>826469</td>\n",
       "      <td>848442</td>\n",
       "      <td>872334</td>\n",
       "      <td>906690</td>\n",
       "      <td>945798</td>\n",
       "    </tr>\n",
       "    <tr>\n",
       "      <th>5</th>\n",
       "      <td>6. decil</td>\n",
       "      <td>220835</td>\n",
       "      <td>224771</td>\n",
       "      <td>228906</td>\n",
       "      <td>233521</td>\n",
       "      <td>239499</td>\n",
       "      <td>243288</td>\n",
       "      <td>248126</td>\n",
       "      <td>254422</td>\n",
       "      <td>261607</td>\n",
       "      <td>...</td>\n",
       "      <td>988644</td>\n",
       "      <td>1008140</td>\n",
       "      <td>1023323</td>\n",
       "      <td>1044036</td>\n",
       "      <td>1056851</td>\n",
       "      <td>1080891</td>\n",
       "      <td>1110049</td>\n",
       "      <td>1140251</td>\n",
       "      <td>1187294</td>\n",
       "      <td>1237251</td>\n",
       "    </tr>\n",
       "    <tr>\n",
       "      <th>6</th>\n",
       "      <td>7. decil</td>\n",
       "      <td>245061</td>\n",
       "      <td>249659</td>\n",
       "      <td>254534</td>\n",
       "      <td>260358</td>\n",
       "      <td>267373</td>\n",
       "      <td>271974</td>\n",
       "      <td>277775</td>\n",
       "      <td>285080</td>\n",
       "      <td>293222</td>\n",
       "      <td>...</td>\n",
       "      <td>1243178</td>\n",
       "      <td>1268498</td>\n",
       "      <td>1290696</td>\n",
       "      <td>1316010</td>\n",
       "      <td>1334626</td>\n",
       "      <td>1365971</td>\n",
       "      <td>1403271</td>\n",
       "      <td>1440451</td>\n",
       "      <td>1502413</td>\n",
       "      <td>1564508</td>\n",
       "    </tr>\n",
       "    <tr>\n",
       "      <th>7</th>\n",
       "      <td>8. decil</td>\n",
       "      <td>274629</td>\n",
       "      <td>280171</td>\n",
       "      <td>285933</td>\n",
       "      <td>293589</td>\n",
       "      <td>301774</td>\n",
       "      <td>307454</td>\n",
       "      <td>314207</td>\n",
       "      <td>322842</td>\n",
       "      <td>331975</td>\n",
       "      <td>...</td>\n",
       "      <td>1529111</td>\n",
       "      <td>1562087</td>\n",
       "      <td>1592470</td>\n",
       "      <td>1623464</td>\n",
       "      <td>1648833</td>\n",
       "      <td>1688813</td>\n",
       "      <td>1735246</td>\n",
       "      <td>1780386</td>\n",
       "      <td>1859686</td>\n",
       "      <td>1936064</td>\n",
       "    </tr>\n",
       "    <tr>\n",
       "      <th>8</th>\n",
       "      <td>9. decil</td>\n",
       "      <td>318054</td>\n",
       "      <td>325162</td>\n",
       "      <td>332513</td>\n",
       "      <td>342856</td>\n",
       "      <td>352557</td>\n",
       "      <td>360069</td>\n",
       "      <td>368072</td>\n",
       "      <td>378649</td>\n",
       "      <td>388934</td>\n",
       "      <td>...</td>\n",
       "      <td>1861624</td>\n",
       "      <td>1904943</td>\n",
       "      <td>1945027</td>\n",
       "      <td>1983533</td>\n",
       "      <td>2016905</td>\n",
       "      <td>2067462</td>\n",
       "      <td>2124180</td>\n",
       "      <td>2179204</td>\n",
       "      <td>2279039</td>\n",
       "      <td>2373840</td>\n",
       "    </tr>\n",
       "    <tr>\n",
       "      <th>9</th>\n",
       "      <td>10. decil</td>\n",
       "      <td>500012</td>\n",
       "      <td>516944</td>\n",
       "      <td>533189</td>\n",
       "      <td>560971</td>\n",
       "      <td>573866</td>\n",
       "      <td>607665</td>\n",
       "      <td>615554</td>\n",
       "      <td>641188</td>\n",
       "      <td>648231</td>\n",
       "      <td>...</td>\n",
       "      <td>2394813</td>\n",
       "      <td>2465914</td>\n",
       "      <td>2518893</td>\n",
       "      <td>2591198</td>\n",
       "      <td>2632459</td>\n",
       "      <td>2708650</td>\n",
       "      <td>2772411</td>\n",
       "      <td>2867581</td>\n",
       "      <td>2999038</td>\n",
       "      <td>3153667</td>\n",
       "    </tr>\n",
       "  </tbody>\n",
       "</table>\n",
       "<p>10 rows × 25 columns</p>\n",
       "</div>"
      ],
      "text/plain": [
       "       Decil    2010    2011    2012    2013    2014    2015    2016    2017  \\\n",
       "0   1. decil   58517   61405   72143   75689   70459   77728   75853   78128   \n",
       "1   2. decil  133314  135247  138299  140042  142148  143630  144500  146503   \n",
       "2   3. decil  155258  157641  160792  163578  166795  169095  171292  174947   \n",
       "3   4. decil  176861  179613  182871  185928  190010  192715  195643  200087   \n",
       "4   5. decil  198711  202048  205633  209382  214412  217580  221437  226804   \n",
       "5   6. decil  220835  224771  228906  233521  239499  243288  248126  254422   \n",
       "6   7. decil  245061  249659  254534  260358  267373  271974  277775  285080   \n",
       "7   8. decil  274629  280171  285933  293589  301774  307454  314207  322842   \n",
       "8   9. decil  318054  325162  332513  342856  352557  360069  368072  378649   \n",
       "9  10. decil  500012  516944  533189  560971  573866  607665  615554  641188   \n",
       "\n",
       "     2018  ...  Cum_2012  Cum_2013  Cum_2014  Cum_2015  Cum_2016  Cum_2017  \\\n",
       "0   78721  ...     72143     75689     70459     77728     75853     78128   \n",
       "1  151039  ...    210442    215731    212607    221358    220353    224631   \n",
       "2  179714  ...    371234    379309    379402    390453    391645    399578   \n",
       "3  205721  ...    554105    565237    569412    583168    587288    599665   \n",
       "4  233247  ...    759738    774619    783824    800748    808725    826469   \n",
       "5  261607  ...    988644   1008140   1023323   1044036   1056851   1080891   \n",
       "6  293222  ...   1243178   1268498   1290696   1316010   1334626   1365971   \n",
       "7  331975  ...   1529111   1562087   1592470   1623464   1648833   1688813   \n",
       "8  388934  ...   1861624   1904943   1945027   1983533   2016905   2067462   \n",
       "9  648231  ...   2394813   2465914   2518893   2591198   2632459   2708650   \n",
       "\n",
       "   Cum_2018  Cum_2019  Cum_2020  Cum_2021  \n",
       "0     78721     83792     88188     95473  \n",
       "1    229760    238777    248549    262444  \n",
       "2    409474    422830    438660    459379  \n",
       "3    615195    633538    657480    686762  \n",
       "4    848442    872334    906690    945798  \n",
       "5   1110049   1140251   1187294   1237251  \n",
       "6   1403271   1440451   1502413   1564508  \n",
       "7   1735246   1780386   1859686   1936064  \n",
       "8   2124180   2179204   2279039   2373840  \n",
       "9   2772411   2867581   2999038   3153667  \n",
       "\n",
       "[10 rows x 25 columns]"
      ]
     },
     "execution_count": 159,
     "metadata": {},
     "output_type": "execute_result"
    }
   ],
   "source": [
    "# 1. Creating a list of numbers ranging from 2010-2021\n",
    "Years = np.linspace(2010,2021,num=12) \n",
    "\n",
    "# 2. Converting the list variables from float to integers\n",
    "Years_int = Years.astype(int) \n",
    "\n",
    "# 3. Using for loop to calculate the cummulitative income for each year\n",
    "for i in Years_int:\n",
    "    Col_name = \"Cum_\" + str(i) #Looping over the names for the new columns\n",
    "    LData[Col_name] = LData[str(i)].cumsum() #Calculating the cummulitative income\n",
    "\n",
    "# 4. Showing data\n",
    "LData    "
   ]
  },
  {
   "attachments": {},
   "cell_type": "markdown",
   "metadata": {},
   "source": [
    "Now our data has been cleaned and our new values have been calculated. We new prepare to plot our data by putting it into lists."
   ]
  },
  {
   "cell_type": "code",
   "execution_count": 160,
   "metadata": {},
   "outputs": [],
   "source": [
    "# 1. Setting the number of lists we want\n",
    "Num_Lists = 12\n",
    "\n",
    "# 2. Naming our lists\n",
    "List_Names = [f\"Cum_Income_{i}\" for i in Years_int]\n",
    "\n",
    "# 3. Creating a list where we can store our 12 lists as sublists\n",
    "Empty_Lists = [[] for i in range(Num_Lists)]\n",
    "\n",
    "# 4. Creating a list for each year\n",
    "for i, name in enumerate(List_Names):\n",
    "    globals()[name] = Empty_Lists[i]\n",
    "\n",
    "# 5. Adding a 0 to each list if it is empty\n",
    "for i in Empty_Lists :\n",
    "    if i == [] :\n",
    "        i.append(0)\n",
    "    else :\n",
    "        0 # Else do nothing\n"
   ]
  },
  {
   "cell_type": "code",
   "execution_count": 161,
   "metadata": {},
   "outputs": [],
   "source": [
    "# 1. Using nested loop to calculate percentage income and appending it to list\n",
    "for l in Empty_Lists :    \n",
    "    if i ==[0]:\n",
    "        for i in range(13,25) :\n",
    "            # a. Choosing the denominator in our dataset\n",
    "            Denominator = LData.iloc[9,i] \n",
    "\n",
    "            for j in range(10):\n",
    "                # i. Choosing the numerator in our dataset\n",
    "                Numerator = LData.iloc[j,i] \n",
    "\n",
    "                # ii. Calculating the Value\n",
    "                Value = (Numerator/Denominator)*100 \n",
    "\n",
    "                # iii. Choosing which list to append the value to\n",
    "                Num_Lists_Index = (i % Num_Lists) \n",
    "\n",
    "                # iv. Appending the value to the above choosen list\n",
    "                globals()[List_Names[Num_Lists_Index]].append(Value) \n",
    "    else :\n",
    "        0    # Else do nothing\n",
    "\n",
    "#2. Making list with accumulative intervals for population\n",
    "Cum_Num = list(range(0, 101, 10))        \n",
    "\n",
    "# 3.Creating zips with the accumulative values\n",
    "Zipped_Lists = [] \n",
    "\n",
    "# 4. Creating loop that zips each of our 12 lists with the list \"Cum_Num\" and appending them to a new list\n",
    "for l in Empty_Lists:\n",
    "    Zipped_List = list(zip(Cum_Num, l))\n",
    "    Zipped_Lists.append(Zipped_List)"
   ]
  },
  {
   "attachments": {},
   "cell_type": "markdown",
   "metadata": {},
   "source": [
    "## Part 4: Creating Lorenz Diagram"
   ]
  },
  {
   "attachments": {},
   "cell_type": "markdown",
   "metadata": {},
   "source": [
    "Below we create our Lorenz Diagram and the slider for the diagram."
   ]
  },
  {
   "cell_type": "code",
   "execution_count": 162,
   "metadata": {},
   "outputs": [
    {
     "data": {
      "application/vnd.jupyter.widget-view+json": {
       "model_id": "75e131aa2e07488f9bf5fcb4547eb3b5",
       "version_major": 2,
       "version_minor": 0
      },
      "text/plain": [
       "interactive(children=(IntSlider(value=2010, description='Year', max=2021, min=2010), Output()), _dom_classes=(…"
      ]
     },
     "metadata": {},
     "output_type": "display_data"
    }
   ],
   "source": [
    "# 1. Making our widget slider\n",
    "interactive_plot = widgets.interact(dp.L_Diagrams, # Choosing the diagram\n",
    "                 Empty_Lists=widgets.fixed(Empty_Lists), # Setting what variables the slider needs to choose\n",
    "                 \n",
    "                 Year=widgets.IntSlider( # Setting the parameters and names for the widget\n",
    "                     description=\"Year\", \n",
    "                     # Min, max and value is set to the corresponding years of our data\n",
    "                     min=2010, \n",
    "                     max=2021, \n",
    "                     step=1, \n",
    "                     value=2010, \n",
    "                     continuous_update=True, \n",
    "                     readout=True\n",
    "                     ),\n",
    "    Cum_Num=widgets.fixed(Cum_Num)               \n",
    ")"
   ]
  },
  {
   "attachments": {},
   "cell_type": "markdown",
   "metadata": {},
   "source": [
    "## Part 5: Comparing income groups "
   ]
  },
  {
   "attachments": {},
   "cell_type": "markdown",
   "metadata": {},
   "source": [
    "In this part we create a diagram which shows the average disposable income for each decile over the choosen periode."
   ]
  },
  {
   "cell_type": "code",
   "execution_count": 164,
   "metadata": {},
   "outputs": [
    {
     "data": {
      "application/vnd.jupyter.widget-view+json": {
       "model_id": "1a3f62484e5a4f83a6b0bf8a9bbf9455",
       "version_major": 2,
       "version_minor": 0
      },
      "text/plain": [
       "interactive(children=(SelectMultiple(description='decils', index=(0,), options=('1. decil', '2. decil', '3. de…"
      ]
     },
     "metadata": {},
     "output_type": "display_data"
    }
   ],
   "source": [
    "# 1. Creating a list for all of the income groups only\n",
    "income_df = LData.iloc[:, 1:13] \n",
    "\n",
    "# 2. Making a list of the decils\n",
    "decil_list = LData.Decil.tolist()  \n",
    "\n",
    "# 3. Making our widget slider \n",
    "interactive_plot = widgets.interact(\n",
    "    dp.Decile_Comp, #Choosing the diagram\n",
    "    df=widgets.fixed(income_df),  # Setting what variables the slider needs to choose\n",
    "    decils=widgets.SelectMultiple(\n",
    "        options=decil_list, \n",
    "        value=[\"1. decil\"]\n",
    "    ),\n",
    "    decil_list=widgets.fixed(decil_list),\n",
    "    income_df=widgets.fixed(income_df)\n",
    ")"
   ]
  },
  {
   "attachments": {},
   "cell_type": "markdown",
   "metadata": {},
   "source": [
    "## Part 6: Conclusion"
   ]
  },
  {
   "attachments": {},
   "cell_type": "markdown",
   "metadata": {},
   "source": [
    "From our Lorenz Diagram above showing the development in the inequality from the periode 2010 to 2021, we see that there has not been that much of an evolution. We see that in the periode 2010 to 2013 the top decile of the population got less disposable income and moved closer to the 45 degree line. \n",
    "In the following periode the inequality grew a small amount and they ended up almost at the same place as in 2010. This fall in inequality could also be seen by the 60% of the population moved closer to the 45 degree line. \n",
    "\n",
    "In the last section we have created a plot where you can choose different income groups and compare them (by holding CTRL while clicking on the drop-down menu). If we compare all of the groups the general trend from 2010 to 2021 is that \"the rich gets richer\". The higher decil income group you are in the steeper the curve. The plot therefore also shows a trend of higher inequaity through the years. Consindering the principle of compounded interest this overeall makes good sense.\n",
    "\n",
    "Furthermore we see that the decile group 2-9 follow almost the same smooth upwards trending path, while decile group 1 and 10 are also upward going they are a lot more \"bumpy\". It seems that these two groups are influenced a lot more by the business cycles. "
   ]
  }
 ],
 "metadata": {
  "kernelspec": {
   "display_name": "base",
   "language": "python",
   "name": "python3"
  },
  "language_info": {
   "codemirror_mode": {
    "name": "ipython",
    "version": 3
   },
   "file_extension": ".py",
   "mimetype": "text/x-python",
   "name": "python",
   "nbconvert_exporter": "python",
   "pygments_lexer": "ipython3",
   "version": "3.9.16"
  },
  "toc-autonumbering": true,
  "vscode": {
   "interpreter": {
    "hash": "f94d147dad376476c76c595948ee09dc0f9a8880d472df9ee3b51defd8224827"
   }
  }
 },
 "nbformat": 4,
 "nbformat_minor": 4
}
