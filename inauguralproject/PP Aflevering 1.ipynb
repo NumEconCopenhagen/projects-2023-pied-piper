{
 "cells": [
  {
   "cell_type": "markdown",
   "metadata": {},
   "source": [
    "# Inaugural Project"
   ]
  },
  {
   "attachments": {},
   "cell_type": "markdown",
   "metadata": {},
   "source": [
    "> **Note the following:** \n",
    "> 1. This is an example of how to structure your **inaugural project**.\n",
    "> 1. Remember the general advice on structuring and commenting your code\n",
    "> 1. The `inauguralproject.py` file includes a function which can be used multiple times in this notebook."
   ]
  },
  {
   "cell_type": "markdown",
   "metadata": {},
   "source": [
    "Imports and set magics:"
   ]
  },
  {
   "cell_type": "code",
   "execution_count": 2,
   "metadata": {},
   "outputs": [],
   "source": [
    "import numpy as np\n",
    "\n",
    "# autoreload modules when code is run. Otherwise, python will not see recent changes. \n",
    "%load_ext autoreload\n",
    "%autoreload 2\n",
    "\n",
    "# Import your own code\n",
    "from PythonAflevering1 import HouseholdSpecializationModelClass\n",
    "import matplotlib.pyplot as plt"
   ]
  },
  {
   "cell_type": "markdown",
   "metadata": {},
   "source": [
    "# Question 1"
   ]
  },
  {
   "cell_type": "markdown",
   "metadata": {},
   "source": [
    "**Explain how you solve the model**"
   ]
  },
  {
   "cell_type": "code",
   "execution_count": 7,
   "metadata": {},
   "outputs": [
    {
     "name": "stderr",
     "output_type": "stream",
     "text": [
      "c:\\Users\\bjorn\\OneDrive - University of Copenhagen\\4. semester\\projects-2023-pied-piper\\inauguralproject\\PythonAflevering1.py:62: RuntimeWarning: divide by zero encountered in reciprocal\n",
      "  H = ((1-par.alpha) * HM**((par.sigma-1)/par.sigma) + par.alpha * HF**((par.sigma-1)/par.sigma))**(par.sigma/(par.sigma-1))\n"
     ]
    },
    {
     "name": "stdout",
     "output_type": "stream",
     "text": [
      "alpha = 0.250, sigma = 0.500, forhold = 0.545\n",
      "alpha = 0.250, sigma = 1.000, forhold = 0.308\n",
      "alpha = 0.250, sigma = 1.500, forhold = 0.214\n",
      "alpha = 0.500, sigma = 0.500, forhold = 1.000\n",
      "alpha = 0.500, sigma = 1.000, forhold = 1.000\n",
      "alpha = 0.500, sigma = 1.500, forhold = 1.000\n",
      "alpha = 0.750, sigma = 0.500, forhold = 1.833\n",
      "alpha = 0.750, sigma = 1.000, forhold = 3.250\n",
      "alpha = 0.750, sigma = 1.500, forhold = 4.667\n"
     ]
    }
   ],
   "source": [
    "\n",
    "\n",
    "sol_q1 = []\n",
    "\n",
    "alpha_q1 = [0.25, 0.50, 0.75] #alpha værdierne defineres i en liste\n",
    "sigma_q1 = [0.5, 1.0, 1.5] #sigma værdierne defineres i en liste\n",
    "\n",
    "for a in alpha_q1:\n",
    "    for s in sigma_q1:\n",
    "        model_q1 = HouseholdSpecializationModelClass()\n",
    "        model_q1.par.alpha = a #Vi sætter vores værdi for alpha ind i modellen\n",
    "        model_q1.par.sigma = s #Vi sætter vores værdi for sigma ind i modellen\n",
    "        opt = model_q1.solve_discrete() #Modellen løses\n",
    "        HFHM1 = opt.HF/opt.HM #Forholdet mellem HF og HM genereres\n",
    "        print(f\"alpha = {a:.3f}, sigma = {s:.3f}, forhold = {HFHM1:.3f}\") #Løsningen printes\n",
    "        sol_q1.append(HFHM1)\n",
    "        "
   ]
  },
  {
   "cell_type": "markdown",
   "metadata": {},
   "source": [
    "# Question 2"
   ]
  },
  {
   "cell_type": "markdown",
   "metadata": {},
   "source": [
    "Explain your code and procedure"
   ]
  },
  {
   "cell_type": "code",
   "execution_count": null,
   "metadata": {},
   "outputs": [],
   "source": [
    "\n",
    "#wF værdier sættes i en liste\n",
    "var_wF_q2 = [0.8,0.9,1.0,1.1,1.2]\n",
    "\n",
    "#Tom liste laves til værdierne\n",
    "sol_wF_q2 = []\n",
    "sol_HFHM_q2 = []\n",
    "\n",
    "\n",
    "for w in var_wF_q2:\n",
    "    model_q2 = HouseholdSpecializationModelClass()\n",
    "    model_q2.par.wF = w # wF sættes ind i modellen\n",
    "    opt_q2 = model_q2.solve_discrete()\n",
    "\n",
    "\n",
    "    HFHM = opt_q2.HF/opt_q2.HM #HFHM forhold defineres\n",
    "    sol_HFHM_q2.append(HFHM)\n",
    "\n",
    "\n",
    "    WFWM = w/model_q2.par.wM # vi finder forholdet mellem wF og wM\n",
    "    sol_wF_q2.append(WFWM) #Forholdet sættes i listen\n",
    "    #print(f\"forhold = {WFWM:.3f}\") # Forholdet printes\n",
    "\n",
    "\n",
    "log_sol_wF_q2 = np.log(sol_wF_q2) # Der tages log til forholdene\n",
    "log_sol_HFHM_q2 = np.log(sol_HFHM_q2) \n",
    "\n",
    "print(log_sol_wF_q2) # De printes for at se resultater\n",
    "print(log_sol_HFHM_q2)"
   ]
  },
  {
   "cell_type": "code",
   "execution_count": null,
   "metadata": {},
   "outputs": [],
   "source": [
    "%matplotlib inline\n",
    "from mpl_toolkits.mplot3d import Axes3D # Used implictely when doing 3D plots\n",
    "import matplotlib.pyplot as plt # baseline module\n",
    "\n",
    "# Predefine options for all plots\n",
    "plt.rcParams.update({\"axes.grid\":True,\"grid.color\":\"black\",\"grid.alpha\":\"0.25\",\"grid.linestyle\":\"-\"})\n",
    "plt.rcParams.update({'font.size': 14})"
   ]
  },
  {
   "cell_type": "code",
   "execution_count": null,
   "metadata": {},
   "outputs": [],
   "source": [
    "# a. create the figure\n",
    "fig = plt.figure()\n",
    "\n",
    "# b. plot\n",
    "ax = fig.add_subplot(1,1,1)\n",
    "\n",
    "ax.plot(log_sol_wF_q2,log_sol_HFHM_q2)\n",
    "\n",
    "ax.set_title('Plot 1')\n",
    "ax.set_xlabel('$log(wF/wM)$')\n",
    "ax.set_ylabel('$log(HF/HM)$');"
   ]
  },
  {
   "cell_type": "markdown",
   "metadata": {},
   "source": [
    "# Question 3"
   ]
  },
  {
   "cell_type": "markdown",
   "metadata": {},
   "source": [
    "Explain your code and procedure"
   ]
  },
  {
   "cell_type": "code",
   "execution_count": 6,
   "metadata": {},
   "outputs": [
    {
     "name": "stdout",
     "output_type": "stream",
     "text": [
      "[-0.22314355 -0.10536052  0.          0.09531018  0.18232156]\n",
      "[ 2.25199585e-01  9.75472906e-05  2.15435980e-09 -8.68013145e-05\n",
      " -1.86626258e-01]\n"
     ]
    }
   ],
   "source": [
    "from scipy.optimize import minimize\n",
    "model_q3 = HouseholdSpecializationModelClass()\n",
    "\n",
    "var_WF_q3 = [0.8,0.9,1.0,1.1,1.2]\n",
    "\n",
    "list_HFHM_q3 = []\n",
    "list_WFWM_q3 = []\n",
    "\n",
    "for w in var_WF_q3 :\n",
    "    model_q3 = HouseholdSpecializationModelClass()\n",
    "    model_q3.par.wF = w\n",
    "    opt_q3 = model_q3.solve()\n",
    "    \n",
    "    \n",
    "    HFHM = model_q3.sol.HF/model_q3.sol.HM #HFHM forhold defineres\n",
    "    list_HFHM_q3.append(HFHM)\n",
    "    \n",
    "    \n",
    "    WFWM = w/model_q3.par.wM # vi finder forholdet mellem wF og wM\n",
    "    list_WFWM_q3.append(WFWM)\n",
    "\n",
    "log_sol_WFWM_q3 = np.log(list_WFWM_q3) # Der tages log til forholdene\n",
    "log_sol_HFHM_q3 = np.log(list_HFHM_q3)\n",
    "\n",
    "print(log_sol_WFWM_q3) # De printes for at se resultater\n",
    "print(log_sol_HFHM_q3) "
   ]
  },
  {
   "cell_type": "code",
   "execution_count": null,
   "metadata": {},
   "outputs": [],
   "source": [
    "%matplotlib inline\n",
    "from mpl_toolkits.mplot3d import Axes3D # Used implictely when doing 3D plots\n",
    "import matplotlib.pyplot as plt # baseline module\n",
    "\n",
    "# Predefine options for all plots\n",
    "plt.rcParams.update({\"axes.grid\":True,\"grid.color\":\"black\",\"grid.alpha\":\"0.25\",\"grid.linestyle\":\"-\"})\n",
    "plt.rcParams.update({'font.size': 14})"
   ]
  },
  {
   "cell_type": "code",
   "execution_count": null,
   "metadata": {},
   "outputs": [],
   "source": [
    "# a. create the figure\n",
    "fig = plt.figure()\n",
    "\n",
    "# b. plot\n",
    "ax = fig.add_subplot(1,1,1)\n",
    "\n",
    "ax.plot(log_sol_WFWM_q3,log_sol_HFHM_q3)\n",
    "\n",
    "ax.set_title('Plot 1')\n",
    "ax.set_xlabel('$log(wF/wM)$')\n",
    "ax.set_ylabel('$log(HF/HM)$');"
   ]
  },
  {
   "attachments": {},
   "cell_type": "markdown",
   "metadata": {},
   "source": [
    "Opgave 4"
   ]
  },
  {
   "cell_type": "code",
   "execution_count": 3,
   "metadata": {},
   "outputs": [
    {
     "name": "stderr",
     "output_type": "stream",
     "text": [
      "c:\\Users\\bjorn\\OneDrive - University of Copenhagen\\4. semester\\projects-2023-pied-piper\\inauguralproject\\PythonAflevering1.py:62: RuntimeWarning: invalid value encountered in double_scalars\n",
      "  H = ((1-par.alpha) * HM**((par.sigma-1)/par.sigma) + par.alpha * HF**((par.sigma-1)/par.sigma))**(par.sigma/(par.sigma-1))\n"
     ]
    },
    {
     "name": "stdout",
     "output_type": "stream",
     "text": [
      "Optimal values: alpha = 0.988, sigma = 0.091\n"
     ]
    }
   ],
   "source": [
    "from scipy import optimize\n",
    "\n",
    "\n",
    "model = HouseholdSpecializationModelClass()\n",
    "\n",
    "\n",
    "def solve_4(x):\n",
    "    \n",
    "    model.par.alpha = x[0]\n",
    "    model.par.sigma = x[1]\n",
    "    \n",
    "    model.solve_wF_vec()\n",
    "    \n",
    "    model.run_regression()\n",
    "    \n",
    "    return ((0.4-model.sol.beta0)**2 + (-0.1-model.sol.beta1)**2)\n",
    "\n",
    "\n",
    "model = HouseholdSpecializationModelClass()\n",
    "bounds = [(0, 1), (0, 10)]\n",
    "initial_guess = [0.5,1]\n",
    "result = optimize.minimize(solve_4, initial_guess, bounds=bounds, method = \"Nelder-Mead\")\n",
    "\n",
    "print(f\"Optimal values: alpha = {result.x[0]:.3f}, sigma = {result.x[1]:.3f}\")\n",
    "\n"
   ]
  },
  {
   "cell_type": "markdown",
   "metadata": {},
   "source": [
    "ADD CONCISE CONLUSION."
   ]
  }
 ],
 "metadata": {
  "kernelspec": {
   "display_name": "base",
   "language": "python",
   "name": "python3"
  },
  "language_info": {
   "codemirror_mode": {
    "name": "ipython",
    "version": 3
   },
   "file_extension": ".py",
   "mimetype": "text/x-python",
   "name": "python",
   "nbconvert_exporter": "python",
   "pygments_lexer": "ipython3",
   "version": "3.9.16"
  },
  "toc-autonumbering": true,
  "vscode": {
   "interpreter": {
    "hash": "47ef90cdf3004d3f859f1fb202523c65c07ba7c22eefd261b181f4744e2d0403"
   }
  }
 },
 "nbformat": 4,
 "nbformat_minor": 4
}
