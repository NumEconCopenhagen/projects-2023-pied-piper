{
 "cells": [
  {
   "cell_type": "markdown",
   "metadata": {},
   "source": [
    "# Inaugural Project"
   ]
  },
  {
   "attachments": {},
   "cell_type": "markdown",
   "metadata": {},
   "source": [
    "> **Note the following:** \n",
    "> 1. This is an example of how to structure your **inaugural project**.\n",
    "> 1. Remember the general advice on structuring and commenting your code\n",
    "> 1. The `inauguralproject.py` file includes a function which can be used multiple times in this notebook."
   ]
  },
  {
   "cell_type": "markdown",
   "metadata": {},
   "source": [
    "Imports and set magics:"
   ]
  },
  {
   "cell_type": "code",
   "execution_count": 1,
   "metadata": {},
   "outputs": [],
   "source": [
    "import numpy as np\n",
    "\n",
    "# autoreload modules when code is run. Otherwise, python will not see recent changes. \n",
    "%load_ext autoreload\n",
    "%autoreload 2\n",
    "\n",
    "# Import your own code\n",
    "from PythonAflevering1 import HouseholdSpecializationModelClass"
   ]
  },
  {
   "cell_type": "markdown",
   "metadata": {},
   "source": [
    "# Question 1"
   ]
  },
  {
   "cell_type": "markdown",
   "metadata": {},
   "source": [
    "**Explain how you solve the model**"
   ]
  },
  {
   "cell_type": "code",
   "execution_count": 8,
   "metadata": {},
   "outputs": [
    {
     "name": "stderr",
     "output_type": "stream",
     "text": [
      "c:\\Users\\bjorn\\OneDrive - University of Copenhagen\\4. semester\\projects-2023-pied-piper\\inauguralproject\\PythonAflevering1.py:65: RuntimeWarning: divide by zero encountered in reciprocal\n",
      "  H = ((1-par.alpha) * HM ** ((par.sigma-1)/par.sigma) + par.alpha * HF ** ((par.sigma-1)/par.sigma)) ** (par.sigma/(par.sigma-1))\n"
     ]
    },
    {
     "name": "stdout",
     "output_type": "stream",
     "text": [
      "alpha = 0.250, sigma = 0.500, forhold = 0.545\n",
      "alpha = 0.250, sigma = 1.000, forhold = 0.308\n",
      "alpha = 0.250, sigma = 1.500, forhold = 0.214\n",
      "alpha = 0.500, sigma = 0.500, forhold = 1.000\n",
      "alpha = 0.500, sigma = 1.000, forhold = 1.000\n",
      "alpha = 0.500, sigma = 1.500, forhold = 1.000\n",
      "alpha = 0.750, sigma = 0.500, forhold = 1.833\n",
      "alpha = 0.750, sigma = 1.000, forhold = 3.250\n",
      "alpha = 0.750, sigma = 1.500, forhold = 4.667\n"
     ]
    }
   ],
   "source": [
    "model = HouseholdSpecializationModelClass()\n",
    "\n",
    "sol = []\n",
    "\n",
    "alphas = [0.25, 0.50, 0.75] #alpha værdierne defineres i en liste\n",
    "sigmas = [0.5, 1, 1.5] #sigma værdierne defineres i en liste\n",
    "\n",
    "for a in alphas:\n",
    "    for s in sigmas:\n",
    "        model.par.alpha = a #Vi sætter vores værdi for alpha ind i modellen\n",
    "        model.par.sigma = s #Vi sætter vores værdi for sigma ind i modellen\n",
    "        opt = model.solve_discrete() #Modellen løses\n",
    "        HFHM = opt.HF/opt.HM #Forholdet mellem HF og HM genereres\n",
    "        print(f\"alpha = {a:.3f}, sigma = {s:.3f}, forhold = {HFHM:.3f}\") #Løsningen printes\n",
    "        sol.append(HFHM)\n",
    "        "
   ]
  },
  {
   "cell_type": "markdown",
   "metadata": {},
   "source": [
    "# Question 2"
   ]
  },
  {
   "cell_type": "markdown",
   "metadata": {},
   "source": [
    "Explain your code and procedure"
   ]
  },
  {
   "cell_type": "code",
   "execution_count": 7,
   "metadata": {},
   "outputs": [
    {
     "name": "stdout",
     "output_type": "stream",
     "text": [
      "[-0.6061358  -1.178655   -1.54044504  0.          0.          0.\n",
      "  0.6061358   1.178655    1.54044504]\n"
     ]
    }
   ],
   "source": [
    "\n",
    "log_sol = np.log(sol)\n",
    "\n",
    "print(log_sol)\n",
    "\n",
    "\n",
    "        \n",
    "\n",
    "        \n",
    "            \n"
   ]
  },
  {
   "cell_type": "markdown",
   "metadata": {},
   "source": [
    "# Question 3"
   ]
  },
  {
   "cell_type": "markdown",
   "metadata": {},
   "source": [
    "Explain your code and procedure"
   ]
  },
  {
   "cell_type": "code",
   "execution_count": 4,
   "metadata": {},
   "outputs": [],
   "source": [
    "# code"
   ]
  },
  {
   "cell_type": "markdown",
   "metadata": {},
   "source": [
    "ADD CONCISE CONLUSION."
   ]
  }
 ],
 "metadata": {
  "kernelspec": {
   "display_name": "base",
   "language": "python",
   "name": "python3"
  },
  "language_info": {
   "codemirror_mode": {
    "name": "ipython",
    "version": 3
   },
   "file_extension": ".py",
   "mimetype": "text/x-python",
   "name": "python",
   "nbconvert_exporter": "python",
   "pygments_lexer": "ipython3",
   "version": "3.9.16"
  },
  "toc-autonumbering": true,
  "vscode": {
   "interpreter": {
    "hash": "47ef90cdf3004d3f859f1fb202523c65c07ba7c22eefd261b181f4744e2d0403"
   }
  }
 },
 "nbformat": 4,
 "nbformat_minor": 4
}
