{
 "cells": [
  {
   "attachments": {},
   "cell_type": "markdown",
   "metadata": {},
   "source": [
    "**Table of contents**<a id='toc0_'></a>    \n",
    "- 1. [Problem 1: Optimal taxation with government consumption](#toc1_)    \n",
    "- 2. [Problem 2: Labor adjustment costs](#toc2_)    \n",
    "- 3. [Problem 3: Global optimizer with refined multi-start](#toc3_)    \n",
    "\n",
    "<!-- vscode-jupyter-toc-config\n",
    "\tnumbering=true\n",
    "\tanchor=true\n",
    "\tflat=false\n",
    "\tminLevel=2\n",
    "\tmaxLevel=6\n",
    "\t/vscode-jupyter-toc-config -->\n",
    "<!-- THIS CELL WILL BE REPLACED ON TOC UPDATE. DO NOT WRITE YOUR TEXT IN THIS CELL -->"
   ]
  },
  {
   "attachments": {},
   "cell_type": "markdown",
   "metadata": {},
   "source": [
    "# Imports"
   ]
  },
  {
   "cell_type": "code",
   "execution_count": 1,
   "metadata": {},
   "outputs": [],
   "source": [
    "from itertools import product\n",
    "import numpy as np\n",
    "from scipy import optimize\n",
    "from scipy import interpolate\n",
    "import sympy as sm\n",
    "import matplotlib.pyplot as plt\n",
    "import pandas as pd \n",
    "from scipy import linalg\n",
    "from scipy.optimize import minimize_scalar\n",
    "from scipy.optimize import minimize_scalar, root_scalar\n",
    "\n",
    "%load_ext autoreload\n",
    "%autoreload 2"
   ]
  },
  {
   "attachments": {},
   "cell_type": "markdown",
   "metadata": {},
   "source": [
    "## 1. <a id='toc1_'></a>[Problem 1: Optimal taxation with government consumption](#toc0_)"
   ]
  },
  {
   "attachments": {},
   "cell_type": "markdown",
   "metadata": {},
   "source": [
    "\n",
    "Consider a worker choosing hours of labor, $L\\in[0,24]$, to maximize utility: \n",
    "\n",
    "$$\n",
    "\\begin{align*}\n",
    "V(w,\\tau,G)&=\\max_{L\\in[0,24]}\\ln\\left(C^{\\alpha}G^{1-\\alpha}\\right)-\\nu\\frac{L^{2}}{2}\\\\&\\text{s.t.}\\\\&C=\\kappa+(1-\\tau)wL\n",
    "\\end{align*}\n",
    "$$\n",
    "\n",
    "where \n",
    "\n",
    "* $C$ is *private* consumption with weight $\\alpha\\in(0,1)$.\n",
    "* $\\kappa > 0$ is the *free private* consumption component.\n",
    "* $(1-\\tau)wL$ is the *costly private* consumption component.\n",
    "* $w > 0 $ is the real wage.\n",
    "* $\\tau \\in (0,1)$ is the labor-income tax rate.\n",
    "* $G > 0 $ is *government* consumption with weight $1-\\alpha$.\n",
    "* $\\nu > 0$ is the disutility of labor scaling factor"
   ]
  },
  {
   "attachments": {},
   "cell_type": "markdown",
   "metadata": {},
   "source": [
    "\n",
    "The baseline parameters are:\n",
    "\n",
    "$$\n",
    "\\begin{align*}\n",
    "\\alpha &= 0.5\\\\\n",
    "\\kappa &= 1.0\\\\\n",
    "\\nu &= \\frac{1}{2\\cdot16^2} \\\\\n",
    "w &= 1.0 \\\\ \n",
    "\\tau &= 0.30 \\\\\n",
    "\\end{align*}\n",
    "$$"
   ]
  },
  {
   "attachments": {},
   "cell_type": "markdown",
   "metadata": {},
   "source": [
    "**Question 1:** Verify that the optimal labor supply choice is $L^{\\star}(\\tilde{w}) =\\frac{-\\kappa+\\sqrt{\\kappa^{2}+4\\frac{\\alpha}{\\nu}\\tilde{w}^2}}{2\\tilde{w}}$, where $\\tilde{w} = (1-\\tau)w$, for $G\\in\\left\\{1.0 , 2.0\\right\\}$."
   ]
  },
  {
   "attachments": {},
   "cell_type": "markdown",
   "metadata": {},
   "source": [
    "# Defining the parameters "
   ]
  },
  {
   "cell_type": "code",
   "execution_count": 2,
   "metadata": {},
   "outputs": [],
   "source": [
    "# Define the symbols\n",
    "\n",
    "L = sm.symbols(\"L\")\n",
    "C = sm.symbols(\"C\")\n",
    "w = sm.symbols(\"w\")\n",
    "alpha = sm.symbols(\"alpha\")\n",
    "kappa = sm.symbols(\"kappa\")\n",
    "G = sm.symbols(\"G\")\n",
    "nu = sm.symbols(\"nu\")\n",
    "w_tilde = sm.symbols(\"w_tilde\")\n",
    "tau = sm.symbols(\"tau\")\n",
    "rho = sm.symbols(\"rho\")\n",
    "w_tilde = sm.symbols(\"w_tilde\")\n",
    "sigma = sm.symbols(\"sigma\")\n",
    "epsilon = sm.symbols(\"epsilon\")\n",
    "\n"
   ]
  },
  {
   "cell_type": "code",
   "execution_count": 3,
   "metadata": {},
   "outputs": [
    {
     "data": {
      "text/latex": [
       "$\\displaystyle \\frac{- \\kappa \\nu - \\sqrt{\\nu \\left(4 \\alpha w_{tilde}^{2} + \\kappa^{2} \\nu\\right)}}{2 \\nu w_{tilde}}$"
      ],
      "text/plain": [
       "(-kappa*nu - sqrt(nu*(4*alpha*w_tilde**2 + kappa**2*nu)))/(2*nu*w_tilde)"
      ]
     },
     "execution_count": 3,
     "metadata": {},
     "output_type": "execute_result"
    }
   ],
   "source": [
    "# Define the utility function\n",
    "utility = sm.log(C**alpha * G**(1-alpha)) - nu * L**2 / 2\n",
    "\n",
    "# Define the constraint equation\n",
    "constraint = sm.Eq(C, kappa + (1 - tau) * w * L)\n",
    "\n",
    "# Substitute the value of w_tilde in the constraint equation\n",
    "constraint_subs = constraint.subs(w, w_tilde / (1 - tau))\n",
    "\n",
    "# Isolate L from the budget constraint\n",
    "C_from_con = sm.solve(constraint_subs, C)[0]\n",
    "\n",
    "# Substitute the expression for C in the utility function\n",
    "utility_subs = utility.subs(C, C_from_con)\n",
    "\n",
    "# Find the first-order condition by differentiating the utility function with respect to L\n",
    "foc = sm.diff(utility_subs, L)\n",
    "\n",
    "# Solve the first-order condition equation for L\n",
    "sol = sm.solve(sm.Eq(foc, 0), L)\n",
    "sol[0]\n"
   ]
  },
  {
   "attachments": {},
   "cell_type": "markdown",
   "metadata": {},
   "source": [
    "This solution is the same as the solution as we are asked to verify in the question "
   ]
  },
  {
   "attachments": {},
   "cell_type": "markdown",
   "metadata": {},
   "source": [
    "**Question 2:** Illustrate how $L^{\\star}(\\tilde{w})$ depends on $w$."
   ]
  },
  {
   "cell_type": "code",
   "execution_count": 4,
   "metadata": {},
   "outputs": [
    {
     "name": "stderr",
     "output_type": "stream",
     "text": [
      "No artists with labels found to put in legend.  Note that artists whose label start with an underscore are ignored when legend() is called with no argument.\n"
     ]
    },
    {
     "data": {
      "image/png": "[encoded data removed]",
      "text/plain": [
       "<Figure size 640x480 with 1 Axes>"
      ]
     },
     "metadata": {},
     "output_type": "display_data"
    }
   ],
   "source": [
    "# 1. Defining the optimal labor function\n",
    "def optimal_labor_supply(w, alpha, kappa, nu, tau):\n",
    "    \"\"\"\"\"Define the optimal labor supply function\n",
    "\n",
    "    Args: \n",
    "\n",
    "        w(float): the real wage \n",
    "        alpha(float): parameter \n",
    "        kappa(float): free privat consumption component \n",
    "        nu(float): disutility of labor scaling factor \n",
    "        tau(float): labor income tax-rate\n",
    "    \n",
    "    Returns: \n",
    "        the optimal labor supply function \n",
    "    \n",
    "\n",
    "    \"\"\"\"\"\n",
    "    \n",
    "    #a. \n",
    "    w_tilde = (1 - tau) * w\n",
    "    \n",
    "    #b. \n",
    "    expression = (-kappa + np.sqrt(kappa**2 + 4 * alpha / nu * w_tilde**2)) / (2 * w_tilde)\n",
    "    return expression\n",
    "\n",
    "# 2. Setting the baseline parameters\n",
    "alpha = 0.5\n",
    "kappa = 1.0\n",
    "nu = 1 / (2 * 16**2)\n",
    "tau = 0.30\n",
    "\n",
    "# 3. Defining the range of w values\n",
    "w_values = np.linspace(0.1, 10, 100)\n",
    "\n",
    "# 4. Computing the optimal labor supply\n",
    "optimal_labor = optimal_labor_supply(w_values, alpha, kappa, nu, tau)\n",
    "\n",
    "# 5 Plotting the results\n",
    "plt.plot(w_values, optimal_labor)\n",
    "plt.xlabel('w')\n",
    "plt.ylabel('Optimal Labor Supply')\n",
    "plt.title('Optimal Labor Supply as a Function of w')\n",
    "plt.legend()\n",
    "plt.show()\n"
   ]
  },
  {
   "attachments": {},
   "cell_type": "markdown",
   "metadata": {},
   "source": [
    "Here we can see that for a real wage between 0 and 2 the the labor supply increases substantially. From about a real wage of 2 and onwards there is marginal diminishing returns in labor supply and the optimal labor supply is about 15.8"
   ]
  },
  {
   "attachments": {},
   "cell_type": "markdown",
   "metadata": {},
   "source": [
    "\n",
    "We now consider a government, who chooses $\\tau$ and spend all of the taxes on government consumption so:\n",
    "\n",
    "$$\n",
    "G = \\tau w L^{\\star}((1-\\tau)w)\n",
    "$$\n",
    "\n",
    "**Question 3:** Plot the implied $L$, $G$ and worker utility for a grid of $\\tau$-values.\n"
   ]
  },
  {
   "cell_type": "code",
   "execution_count": 5,
   "metadata": {},
   "outputs": [
    {
     "data": {
      "image/png": "[encoded data removed]",
      "text/plain": [
       "<Figure size 1200x400 with 3 Axes>"
      ]
     },
     "metadata": {},
     "output_type": "display_data"
    }
   ],
   "source": [
    "# 1 Defining the function for optimal labor supply\n",
    "def optimal_labor_supply_w_tilde(w_tilde, alpha, kappa, nu):\n",
    "    \"\"\" Defining the optimal labor supply function with w_tilde\n",
    "    \n",
    "    Args: \n",
    "\n",
    "        w_tilde:  w_tilde = (1 - tau) * w\n",
    "        alpha(float): parameter \n",
    "        kappa(float): free privat consumption component \n",
    "        nu(float): disutility of labor scaling factor\n",
    "\n",
    "    Returns: \n",
    "\n",
    "        expression(float): The optimal labor supply function with w_tilde  \n",
    "    \"\"\"\n",
    "    #a \n",
    "    expression = (-kappa + np.sqrt(kappa**2 + 4 * alpha / nu * w_tilde**2)) / (2 * w_tilde)\n",
    "    return expression\n",
    "\n",
    "# 2 Defining the function for government consumption\n",
    "def government_consumption(tau, w, alpha, kappa, nu):\n",
    "    \"\"\"\"Defining the goverment consumption function \n",
    "\n",
    "    Args: \n",
    "\n",
    "        tau(float): labor income tax-rate\n",
    "        w(float): the real wage \n",
    "        alpha(float): parameter \n",
    "        kappa(float): free privat consumption component \n",
    "        nu(float): disutility of labor scaling factor \n",
    "    \n",
    "    Returns: \n",
    "\n",
    "        G(float) : the goverment consumption function \n",
    "       \n",
    "    \n",
    "    \"\"\"\n",
    "    #a\n",
    "    w_tilde = (1 - tau) * w\n",
    "    \n",
    "    #b\n",
    "    L_star = optimal_labor_supply_w_tilde(w_tilde, alpha, kappa, nu)\n",
    "    \n",
    "    #c\n",
    "    G = tau * w * L_star\n",
    "    return G\n",
    "\n",
    "# 3 Defining the function for worker utility\n",
    "def worker_utility(tau, w, alpha, kappa, G, nu):\n",
    "    \"\"\"\n",
    "    Calculate the utility of a worker.\n",
    "\n",
    "    Parameters:\n",
    "        tau (float): Tax rate.\n",
    "        w (float): Wage rate.\n",
    "        alpha (float): Weight on consumption in utility.\n",
    "        kappa (float): Fixed cost of working.\n",
    "        G (float): Public good.\n",
    "        nu (float): Coefficient of relative risk aversion.\n",
    "\n",
    "    Returns:\n",
    "        utility (float): Utility of the worker.\n",
    "    \"\"\"\n",
    "    #a\n",
    "    w_tilde = (1 - tau) * w\n",
    "    \n",
    "    #b\n",
    "    L_star = optimal_labor_supply_w_tilde(w_tilde, alpha, kappa, nu)\n",
    "    \n",
    "    #c\n",
    "    C = kappa + (1 - tau) * w * L_star\n",
    "    \n",
    "    #d\n",
    "    utility = np.log(C**alpha * G**(1 - alpha)) - nu * L_star**2 / 2\n",
    "    return utility\n",
    "\n",
    "# 4 Setting the baseline parameters\n",
    "alpha = 0.5\n",
    "kappa = 1.0\n",
    "nu = 1 / (2 * 16**2)\n",
    "w = 1.0\n",
    "\n",
    "# 5 Defining the grid of tau values\n",
    "tau_values = np.linspace(0.1, 0.9, 100)\n",
    "\n",
    "# 6 Computing the implied values for L, G, and utility for each tau value\n",
    "L_values = []\n",
    "G_values = []\n",
    "utility_values = []\n",
    "\n",
    "for tau in tau_values:\n",
    "    w_tilde = (1 - tau) * w\n",
    "    L_star = optimal_labor_supply_w_tilde(w_tilde, alpha, kappa, nu)\n",
    "    G = government_consumption(tau, w, alpha, kappa, nu)\n",
    "    utility = worker_utility(tau, w, alpha, kappa, G, nu)\n",
    "    \n",
    "    L_values.append(L_star)\n",
    "    G_values.append(G)\n",
    "    utility_values.append(utility)\n",
    "\n",
    "# 7 Plotting the results\n",
    "plt.figure(figsize=(12, 4))\n",
    "\n",
    "plt.subplot(1, 3, 1)\n",
    "plt.plot(tau_values, L_values)\n",
    "plt.xlabel('Tau')\n",
    "plt.ylabel('Labor Supply (L)')\n",
    "plt.title('Labor Supply as a Function of Tau')\n",
    "\n",
    "plt.subplot(1, 3, 2)\n",
    "plt.plot(tau_values, G_values)\n",
    "plt.xlabel('Tau')\n",
    "plt.ylabel('Government Consumption (G)')\n",
    "plt.title('Government Consumption as a Function of Tau')\n",
    "\n",
    "plt.subplot(1, 3, 3)\n",
    "plt.plot(tau_values, utility_values)\n",
    "plt.xlabel('Tau')\n",
    "plt.ylabel('Worker Utility')\n",
    "plt.title('Worker Utility as a Function of Tau')\n",
    "\n",
    "plt.tight_layout()\n",
    "plt.show()\n"
   ]
  },
  {
   "attachments": {},
   "cell_type": "markdown",
   "metadata": {},
   "source": [
    "In the first plot we can see that the higher the tax-rate the lower the labor supply. \n",
    "\n",
    "In the second plot the Goverment consumption function is plottet for tau. Here we can see that the higher the tax the higher the consumption until it reaches \n",
    "the limit where there is no labor supply to pay taxes tau.\n",
    "\n",
    "In the third plot the worker utility function of tau is plottet. It looks like a laffer curve where we can see that the optimal taxrate is approximately 50% \n"
   ]
  },
  {
   "attachments": {},
   "cell_type": "markdown",
   "metadata": {},
   "source": [
    "**Question 4:** Find the socially optimal tax rate $\\tau^{\\star}\\in(0,1)$ maximizing worker utility. Illustrate your result."
   ]
  },
  {
   "cell_type": "code",
   "execution_count": 6,
   "metadata": {},
   "outputs": [
    {
     "data": {
      "image/png": "[encoded data removed]",
      "text/plain": [
       "<Figure size 1200x400 with 1 Axes>"
      ]
     },
     "metadata": {},
     "output_type": "display_data"
    },
    {
     "name": "stdout",
     "output_type": "stream",
     "text": [
      "Optimal tau: 0.5121212121212121\n",
      "Maximum worker utility: 1.8591882560448314\n"
     ]
    }
   ],
   "source": [
    "# 1 Finding the index of the maximum utility value\n",
    "max_utility_index = np.argmax(utility_values)\n",
    "\n",
    "# 2 Getting the optimal tau and maximum worker utility\n",
    "tau_optimal = tau_values[max_utility_index]\n",
    "worker_utility_max = utility_values[max_utility_index]\n",
    "\n",
    "# 3 Plotting the results\n",
    "plt.figure(figsize=(12, 4))\n",
    "plt.subplot(1, 3, 3)\n",
    "plt.plot(tau_values, utility_values)\n",
    "plt.axvline(x=tau_optimal, color='r', linestyle='--', label='Optimal Tau')\n",
    "plt.xlabel('Tau')\n",
    "plt.ylabel('Worker Utility')\n",
    "plt.title('Worker Utility as a Function of Tau')\n",
    "plt.legend()\n",
    "plt.ylim(bottom=1.25)  # Set the lower limit of the y-axis to 0\n",
    "plt.show()\n",
    "\n",
    "print('Optimal tau:', tau_optimal)\n",
    "print('Maximum worker utility:', worker_utility_max)\n"
   ]
  },
  {
   "attachments": {},
   "cell_type": "markdown",
   "metadata": {},
   "source": [
    "As mentioned in the last question the optimal tax-rate looked like it was close to 50% and we can hereby confirm that the optimal taxrate that optimizes worker utility is 51,212 %"
   ]
  },
  {
   "attachments": {},
   "cell_type": "markdown",
   "metadata": {},
   "source": [
    "A more general preference formulation for the worker is:\n",
    "\n",
    "$$\n",
    "\\begin{align*}\n",
    "\\mathcal{V}(w,\\tau,G)&=\\max_{L\\in[0,24]}\\frac{\\left[ \\left( \\alpha C^{\\frac{\\sigma-1}{\\sigma}}+(1-\\alpha) G^{\\frac{\\sigma-1}{\\sigma}} \\right)^{\\frac{\\sigma}{\\sigma-1} }\\right]^{1-\\rho}-1}{1-\\rho}- \\nu\\frac{L^{1+\\varepsilon}}{1+\\varepsilon},\\,\\,\\,\\varepsilon,\\rho,\\sigma>0,\\,\\,\\,\\rho,\\sigma\\neq1\\\\&\\text{s.t.}\\\\&C=\\kappa+(1-\\tau)wL\n",
    "\\end{align*}    \n",
    "$$\n",
    "\n",
    "Optimal labor supply is now $L^{\\star}(\\tilde{w},G)$."
   ]
  },
  {
   "attachments": {},
   "cell_type": "markdown",
   "metadata": {},
   "source": [
    "Questions 5 and 6 must be answered with the general formulation, and for 2 different set of parameters:\n",
    "\n",
    "- Set 1:  $\\sigma = 1.001$, $\\rho = 1.001$ and $\\varepsilon = 1.0$.\n",
    "- Set 2:  $\\sigma = 1.5$, $\\rho = 1.5$ and $\\varepsilon = 1.0 $."
   ]
  },
  {
   "attachments": {},
   "cell_type": "markdown",
   "metadata": {},
   "source": [
    "**Question 5:** Find the $G$ that solves $G = \\tau w L^{\\star}((1-\\tau)w,G)$ using the $\\tau$ found in question 4.\n",
    "\n",
    "*Hint: First write code that solves the worker problem for given values of $G$ and $\\tau$. Then find the correct G based on this.*"
   ]
  },
  {
   "cell_type": "code",
   "execution_count": 7,
   "metadata": {},
   "outputs": [
    {
     "name": "stdout",
     "output_type": "stream",
     "text": [
      "G for Set 1: 7.676242924662147\n",
      "G for Set 2: 4.146804874474422\n"
     ]
    }
   ],
   "source": [
    "# 1 Defining the utility function  \n",
    "def objective_function_f(w, G, tau, alpha, kappa, sigma, rho, epsilon, nu):\n",
    "    \"\"\"Calculating the utility function value.\n",
    "\n",
    "    Args:\n",
    "        w (float): The real wage rate.\n",
    "        G (float): Goverment consumption \n",
    "        tau (float): Tax rate.\n",
    "        alpha (float): Weight on consumption in the objective function.\n",
    "        kappa (float): The free private consumption component.\n",
    "        sigma (float): Parameter for the utility function.\n",
    "        rho (float): Parameter for the utility function.\n",
    "        epsilon (float): Parameter for the utility function.\n",
    "        nu (float): The disutility of labor scaling factor\n",
    "\n",
    "    Returns:\n",
    "        value (float): Value of the objective function.\n",
    "    Raises:\n",
    "        ValueError: If optimization fails.\n",
    "    \"\"\"\n",
    "    # a  calculating the value of the inner objective function for a given labor supply\n",
    "    def inner_objective(L):\n",
    "        # i defining the consumption function \n",
    "        C = kappa + (1 - tau) * w * L\n",
    "        # ii returning the utility function \n",
    "        return (((alpha * C**((sigma - 1) / sigma) + (1 - alpha) * G**((sigma - 1) / sigma))**(sigma / (sigma - 1)))**(1-rho) - 1 ) / (1 - rho) - nu * (L**(1+epsilon)) / (1+epsilon)\n",
    "    # b Using a numerical solver to find the maximum of the inner objective function\n",
    "    result = optimize.minimize_scalar(lambda L: -inner_objective(L), bounds=(0, 24), method='bounded')\n",
    "    \n",
    "    # c if-else statement for debugging\n",
    "    if result.success:\n",
    "        return -result.fun  # Return the negation of the maximum value\n",
    "    else:\n",
    "        raise ValueError(\"Optimization failed.\")\n",
    "\n",
    "# 2 Solving for optimal labor supply L* for a given set of parameters\n",
    "def find_optimal_labor_supply(w, G, tau, alpha, kappa, sigma, rho, epsilon, nu):\n",
    "    \"\"\"Find the optimal labor supply.\n",
    "\n",
    "    Args:\n",
    "        w (float): The real wage rate.\n",
    "        G (float): Goverment consumption \n",
    "        tau (float): Tax rate.\n",
    "        alpha (float): Weight on consumption in the objective function.\n",
    "        kappa (float): The free private consumption component.\n",
    "        sigma (float): Parameter for the utility function.\n",
    "        rho (float): Parameter for the utility function.\n",
    "        epsilon (float): Parameter for the utility function.\n",
    "        nu (float): The disutility of labor scaling factor\n",
    "\n",
    "    Returns:\n",
    "        L_star (float): Optimal labor supply.\n",
    "    Raises:\n",
    "        ValueError: If optimization fails.\n",
    "    \"\"\"\n",
    "    # a Optimizing the labor supply \n",
    "    result = optimize.minimize_scalar(lambda L: -objective_function_f(w, G, tau, alpha, kappa, sigma, rho, epsilon, nu), bounds=(0, 24), method='bounded')\n",
    "    \n",
    "    # b if-else statement for debugging \n",
    "    if result.success:\n",
    "        return result.x\n",
    "    else:\n",
    "        raise ValueError(\"Optimization failed.\")\n",
    "\n",
    "# 3 Solving for G that satisfies G = tau * w * L*\n",
    "def find_G(w, tau, alpha, kappa, sigma, rho, epsilon, nu):\n",
    "    \"\"\"Find the value of G that satisfies G = tau * w * L*.\n",
    "\n",
    "    Args:\n",
    "        w (float): The real wage rate. \n",
    "        tau (float): Tax rate.\n",
    "        alpha (float): Weight on consumption in the objective function.\n",
    "        kappa (float): The free private consumption component.\n",
    "        sigma (float): Parameter for the utility function.\n",
    "        rho (float): Parameter for the utility function.\n",
    "        epsilon (float): Parameter for the utility function.\n",
    "        nu (float): The disutility of labor scaling factor\n",
    "\n",
    "    Returns:\n",
    "        G (float): Value of G.\n",
    "    Raises:\n",
    "        ValueError: If optimization or root finding fails.\n",
    "    \"\"\"\n",
    "    # a defining the goverment consumption function\n",
    "    def equation(G, L):\n",
    "        return G - tau * w * L\n",
    "    \n",
    "    # b Defining the utility function for a given labor supply\n",
    "    def objective_function(L):\n",
    "        C = kappa + (1 - tau) * w * L\n",
    "        return (((alpha * C**((sigma - 1) / sigma) + (1 - alpha) * G**((sigma - 1) / sigma))**(sigma / (sigma - 1)))**(1-rho) - 1 ) / (1 - rho) - nu * (L**(1+epsilon)) / (1+epsilon)\n",
    "        \n",
    "    # c Using a numerical solver to find the maximum of the inner objective function\n",
    "    result = optimize.minimize_scalar(lambda L: -objective_function(L), bounds=(0, 24), method='bounded')\n",
    "    \n",
    "    # d if-else statement for debugging and returning the results\n",
    "    if result.success:\n",
    "        L_star = result.x\n",
    "        result = optimize.root_scalar(lambda G: equation(G, L_star), method='brentq', bracket=[0, 1000])\n",
    "        if result.converged:\n",
    "            return result.root\n",
    "        else:\n",
    "            raise ValueError(\"Root finding failed.\")\n",
    "    else:\n",
    "        raise ValueError(\"Optimization failed.\")\n",
    "\n",
    "\n",
    "# 4 Set_1 parameters\n",
    "sigma1 = 1.001\n",
    "rho1 = 1.001\n",
    "epsilon = 1.0\n",
    "tau1 = tau_optimal # Using the tau we found in question 4 \n",
    "\n",
    "# 5 Set_2 parameters\n",
    "sigma2 = 1.5\n",
    "rho2 = 1.5\n",
    "tau2 = tau_optimal # Using the tau we found in question 4 \n",
    "\n",
    "# 6 Finding G for Set 1\n",
    "G_set1 = find_G(w, tau1, alpha, kappa, sigma1, rho1, epsilon, nu)\n",
    "\n",
    "# 7 Finding G for Set 2\n",
    "G_set2 = find_G(w, tau2, alpha, kappa, sigma2, rho2, epsilon, nu)\n",
    "\n",
    "# 8 Printing the results: \n",
    "print(\"G for Set 1:\", G_set1)\n",
    "print(\"G for Set 2:\", G_set2)"
   ]
  },
  {
   "attachments": {},
   "cell_type": "markdown",
   "metadata": {},
   "source": [
    "We can hereby conclude that from the optimal labour the optimal consumption of G is: \n",
    "for Set 1: 7.676242924662147\n",
    "for Set 2: 4.146804874474422"
   ]
  },
  {
   "attachments": {},
   "cell_type": "markdown",
   "metadata": {},
   "source": [
    "**Question 6:** Find the socially optimal tax rate, $\\tau^{\\star}$, maximizing worker utility, while keeping $G = \\tau w L^{\\star}((1-\\tau)w,G)$."
   ]
  },
  {
   "cell_type": "code",
   "execution_count": 8,
   "metadata": {},
   "outputs": [
    {
     "name": "stdout",
     "output_type": "stream",
     "text": [
      "Socially optimal tax rate for Set 1: 0.3404554801711848\n",
      "Socially optimal tax rate for Set 2: 0.29308352186939074\n"
     ]
    }
   ],
   "source": [
    "# 1 Define the objective function\n",
    "def objective_function(L, w, tau, G, alpha, kappa, sigma, rho, epsilon, nu):\n",
    "    \"\"\"Calculate the utility for a given labor supply.\n",
    "\n",
    "    Args:\n",
    "        L(float): labor supply\n",
    "        w (float): The real wage rate. \n",
    "        tau (float): Tax rate.\n",
    "        G (float): Goverment consumption\n",
    "        alpha (float): Weight on consumption in the objective function.\n",
    "        kappa (float): The free private consumption component.\n",
    "        sigma (float): Parameter for the utility function.\n",
    "        rho (float): Parameter for the utility function.\n",
    "        epsilon (float): Parameter for the utility function.\n",
    "        nu (float): The disutility of labor scaling factor\n",
    "\n",
    "    Returns:\n",
    "        utility\n",
    "    \"\"\"\n",
    "    # a defining the consumption function \n",
    "    C = kappa + (1 - tau) * w * L\n",
    "    return (((alpha * C**((sigma - 1) / sigma) + (1 - alpha) * G**((sigma - 1) / sigma))**(sigma / (sigma - 1)))**(1 - rho) - 1) / (1 - rho) - nu * (L**(1 + epsilon)) / (1 + epsilon)\n",
    "\n",
    "# 2 Define the constraint function\n",
    "def constraint_function(tau, w, L_star, G):\n",
    "    \"\"\"Calculate the constraint value.\n",
    "\n",
    "    Args: \n",
    "        tau (float): Tax rate.\n",
    "        w (float): The real wage rate.\n",
    "        L_star(float): Optimal labor supply \n",
    "        G(float): Goverment consumption\n",
    "\n",
    "    Returns:\n",
    "    Constraint value\n",
    "    \"\"\" \n",
    "    # a \n",
    "    return G - tau * w * L_star * ((1 - tau) * w)\n",
    "\n",
    "# 3 Finding the socially optimal tax rate for Set_1\n",
    "def objective_set1(tau):\n",
    "    \"\"\"Calculating the utility for a given tax rate in Set 1.\n",
    "\n",
    "    Args:\n",
    "        tau (float): Tax rate.\n",
    "\n",
    "    Returns:\n",
    "        utility\n",
    "    \"\"\"\n",
    "    # a Find the optimal labor supply for the given tax rate\n",
    "    L_star = optimize.minimize_scalar(lambda L: -objective_function(L, w, tau, tau * w * L * ((1 - tau) * w), alpha, kappa, sigma1, rho1, epsilon, nu), bounds=(0, 24), method='bounded').x\n",
    "    # b Calculating the constraint value\n",
    "    constraint_val = constraint_function(tau, w, L_star, tau * w * L_star * ((1 - tau) * w))\n",
    "    # c Calculating the worker utility\n",
    "    utility = objective_function(L_star, w, tau, tau * w * L_star * ((1 - tau) * w), alpha, kappa, sigma1, rho1, epsilon, nu)\n",
    "    # d Penalty term for constraint violation - explanation futher down  \n",
    "    penalty = 1e8 * np.maximum(0, -constraint_val)\n",
    "    # e Return the negative utility (since we want to maximize)\n",
    "    return -utility + penalty\n",
    "\n",
    "# 4 Find the socially optimal tax rate for Set 1\n",
    "result_set1 = optimize.minimize_scalar(objective_set1, bounds=(0, 1), method='bounded')\n",
    "\n",
    "if result_set1.success:\n",
    "    tau_star_set1 = result_set1.x\n",
    "    print(\"Socially optimal tax rate for Set 1:\", tau_star_set1)\n",
    "else:\n",
    "    raise ValueError(\"Optimization failed for Set 1.\")\n",
    "\n",
    "# 5 Finding the socially optimal tax rate for Set_2\n",
    "def objective_set2(tau):\n",
    "    \"\"\"Calculating the utility for a given tax rate in Set 2.\n",
    "\n",
    "    Args:\n",
    "        tau (float): Tax rate.\n",
    "\n",
    "    Returns:\n",
    "        utility\n",
    "    \"\"\"\n",
    "    # Finding the optimal labor supply for the given tax rate\n",
    "    L_star = optimize.minimize_scalar(lambda L: -objective_function(L, w, tau, tau * w * L * ((1 - tau) * w), alpha, kappa, sigma2, rho2, epsilon, nu), bounds=(0, 24), method='bounded').x\n",
    "    # Calculate the constraint value\n",
    "    constraint_val = constraint_function(tau, w, L_star, tau * w * L_star * ((1 - tau) * w))\n",
    "    # Calculate the worker utility\n",
    "    utility = objective_function(L_star, w, tau, tau * w * L_star * ((1 - tau) * w), alpha, kappa, sigma2, rho2, epsilon, nu)\n",
    "    # Penalty term for constraint violation\n",
    "    penalty = 1e8 * np.maximum(0, -constraint_val)\n",
    "    # Return the negative utility (since we want to maximize)\n",
    "    return -utility + penalty\n",
    "\n",
    "# 6 Finding the socially optimal tax rate for Set 2\n",
    "result_set2 = optimize.minimize_scalar(objective_set2, bounds=(0, 1), method='bounded')\n",
    "\n",
    "if result_set2.success:\n",
    "    tau_star_set2 = result_set2.x\n",
    "    print(\"Socially optimal tax rate for Set 2:\", tau_star_set2)\n",
    "else:\n",
    "    raise ValueError(\"Optimization failed for Set 2.\")"
   ]
  },
  {
   "attachments": {},
   "cell_type": "markdown",
   "metadata": {},
   "source": [
    "Penalty term explanation: \n",
    "\n",
    "So in the code we use: \"np.maximum(0, -constraint_val)\" this calculates the maximum value between 0 and the negative value of our \"constraint_val.\" \n",
    "\n",
    "The purpose of this is to ensure that if our \"constraint_val\" is negative (i.e., the constraint is violated), the penalty term will be positive, and if our \"constraint_val\" is non-negative (i.e., the constraint is satisfied), the penalty term will be zero.\n",
    "\n",
    "Here we then insert 1e8 which is a constant scaling factor used to amplify the penalty. It multiplies the result of np.maximum(0, -constraint_val) to make the penalty term relatively large in comparison to other components of the utility funciton.\n",
    "\n",
    "Hereby when we multiply the penalty term with a large value, the utility function is penalized heavily when the constraint is violated, effectively discouraging solutions that do not satisfy the constraint. This encourages the optimization algorithm to prioritize solutions that satisfy the constraint.\n",
    "\n",
    "The penalty term is then used in the utilityfunctions objective_set1 and objective_set2 to adjust the utility value. The higher the penalty, the more the utility is reduced when the constraint is violated, leading to a lower overall utility value for such solutions and therefore we can find the optimal solution that does satisfy the constraint. \n",
    "\n",
    "From this method we came to the conclusion that the Socially optimal tax rate for Set_1 and Set_2 are the above floats. "
   ]
  },
  {
   "attachments": {},
   "cell_type": "markdown",
   "metadata": {},
   "source": [
    "## 2. <a id='toc2_'></a>[Problem 2: Labor adjustment costs](#toc0_)"
   ]
  },
  {
   "attachments": {},
   "cell_type": "markdown",
   "metadata": {},
   "source": [
    "You own a hair salon. You employ hairdressers, $\\ell_t$, to produce haircuts, $y_t = \\ell_t$.\n",
    "\n",
    "The wage for each haridresser is $w$.\n",
    "\n",
    "The demand for haircuts implies that the price of haircuts you can charge is $p_t = \\kappa_t y_t^{-\\eta}$, where $\\kappa_t$ is a demand-shock and $\\eta \\in (0,1)$ measures the elasticity of demand.\n",
    "\n",
    "Profits are:\n",
    "\n",
    "$$\n",
    "\\Pi_t = p_t y_t - w \\ell_t = \\kappa_t \\ell_t^{1-\\eta} - w \\ell_t\n",
    "$$"
   ]
  },
  {
   "attachments": {},
   "cell_type": "markdown",
   "metadata": {},
   "source": [
    "Baseline parameters are:\n",
    "- $\\eta = 0.5$\n",
    "- $w = 1.0$"
   ]
  },
  {
   "attachments": {},
   "cell_type": "markdown",
   "metadata": {},
   "source": [
    "**Question 1:** Verify numerically that $\\ell_{t}=\\left(\\frac{(1-\\eta)\\kappa_{t}}{w}\\right)^{\\frac{1}{\\eta}}$ maximises profits, for $\\kappa\\in\\left\\{1.0 , 2.0\\right\\}$."
   ]
  },
  {
   "cell_type": "code",
   "execution_count": 9,
   "metadata": {},
   "outputs": [],
   "source": [
    "# write your code here"
   ]
  },
  {
   "attachments": {},
   "cell_type": "markdown",
   "metadata": {},
   "source": [
    "We now consider a *dynamic* version of the model.\n",
    "\n",
    "* The demand-shock is a so-called AR(1) in logs, \n",
    "\n",
    "$$\n",
    "\\log \\kappa_{t} = \\rho \\log \\kappa_{t-1} + \\epsilon_{t},\\,\\,\\, \\epsilon_{t+1} \\sim \\mathcal{N}(-0.5\\sigma_{\\epsilon}^2,\\sigma_{\\epsilon})\n",
    "$$\n",
    "\n",
    "* Any hiring or firing implies a fixed adjustment cost, $\\iota > 0 $.\n",
    "* Future profits are discounted with a monthly factor of $R \\in (0,1)$.\n",
    "\n",
    "The initial demand shock is $\\kappa_{-1} = 1$ and the planning horizon is 10 years, i.e. 120 months so $t \\in \\{0,1,2,\\dots,119\\}$. Initially you don't have any employees, $\\ell_{-1}=0$"
   ]
  },
  {
   "attachments": {},
   "cell_type": "markdown",
   "metadata": {},
   "source": [
    "\n",
    "The *ex post* value of the salon is *conditional* on the shock series is:\n",
    "\n",
    "$$\n",
    "h(\\epsilon_0,\\epsilon_1,\\dots,\\epsilon_{119}) = \\left[\\sum_{t=0}^{119}R^{-t}\\left[\\kappa_{t}\\ell_{t}^{1-\\eta}-w\\ell_{t}-\\boldsymbol{1}_{\\ell_{t}\\neq\\ell_{t-1}}\\iota\\right]\\right]\n",
    "$$\n",
    "\n",
    "The *ex ante* expected value of the salon can be approximated by\n",
    "\n",
    "$$\n",
    "H = \\mathbb{E}[h(\\epsilon_0,\\epsilon_1,\\dots,\\epsilon_{119})] \\approx \\frac{1}{K}\\sum_{k=0}^{K} h(\\epsilon_0^k,\\epsilon_1^k,\\dots,\\epsilon_{119}^k)\n",
    "$$\n",
    "\n",
    "where each $k\\in\\{0,1,\\dots,K-1\\}$ is a random shock series. Maximizing profitability means maximizing $H$.\n"
   ]
  },
  {
   "attachments": {},
   "cell_type": "markdown",
   "metadata": {},
   "source": [
    "Baseline parameters are: \n",
    "\n",
    "- $\\rho = 0.90$\n",
    "- $\\iota = 0.01$\n",
    "- $\\sigma_{\\epsilon} = 0.10$\n",
    "- $R = \\left(1+0.01\\right)^{1/12}$"
   ]
  },
  {
   "attachments": {},
   "cell_type": "markdown",
   "metadata": {},
   "source": [
    "**Question 2:** Calculate $H$ if the policy  $\\ell_{t}=\\left(\\frac{(1-\\eta)\\kappa_{t}}{w}\\right)^{\\frac{1}{\\eta}}$ from question 1 is followed. Choose $K$ so the approximation is good enough to not affect your results substantially."
   ]
  },
  {
   "cell_type": "code",
   "execution_count": 10,
   "metadata": {},
   "outputs": [],
   "source": [
    "# write your code here "
   ]
  },
  {
   "attachments": {},
   "cell_type": "markdown",
   "metadata": {},
   "source": [
    "Next, we consider policies on the form:\n",
    "\n",
    "$$\n",
    "\n",
    "\\ell_{t}=\\begin{cases}\n",
    "\\ell_t^{\\ast}  & \\text{if }\\left|\\ell_{t-1}-\\ell_t^{\\ast} \\right|>\\Delta\\\\\n",
    "\\ell_{t-1} & \\text{else }\n",
    "\\end{cases}\n",
    "\\\\\n",
    "\\text{where}\\,\\,\\ell_t^{\\ast} = \\left(\\frac{(1-\\eta)\\kappa_{t}}{w}\\right)^{\\frac{1}{\\eta}} \\\\\n",
    "\n",
    "$$\n",
    "With $\\Delta \\geq 0$ and $\\Delta = 0$ being the previous policy.\n"
   ]
  },
  {
   "attachments": {},
   "cell_type": "markdown",
   "metadata": {},
   "source": [
    "\n",
    "**Question 3:** Calculate $H$ if the policy above was followed with $\\Delta = 0.05$. Does it improve profitability?"
   ]
  },
  {
   "cell_type": "code",
   "execution_count": 11,
   "metadata": {},
   "outputs": [],
   "source": [
    "# write your code here"
   ]
  },
  {
   "attachments": {},
   "cell_type": "markdown",
   "metadata": {},
   "source": [
    "**Question 4:** Find the optimal $\\Delta$ maximizing $H$. Illustrate your result."
   ]
  },
  {
   "cell_type": "code",
   "execution_count": 12,
   "metadata": {},
   "outputs": [],
   "source": [
    "# write your code here"
   ]
  },
  {
   "attachments": {},
   "cell_type": "markdown",
   "metadata": {},
   "source": [
    "\n",
    "**Question 5:** Suggest an alternative policy you believe might improve profitability. Implement and test your policy.\n",
    "\n"
   ]
  },
  {
   "cell_type": "code",
   "execution_count": 13,
   "metadata": {},
   "outputs": [],
   "source": [
    "# write your code here"
   ]
  },
  {
   "attachments": {},
   "cell_type": "markdown",
   "metadata": {},
   "source": [
    "## 3. <a id='toc3_'></a>[Problem 3: Global optimizer with refined multi-start](#toc0_)"
   ]
  },
  {
   "attachments": {},
   "cell_type": "markdown",
   "metadata": {},
   "source": [
    "We consider the Griewank function:\n",
    "\n",
    "$$ f(\\boldsymbol{x}) = \\sum^n_{i=1} \\frac{x^2_i}{4000}-\\prod^n_{i=1}\\cos\\left(\\frac{x_i}{\\sqrt{i}}\\right)+1$$\n",
    "\n",
    "The **global minimum** of this function is $f(0,0) = 0$ (remember: $\\cos(0)=1$).<br>\n",
    "But the function also have a lot of **local minima**."
   ]
  },
  {
   "cell_type": "code",
   "execution_count": 14,
   "metadata": {},
   "outputs": [],
   "source": [
    "def griewank(x):\n",
    "    return griewank_(x[0],x[1])\n",
    "    \n",
    "def griewank_(x1,x2):\n",
    "    A = x1**2/4000 + x2**2/4000\n",
    "    B = np.cos(x1/np.sqrt(1))*np.cos(x2/np.sqrt(2))\n",
    "    return A-B+1"
   ]
  },
  {
   "attachments": {},
   "cell_type": "markdown",
   "metadata": {},
   "source": [
    "A **refined global optimizer with multi-start** is:\n",
    "\n",
    "1. Choose *bounds* for $\\mathbf{x}$ and *tolerance* $\\tau > 0$.\n",
    "2. Choose number of *warm-up iterations*, $\\underline{K} > 0$ and *maximum number of iterations*, $K > \\underline{K}$.\n",
    "3. In each iteration for $k \\in \\{0,1,\\dots,K-1\\}$:\n",
    "\n",
    "    A. Draw random $\\mathbf{x}^k$ uniformly within chosen bounds.\n",
    "\n",
    "    B. If $k < \\underline{K}$ go to step E.\n",
    "\n",
    "    C. Calculate $\\chi^k = 0.50\\cdot\\frac{2}{1+\\exp((k-\\underline{K})/100)}$  \n",
    "\n",
    "    D. Set $\\mathbf{x}^{k0} = \\chi^k \\mathbf{x}^k + (1-\\chi^k)\\mathbf{x}^{\\ast} $\n",
    "\n",
    "    E. Run optimizer with $\\mathbf{x}^{k0}$ as initial guess and $\\mathbf{x}^{k\\ast}$ as result.\n",
    "\n",
    "    F. Set $\\mathbf{x}^{\\ast} = \\mathbf{x}^{k\\ast}$ if $k = 0$ or $f(\\mathbf{x}^{k\\ast}) < f(\\mathbf{x}^{\\ast})$\n",
    "\n",
    "    G. If $f(\\mathbf{x}^{\\ast}) < \\tau$ go to step 4.\n",
    "\n",
    "4. Return the result $\\mathbf{x}^{\\ast}$."
   ]
  },
  {
   "attachments": {},
   "cell_type": "markdown",
   "metadata": {},
   "source": [
    "As settings we choose:\n",
    "\n",
    "* $x_1,x_2 \\in  [-600,600]$\n",
    "* $\\tau = 10^{-8}$\n",
    "* $\\underline{K}=10$\n",
    "* $K=1000$\n",
    "\n",
    "The optimizer in Step 3.E is `BFGS` with a tolerance of $\\tau$."
   ]
  },
  {
   "attachments": {},
   "cell_type": "markdown",
   "metadata": {},
   "source": [
    "**Question 1:** Implement the refined global optimizer with multi-start. Illustrate how the effective initial guesses $\\mathbf{x}^{k0}$ vary with the iteration counter $k$."
   ]
  },
  {
   "cell_type": "code",
   "execution_count": 15,
   "metadata": {},
   "outputs": [],
   "source": [
    "# write your code here"
   ]
  },
  {
   "attachments": {},
   "cell_type": "markdown",
   "metadata": {},
   "source": [
    "**Question 2:** Is it a better idea to set $\\underline{K} = 100$? Is the convergence faster?"
   ]
  },
  {
   "cell_type": "code",
   "execution_count": 16,
   "metadata": {},
   "outputs": [],
   "source": [
    "# write your code here"
   ]
  }
 ],
 "metadata": {
  "kernelspec": {
   "display_name": "base",
   "language": "python",
   "name": "python3"
  },
  "language_info": {
   "codemirror_mode": {
    "name": "ipython",
    "version": 3
   },
   "file_extension": ".py",
   "mimetype": "text/x-python",
   "name": "python",
   "nbconvert_exporter": "python",
   "pygments_lexer": "ipython3",
   "version": "3.10.9"
  },
  "orig_nbformat": 4
 },
 "nbformat": 4,
 "nbformat_minor": 2
}
